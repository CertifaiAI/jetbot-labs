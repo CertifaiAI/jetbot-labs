{
 "cells": [
  {
   "cell_type": "markdown",
   "metadata": {},
   "source": [
    "# Basic Motion\n",
    "\n",
    "Welcome to Day 1 of the Jetbot Course Material Hands-On, This document is called a *Jupyter Notebook* which allows for a combination of text, codes and graphic displays all in one. Throughout the course, all the hands-on material will be conducted here on the Jupyter Notebook. Good luck and happy studying!\n",
    "\n",
    "In this notebook we will cover the basics of controlling the Jetbot"
   ]
  },
  {
   "cell_type": "markdown",
   "metadata": {},
   "source": [
    "### Import the Robot class\n",
    "\n",
    "To get started on programming basic motions on Jetbot, we'll first need to import the jetbot class, This class is contained in the Jetbot package and will allow us to easily control the robot's motors! "
   ]
  },
  {
   "cell_type": "code",
   "execution_count": null,
   "metadata": {},
   "outputs": [],
   "source": [
    "from jetbot import Robot"
   ]
  },
  {
   "cell_type": "markdown",
   "metadata": {},
   "source": [
    "Now that we have imported the class, we can now initialize the class instance as follows"
   ]
  },
  {
   "cell_type": "code",
   "execution_count": null,
   "metadata": {},
   "outputs": [],
   "source": [
    "robot = Robot()"
   ]
  },
  {
   "cell_type": "markdown",
   "metadata": {},
   "source": [
    "### Commanding the robot\n",
    "\n",
    "Now that we've created our Robot instance which we named \"robot\", we can now use this instance to control the robot. \n",
    "\n",
    "Before that, let's import the python *time* package so that we can set the robot to run for a set period of time "
   ]
  },
  {
   "cell_type": "code",
   "execution_count": null,
   "metadata": {},
   "outputs": [],
   "source": [
    "import time"
   ]
  },
  {
   "cell_type": "markdown",
   "metadata": {},
   "source": [
    "To make the robot move forward for half a second at 30% of it's max speed, we can call the following command"
   ]
  },
  {
   "cell_type": "code",
   "execution_count": null,
   "metadata": {},
   "outputs": [],
   "source": [
    "robot.forward(speed=0.3)\n",
    "time.sleep(0.5)\n",
    "robot.stop()"
   ]
  },
  {
   "cell_type": "markdown",
   "metadata": {},
   "source": [
    "**TASK 1:** Create a new cell by highlighting this cell and clicking the + icon. Once you've done that, type in the code that will make the robot turn left at 50% speed for two seconds"
   ]
  },
  {
   "cell_type": "markdown",
   "metadata": {},
   "source": [
    "### Controlling the motors individually\n",
    "\n",
    "Now that we have seen how to control the robot using commands like *forward*, *backward*, *left* and *right*. What if we want to set each motor speed separately?\n",
    "\n",
    "1) Call the *set_motors* method. For example, we could set the left motor speed to 30% and the right motor speed to 60% using the following command"
   ]
  },
  {
   "cell_type": "code",
   "execution_count": null,
   "metadata": {},
   "outputs": [],
   "source": [
    "robot.set_motors(0.3,0.6)\n",
    "time.sleep(1.0)\n",
    "robot.stop()"
   ]
  },
  {
   "cell_type": "markdown",
   "metadata": {},
   "source": [
    "2) The second way of controlling the motors individually is by calling the *left_motor* and *right motor* attributes which are located at the Robot class and which are *Motor* class instances that contain a *value* attribute.\n",
    "\n",
    "This *value* attribute is also known as a traitlet and is able to generate *events* when assigned a new value."
   ]
  },
  {
   "cell_type": "code",
   "execution_count": null,
   "metadata": {},
   "outputs": [],
   "source": [
    "robot.left_motor.value = 0.3\n",
    "robot.right_motor.value = 0.6\n",
    "time.sleep(1.0)\n",
    "robot.left_motor.value = 0.0\n",
    "robot.right_motor.value = 0.0"
   ]
  },
  {
   "cell_type": "markdown",
   "metadata": {},
   "source": [
    "**TASK 2**: Create a function that will have the following commands on the Jetbot:\n",
    "1) Move forward for 3 seconds   \n",
    "2) Stop the robot   \n",
    "3) Reverse for 2 seconds   \n",
    "4) Turn left for 2 seconds        \n",
    "5) Continue forward for 5 seconds       \n",
    "6) Stop the robot     \n",
    "7) Finally, call that function!   "
   ]
  },
  {
   "cell_type": "markdown",
   "metadata": {},
   "source": [
    "### Task 3: Group Activity - Solving a maze\n",
    "\n",
    "In groups of three, work together and write the code that would make the Jetbot move from the start of the maze up to the finish line! "
   ]
  },
  {
   "cell_type": "markdown",
   "metadata": {},
   "source": [
    "### Conclusion\n",
    "\n",
    "That's it for the example notebook for Day 1! Hopefully you now feel confident and are able to program your robot to move around :) "
   ]
  }
 ],
 "metadata": {
  "kernelspec": {
   "display_name": "Python 3",
   "language": "python",
   "name": "python3"
  },
  "language_info": {
   "codemirror_mode": {
    "name": "ipython",
    "version": 3
   },
   "file_extension": ".py",
   "mimetype": "text/x-python",
   "name": "python",
   "nbconvert_exporter": "python",
   "pygments_lexer": "ipython3",
   "version": "3.7.7"
  }
 },
 "nbformat": 4,
 "nbformat_minor": 4
}
