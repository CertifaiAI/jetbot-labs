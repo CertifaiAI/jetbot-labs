{
 "cells": [
  {
   "cell_type": "markdown",
   "metadata": {
    "id": "i5OW4csoRjXr"
   },
   "source": [
    "# Part 2 - Classification with PyTorch"
   ]
  },
  {
   "cell_type": "code",
   "execution_count": null,
   "metadata": {
    "executionInfo": {
     "elapsed": 4676,
     "status": "ok",
     "timestamp": 1610003302662,
     "user": {
      "displayName": "Deven Yantis (Deven)",
      "photoUrl": "https://lh3.googleusercontent.com/a-/AOh14GhvP5W8J7Hz2cWKHBt4UCPzSoj0W1pWuf37hx8=s64",
      "userId": "03984650301693922870"
     },
     "user_tz": -480
    },
    "id": "0WcjqDImRf87"
   },
   "outputs": [],
   "source": [
    "import torch\r\n",
    "import torch.nn as nn\r\n",
    "import torch.nn.functional as F\r\n",
    "import torch.optim as optim\r\n",
    "import torchvision\r\n",
    "import matplotlib.pyplot as plt\r\n",
    "\r\n",
    "import warnings\r\n",
    "warnings.filterwarnings(\"ignore\")"
   ]
  },
  {
   "cell_type": "markdown",
   "metadata": {
    "id": "10LsEe7QhMRP"
   },
   "source": [
    "## Hyperparameters"
   ]
  },
  {
   "cell_type": "code",
   "execution_count": null,
   "metadata": {
    "executionInfo": {
     "elapsed": 1098,
     "status": "ok",
     "timestamp": 1610003296875,
     "user": {
      "displayName": "Deven Yantis (Deven)",
      "photoUrl": "https://lh3.googleusercontent.com/a-/AOh14GhvP5W8J7Hz2cWKHBt4UCPzSoj0W1pWuf37hx8=s64",
      "userId": "03984650301693922870"
     },
     "user_tz": -480
    },
    "id": "e051WsvWPb9k"
   },
   "outputs": [],
   "source": [
    "device = 'cuda'\r\n",
    "n_epochs = 10\r\n",
    "batch_size_train = 128\r\n",
    "batch_size_test = 32\r\n",
    "learning_rate = 0.01\r\n",
    "momentum = 0.9"
   ]
  },
  {
   "cell_type": "markdown",
   "metadata": {
    "id": "beixi1tJOX2U"
   },
   "source": [
    "## Prepare FashionMNIST image dataset\r\n",
    "\r\n",
    "Using torchvision api to download MNIST data"
   ]
  },
  {
   "cell_type": "code",
   "execution_count": null,
   "metadata": {
    "colab": {
     "base_uri": "https://localhost:8080/",
     "height": 330,
     "referenced_widgets": [
      "72423e629ada49879d266c512d55cefb",
      "7c9b529bdb764d059ee08e8331803eff",
      "cb98ee8ef69f44e79a6d7ee8751d6ad6",
      "7246608513954feabb6bf5ba37d75e27",
      "8152babe8f55481893c4aee911560a83",
      "913a8a4e98734405b7ef7c990da8b16c",
      "6659dc6e96ec49368420eeeed621d081",
      "196ec828e6a24a57b4cf5c36fd176906",
      "f7667d876a7e4057b40cdc0d1d29ff78",
      "1a69a7cc4f13487cadcf0ab802460542",
      "fd07dbf74c034ba19d1dd1fa9f405a6a",
      "3396ff1b1cd14e3686cdf807e31e3de2",
      "a9820daed9ef4b7eb91b8f262caf3274",
      "178f4fb5942444b8afbf65bd6751e5fb",
      "7f482fe292b34bf3ae2d81db727d2bba",
      "5087c5a90bb045a8b73f0500f9ecc85e",
      "ce44b60d7a3448c08e153c03afe29fd3",
      "bc2adbb4597b4655ac344618439b6c2c",
      "2b69297c799845059eddc19aa0893f5a",
      "0be0b523a42b426cb3406493e80c8d2b",
      "241780ad349b432a9143c41a4a9dfcc5",
      "a267e9db564b43989f42ae4437f20b55",
      "97494c906927445aab84c9e8745fbb66",
      "fd061e9619a246ab8c261c908ebbde35",
      "9f86a5b2a9394e9d8d1dca1d1e309d07",
      "e2b86024a25c4756a9adf9b6010b1197",
      "0cbb7588de50442db102a6cb1df4f182",
      "8b5aa9f497ea4dd9a851f05923355855",
      "bf2c6331979847a8a30e6fd3f4cba91a",
      "7412e1f3492a479194fd7994c1ff6867",
      "90bd23953cbb4b14882d217eaff7a819",
      "296fa2b4e5614e20a5e8132affce95ca"
     ]
    },
    "executionInfo": {
     "elapsed": 6410,
     "status": "ok",
     "timestamp": 1610003308078,
     "user": {
      "displayName": "Deven Yantis (Deven)",
      "photoUrl": "https://lh3.googleusercontent.com/a-/AOh14GhvP5W8J7Hz2cWKHBt4UCPzSoj0W1pWuf37hx8=s64",
      "userId": "03984650301693922870"
     },
     "user_tz": -480
    },
    "id": "ZFOUrJxwXsJi",
    "outputId": "11a9e5ca-a235-40f3-85ae-640d13da15f8"
   },
   "outputs": [],
   "source": [
    "transform = torchvision.transforms.Compose([\r\n",
    "        torchvision.transforms.ToTensor()\r\n",
    "    ])\r\n",
    "\r\n",
    "train_data = torchvision.datasets.FashionMNIST('./data', train=True, download=True,\r\n",
    "                                       transform=transform)\r\n",
    "validation_data = torchvision.datasets.FashionMNIST('./data', train=False, download=True,\r\n",
    "                                      transform=transform)\r\n",
    "\r\n",
    "train_loader = torch.utils.data.DataLoader(train_data, batch_size=batch_size_train, \r\n",
    "                                           shuffle=True)\r\n",
    "validation_loader = torch.utils.data.DataLoader(validation_data, batch_size=batch_size_test, \r\n",
    "                                           shuffle=True)"
   ]
  },
  {
   "cell_type": "markdown",
   "metadata": {
    "id": "AQaNIp60ObkF"
   },
   "source": [
    "## Define Model"
   ]
  },
  {
   "cell_type": "code",
   "execution_count": null,
   "metadata": {
    "executionInfo": {
     "elapsed": 2713,
     "status": "ok",
     "timestamp": 1610003308082,
     "user": {
      "displayName": "Deven Yantis (Deven)",
      "photoUrl": "https://lh3.googleusercontent.com/a-/AOh14GhvP5W8J7Hz2cWKHBt4UCPzSoj0W1pWuf37hx8=s64",
      "userId": "03984650301693922870"
     },
     "user_tz": -480
    },
    "id": "HQrG4ScyYtoo"
   },
   "outputs": [],
   "source": [
    "class Net(nn.Module):\r\n",
    "    def __init__(self):\r\n",
    "        super(Net, self).__init__()\r\n",
    "\r\n",
    "        self.fc1 = nn.Linear(784, 256)\r\n",
    "        self.fc2 = nn.Linear(256, 50)\r\n",
    "        self.fc3 = nn.Linear(50, 10)\r\n",
    "\r\n",
    "    def forward(self, x):\r\n",
    "        x = F.relu(self.fc1(x))\r\n",
    "        x = F.relu(self.fc2(x))\r\n",
    "        x = self.fc3(x)\r\n",
    "        return F.log_softmax(x)"
   ]
  },
  {
   "cell_type": "code",
   "execution_count": null,
   "metadata": {
    "executionInfo": {
     "elapsed": 11461,
     "status": "ok",
     "timestamp": 1610003321689,
     "user": {
      "displayName": "Deven Yantis (Deven)",
      "photoUrl": "https://lh3.googleusercontent.com/a-/AOh14GhvP5W8J7Hz2cWKHBt4UCPzSoj0W1pWuf37hx8=s64",
      "userId": "03984650301693922870"
     },
     "user_tz": -480
    },
    "id": "8MhwUtzyOWgY"
   },
   "outputs": [],
   "source": [
    "# Initialize model and send to GPU\r\n",
    "network = Net().to(device)\r\n",
    "\r\n",
    "# Set algorithm for parameter update\r\n",
    "optimizer = optim.SGD(network.parameters(), lr=learning_rate, momentum=momentum)"
   ]
  },
  {
   "cell_type": "markdown",
   "metadata": {
    "id": "B_F7M1hJOeDy"
   },
   "source": [
    "## Train Model"
   ]
  },
  {
   "cell_type": "code",
   "execution_count": null,
   "metadata": {
    "executionInfo": {
     "elapsed": 5133,
     "status": "ok",
     "timestamp": 1610003321693,
     "user": {
      "displayName": "Deven Yantis (Deven)",
      "photoUrl": "https://lh3.googleusercontent.com/a-/AOh14GhvP5W8J7Hz2cWKHBt4UCPzSoj0W1pWuf37hx8=s64",
      "userId": "03984650301693922870"
     },
     "user_tz": -480
    },
    "id": "DnBwAdMxZ6Mu"
   },
   "outputs": [],
   "source": [
    "# Almost the same format with training loop.\r\n",
    "# But, without .backward(), .step()\r\n",
    "# Also using different data loader.\r\n",
    "def evaluate():\r\n",
    "    network.eval()\r\n",
    "    val_loss, correct = 0, 0\r\n",
    "    with torch.no_grad():\r\n",
    "        for data, target in validation_loader:\r\n",
    "            data, target = data.to(device), target.to(device)\r\n",
    "            data = data.view(data.shape[0], -1)\r\n",
    "            output = network(data)\r\n",
    "            val_loss += F.nll_loss(output, target, size_average=False).item() \r\n",
    "            \r\n",
    "            pred = output.data.max(1, keepdim=True)[1]\r\n",
    "            correct += pred.eq(target.data.view_as(pred)).sum()\r\n",
    "    val_loss /= len(validation_loader.dataset)\r\n",
    "    val_losses.append(val_loss)\r\n",
    "    print('\\nValidation set: Avg. loss: {:.4f}, Accuracy: {}/{} ({:.0f}%)\\n'.format(\r\n",
    "        val_loss, correct, len(validation_loader.dataset),\r\n",
    "        100. * correct / len(validation_loader.dataset)))"
   ]
  },
  {
   "cell_type": "code",
   "execution_count": null,
   "metadata": {
    "colab": {
     "base_uri": "https://localhost:8080/"
    },
    "executionInfo": {
     "elapsed": 629,
     "status": "ok",
     "timestamp": 1610003323362,
     "user": {
      "displayName": "Deven Yantis (Deven)",
      "photoUrl": "https://lh3.googleusercontent.com/a-/AOh14GhvP5W8J7Hz2cWKHBt4UCPzSoj0W1pWuf37hx8=s64",
      "userId": "03984650301693922870"
     },
     "user_tz": -480
    },
    "id": "lX3w9Vo-EhBs",
    "outputId": "0fd41ae2-afad-47a4-d41e-94777ca521d0"
   },
   "outputs": [],
   "source": [
    "network"
   ]
  },
  {
   "cell_type": "code",
   "execution_count": null,
   "metadata": {
    "executionInfo": {
     "elapsed": 1099,
     "status": "ok",
     "timestamp": 1610003325015,
     "user": {
      "displayName": "Deven Yantis (Deven)",
      "photoUrl": "https://lh3.googleusercontent.com/a-/AOh14GhvP5W8J7Hz2cWKHBt4UCPzSoj0W1pWuf37hx8=s64",
      "userId": "03984650301693922870"
     },
     "user_tz": -480
    },
    "id": "HwQGFw0-1JLn"
   },
   "outputs": [],
   "source": [
    "train_losses, train_counter, val_losses = [], [], []"
   ]
  },
  {
   "cell_type": "code",
   "execution_count": null,
   "metadata": {
    "colab": {
     "base_uri": "https://localhost:8080/"
    },
    "executionInfo": {
     "elapsed": 59613,
     "status": "ok",
     "timestamp": 1610003385155,
     "user": {
      "displayName": "Deven Yantis (Deven)",
      "photoUrl": "https://lh3.googleusercontent.com/a-/AOh14GhvP5W8J7Hz2cWKHBt4UCPzSoj0W1pWuf37hx8=s64",
      "userId": "03984650301693922870"
     },
     "user_tz": -480
    },
    "id": "MQttClGbaOrh",
    "outputId": "aa65fafb-1e0a-4f74-f338-7b3811d14acd"
   },
   "outputs": [],
   "source": [
    "for epoch in range(1, n_epochs + 1):\r\n",
    "\r\n",
    "    # Print training loss for every 10 batch\r\n",
    "    log_interval = 10\r\n",
    "\r\n",
    "    # Set model to training mode\r\n",
    "    # Change behavior of some layers like batchnorm, dropout, etc\r\n",
    "    network.train()\r\n",
    "\r\n",
    "    for batch_idx, (data, target) in enumerate(train_loader):\r\n",
    "\r\n",
    "        # Send tensor to specified device\r\n",
    "        # Default on CPU\r\n",
    "        # Sending them to GPU OR CUDA\r\n",
    "        data, target = data.to(device), target.to(device)\r\n",
    "\r\n",
    "        # Reset all gradient to zero after each iteration\r\n",
    "        # To prevent gradient accumulation\r\n",
    "        optimizer.zero_grad()\r\n",
    "\r\n",
    "        # # Change shape of input data to fit format of fully connected\r\n",
    "        data = data.view(data.shape[0], -1)\r\n",
    "\r\n",
    "        # Forward pass\r\n",
    "        output = network(data)\r\n",
    "        # Loss Calculation\r\n",
    "        loss = F.nll_loss(output, target)\r\n",
    "\r\n",
    "        # Calculate the update value for every parameters\r\n",
    "        # Does not update parameter value\r\n",
    "        loss.backward()\r\n",
    "\r\n",
    "        # Update all parameters according to the gradient value\r\n",
    "        optimizer.step()\r\n",
    "        \r\n",
    "        # Print training loss\r\n",
    "        if batch_idx % log_interval == 0:\r\n",
    "            print('Train Epoch: {} [{}/{} ({:.0f}%)]\\tLoss: {:.6f}'.format(\r\n",
    "                epoch, batch_idx * len(data), len(train_loader.dataset),\r\n",
    "                100. * batch_idx / len(train_loader), loss.item()))\r\n",
    "            train_losses.append(loss.item())\r\n",
    "            train_counter.append(\r\n",
    "                (batch_idx*64) + ((epoch-1)*len(train_loader.dataset)))\r\n",
    "\r\n",
    "    # Perform evaluation\r\n",
    "    evaluate()"
   ]
  },
  {
   "cell_type": "markdown",
   "metadata": {
    "id": "r93dTMK3PM4r"
   },
   "source": [
    "## View Evaluation"
   ]
  },
  {
   "cell_type": "code",
   "execution_count": null,
   "metadata": {
    "executionInfo": {
     "elapsed": 1126,
     "status": "ok",
     "timestamp": 1610003396764,
     "user": {
      "displayName": "Deven Yantis (Deven)",
      "photoUrl": "https://lh3.googleusercontent.com/a-/AOh14GhvP5W8J7Hz2cWKHBt4UCPzSoj0W1pWuf37hx8=s64",
      "userId": "03984650301693922870"
     },
     "user_tz": -480
    },
    "id": "a5MByWx0aUJ6"
   },
   "outputs": [],
   "source": [
    "# Evaluate on one batch only\r\n",
    "examples = enumerate(validation_loader)\r\n",
    "batch_idx, (example_data, example_targets) = next(examples)\r\n",
    "\r\n",
    "# To run model without performing grading parameters\r\n",
    "with torch.no_grad():\r\n",
    "\r\n",
    "    # Prepare dataset\r\n",
    "    pred_data = example_data\r\n",
    "    pred_data = pred_data.view(pred_data.shape[0], -1)\r\n",
    "\r\n",
    "    # Set model to evaluation mode\r\n",
    "    network.eval()\r\n",
    "\r\n",
    "    # Inference\r\n",
    "    predictions = network(pred_data.to(device))\r\n",
    "\r\n",
    "    # Format predictions to get labels\r\n",
    "    predicted_labels = predictions.data.max(1, keepdim=True)[1].cpu().detach().numpy()"
   ]
  },
  {
   "cell_type": "code",
   "execution_count": null,
   "metadata": {
    "executionInfo": {
     "elapsed": 679,
     "status": "ok",
     "timestamp": 1610003397991,
     "user": {
      "displayName": "Deven Yantis (Deven)",
      "photoUrl": "https://lh3.googleusercontent.com/a-/AOh14GhvP5W8J7Hz2cWKHBt4UCPzSoj0W1pWuf37hx8=s64",
      "userId": "03984650301693922870"
     },
     "user_tz": -480
    },
    "id": "6TvjqLW0S0xc"
   },
   "outputs": [],
   "source": [
    "fashion_labels = [\"T-shirt/top\", \"Trouser\", \"Pullover\", \r\n",
    "                  \"Dress\", \"Coat\", \"Sandal\", \"Shirt\", \r\n",
    "                  \"Sneaker\", \"Bag\", \"Ankle boot\"]"
   ]
  },
  {
   "cell_type": "code",
   "execution_count": null,
   "metadata": {
    "colab": {
     "base_uri": "https://localhost:8080/",
     "height": 551
    },
    "executionInfo": {
     "elapsed": 1496,
     "status": "ok",
     "timestamp": 1610003400073,
     "user": {
      "displayName": "Deven Yantis (Deven)",
      "photoUrl": "https://lh3.googleusercontent.com/a-/AOh14GhvP5W8J7Hz2cWKHBt4UCPzSoj0W1pWuf37hx8=s64",
      "userId": "03984650301693922870"
     },
     "user_tz": -480
    },
    "id": "SV07wsuMcwiz",
    "outputId": "2849c98c-4c9f-4c5b-9aa6-2db841b9937f"
   },
   "outputs": [],
   "source": [
    "fig = plt.figure()\r\n",
    "for i in range(6):\r\n",
    "    plt.subplot(2,3,i+1)\r\n",
    "    plt.tight_layout()\r\n",
    "    plt.imshow(example_data[i][0], cmap='gray', interpolation='none')\r\n",
    "    plt.title(\"Predicted: {}\".format(fashion_labels[predicted_labels[i][0]]))\r\n",
    "    plt.xticks([])\r\n",
    "    plt.yticks([])\r\n",
    "fig"
   ]
  },
  {
   "cell_type": "markdown",
   "metadata": {
    "id": "_u-cIpPrSyve"
   },
   "source": [
    "### View model weights"
   ]
  },
  {
   "cell_type": "code",
   "execution_count": null,
   "metadata": {
    "colab": {
     "base_uri": "https://localhost:8080/"
    },
    "executionInfo": {
     "elapsed": 1039,
     "status": "ok",
     "timestamp": 1610003404667,
     "user": {
      "displayName": "Deven Yantis (Deven)",
      "photoUrl": "https://lh3.googleusercontent.com/a-/AOh14GhvP5W8J7Hz2cWKHBt4UCPzSoj0W1pWuf37hx8=s64",
      "userId": "03984650301693922870"
     },
     "user_tz": -480
    },
    "id": "xN_tmEVqS5-G",
    "outputId": "9fd60cb2-1bc2-41f3-fef2-d7e81850412a"
   },
   "outputs": [],
   "source": [
    "for name, param in network.state_dict().items():\r\n",
    "    print(\"Layer: \", name)\r\n",
    "    print(param)\r\n",
    "    print()"
   ]
  },
  {
   "cell_type": "code",
   "execution_count": null,
   "metadata": {
    "id": "ofzrYdzqVAY4"
   },
   "outputs": [],
   "source": []
  }
 ],
 "metadata": {
  "accelerator": "GPU",
  "colab": {
   "name": "Answer - Classification Hands on.ipynb",
   "provenance": []
  },
  "kernelspec": {
   "display_name": "Python 3",
   "language": "python",
   "name": "python3"
  },
  "language_info": {
   "codemirror_mode": {
    "name": "ipython",
    "version": 3
   },
   "file_extension": ".py",
   "mimetype": "text/x-python",
   "name": "python",
   "nbconvert_exporter": "python",
   "pygments_lexer": "ipython3",
   "version": "3.7.7"
  },
  "widgets": {
   "application/vnd.jupyter.widget-state+json": {
    "0be0b523a42b426cb3406493e80c8d2b": {
     "model_module": "@jupyter-widgets/controls",
     "model_name": "HTMLModel",
     "state": {
      "_dom_classes": [],
      "_model_module": "@jupyter-widgets/controls",
      "_model_module_version": "1.5.0",
      "_model_name": "HTMLModel",
      "_view_count": null,
      "_view_module": "@jupyter-widgets/controls",
      "_view_module_version": "1.5.0",
      "_view_name": "HTMLView",
      "description": "",
      "description_tooltip": null,
      "layout": "IPY_MODEL_fd061e9619a246ab8c261c908ebbde35",
      "placeholder": "​",
      "style": "IPY_MODEL_97494c906927445aab84c9e8745fbb66",
      "value": " 4423680/? [00:16&lt;00:00, 781474.46it/s]"
     }
    },
    "0cbb7588de50442db102a6cb1df4f182": {
     "model_module": "@jupyter-widgets/controls",
     "model_name": "FloatProgressModel",
     "state": {
      "_dom_classes": [],
      "_model_module": "@jupyter-widgets/controls",
      "_model_module_version": "1.5.0",
      "_model_name": "FloatProgressModel",
      "_view_count": null,
      "_view_module": "@jupyter-widgets/controls",
      "_view_module_version": "1.5.0",
      "_view_name": "ProgressView",
      "bar_style": "info",
      "description": "  0%",
      "description_tooltip": null,
      "layout": "IPY_MODEL_7412e1f3492a479194fd7994c1ff6867",
      "max": 1,
      "min": 0,
      "orientation": "horizontal",
      "style": "IPY_MODEL_bf2c6331979847a8a30e6fd3f4cba91a",
      "value": 0
     }
    },
    "178f4fb5942444b8afbf65bd6751e5fb": {
     "model_module": "@jupyter-widgets/base",
     "model_name": "LayoutModel",
     "state": {
      "_model_module": "@jupyter-widgets/base",
      "_model_module_version": "1.2.0",
      "_model_name": "LayoutModel",
      "_view_count": null,
      "_view_module": "@jupyter-widgets/base",
      "_view_module_version": "1.2.0",
      "_view_name": "LayoutView",
      "align_content": null,
      "align_items": null,
      "align_self": null,
      "border": null,
      "bottom": null,
      "display": null,
      "flex": null,
      "flex_flow": null,
      "grid_area": null,
      "grid_auto_columns": null,
      "grid_auto_flow": null,
      "grid_auto_rows": null,
      "grid_column": null,
      "grid_gap": null,
      "grid_row": null,
      "grid_template_areas": null,
      "grid_template_columns": null,
      "grid_template_rows": null,
      "height": null,
      "justify_content": null,
      "justify_items": null,
      "left": null,
      "margin": null,
      "max_height": null,
      "max_width": null,
      "min_height": null,
      "min_width": null,
      "object_fit": null,
      "object_position": null,
      "order": null,
      "overflow": null,
      "overflow_x": null,
      "overflow_y": null,
      "padding": null,
      "right": null,
      "top": null,
      "visibility": null,
      "width": null
     }
    },
    "196ec828e6a24a57b4cf5c36fd176906": {
     "model_module": "@jupyter-widgets/base",
     "model_name": "LayoutModel",
     "state": {
      "_model_module": "@jupyter-widgets/base",
      "_model_module_version": "1.2.0",
      "_model_name": "LayoutModel",
      "_view_count": null,
      "_view_module": "@jupyter-widgets/base",
      "_view_module_version": "1.2.0",
      "_view_name": "LayoutView",
      "align_content": null,
      "align_items": null,
      "align_self": null,
      "border": null,
      "bottom": null,
      "display": null,
      "flex": null,
      "flex_flow": null,
      "grid_area": null,
      "grid_auto_columns": null,
      "grid_auto_flow": null,
      "grid_auto_rows": null,
      "grid_column": null,
      "grid_gap": null,
      "grid_row": null,
      "grid_template_areas": null,
      "grid_template_columns": null,
      "grid_template_rows": null,
      "height": null,
      "justify_content": null,
      "justify_items": null,
      "left": null,
      "margin": null,
      "max_height": null,
      "max_width": null,
      "min_height": null,
      "min_width": null,
      "object_fit": null,
      "object_position": null,
      "order": null,
      "overflow": null,
      "overflow_x": null,
      "overflow_y": null,
      "padding": null,
      "right": null,
      "top": null,
      "visibility": null,
      "width": null
     }
    },
    "1a69a7cc4f13487cadcf0ab802460542": {
     "model_module": "@jupyter-widgets/base",
     "model_name": "LayoutModel",
     "state": {
      "_model_module": "@jupyter-widgets/base",
      "_model_module_version": "1.2.0",
      "_model_name": "LayoutModel",
      "_view_count": null,
      "_view_module": "@jupyter-widgets/base",
      "_view_module_version": "1.2.0",
      "_view_name": "LayoutView",
      "align_content": null,
      "align_items": null,
      "align_self": null,
      "border": null,
      "bottom": null,
      "display": null,
      "flex": null,
      "flex_flow": null,
      "grid_area": null,
      "grid_auto_columns": null,
      "grid_auto_flow": null,
      "grid_auto_rows": null,
      "grid_column": null,
      "grid_gap": null,
      "grid_row": null,
      "grid_template_areas": null,
      "grid_template_columns": null,
      "grid_template_rows": null,
      "height": null,
      "justify_content": null,
      "justify_items": null,
      "left": null,
      "margin": null,
      "max_height": null,
      "max_width": null,
      "min_height": null,
      "min_width": null,
      "object_fit": null,
      "object_position": null,
      "order": null,
      "overflow": null,
      "overflow_x": null,
      "overflow_y": null,
      "padding": null,
      "right": null,
      "top": null,
      "visibility": null,
      "width": null
     }
    },
    "241780ad349b432a9143c41a4a9dfcc5": {
     "model_module": "@jupyter-widgets/controls",
     "model_name": "ProgressStyleModel",
     "state": {
      "_model_module": "@jupyter-widgets/controls",
      "_model_module_version": "1.5.0",
      "_model_name": "ProgressStyleModel",
      "_view_count": null,
      "_view_module": "@jupyter-widgets/base",
      "_view_module_version": "1.2.0",
      "_view_name": "StyleView",
      "bar_color": null,
      "description_width": "initial"
     }
    },
    "296fa2b4e5614e20a5e8132affce95ca": {
     "model_module": "@jupyter-widgets/base",
     "model_name": "LayoutModel",
     "state": {
      "_model_module": "@jupyter-widgets/base",
      "_model_module_version": "1.2.0",
      "_model_name": "LayoutModel",
      "_view_count": null,
      "_view_module": "@jupyter-widgets/base",
      "_view_module_version": "1.2.0",
      "_view_name": "LayoutView",
      "align_content": null,
      "align_items": null,
      "align_self": null,
      "border": null,
      "bottom": null,
      "display": null,
      "flex": null,
      "flex_flow": null,
      "grid_area": null,
      "grid_auto_columns": null,
      "grid_auto_flow": null,
      "grid_auto_rows": null,
      "grid_column": null,
      "grid_gap": null,
      "grid_row": null,
      "grid_template_areas": null,
      "grid_template_columns": null,
      "grid_template_rows": null,
      "height": null,
      "justify_content": null,
      "justify_items": null,
      "left": null,
      "margin": null,
      "max_height": null,
      "max_width": null,
      "min_height": null,
      "min_width": null,
      "object_fit": null,
      "object_position": null,
      "order": null,
      "overflow": null,
      "overflow_x": null,
      "overflow_y": null,
      "padding": null,
      "right": null,
      "top": null,
      "visibility": null,
      "width": null
     }
    },
    "2b69297c799845059eddc19aa0893f5a": {
     "model_module": "@jupyter-widgets/controls",
     "model_name": "FloatProgressModel",
     "state": {
      "_dom_classes": [],
      "_model_module": "@jupyter-widgets/controls",
      "_model_module_version": "1.5.0",
      "_model_name": "FloatProgressModel",
      "_view_count": null,
      "_view_module": "@jupyter-widgets/controls",
      "_view_module_version": "1.5.0",
      "_view_name": "ProgressView",
      "bar_style": "info",
      "description": "",
      "description_tooltip": null,
      "layout": "IPY_MODEL_a267e9db564b43989f42ae4437f20b55",
      "max": 1,
      "min": 0,
      "orientation": "horizontal",
      "style": "IPY_MODEL_241780ad349b432a9143c41a4a9dfcc5",
      "value": 1
     }
    },
    "3396ff1b1cd14e3686cdf807e31e3de2": {
     "model_module": "@jupyter-widgets/controls",
     "model_name": "HTMLModel",
     "state": {
      "_dom_classes": [],
      "_model_module": "@jupyter-widgets/controls",
      "_model_module_version": "1.5.0",
      "_model_name": "HTMLModel",
      "_view_count": null,
      "_view_module": "@jupyter-widgets/controls",
      "_view_module_version": "1.5.0",
      "_view_name": "HTMLView",
      "description": "",
      "description_tooltip": null,
      "layout": "IPY_MODEL_5087c5a90bb045a8b73f0500f9ecc85e",
      "placeholder": "​",
      "style": "IPY_MODEL_7f482fe292b34bf3ae2d81db727d2bba",
      "value": " 32768/? [00:00&lt;00:00, 66565.03it/s]"
     }
    },
    "5087c5a90bb045a8b73f0500f9ecc85e": {
     "model_module": "@jupyter-widgets/base",
     "model_name": "LayoutModel",
     "state": {
      "_model_module": "@jupyter-widgets/base",
      "_model_module_version": "1.2.0",
      "_model_name": "LayoutModel",
      "_view_count": null,
      "_view_module": "@jupyter-widgets/base",
      "_view_module_version": "1.2.0",
      "_view_name": "LayoutView",
      "align_content": null,
      "align_items": null,
      "align_self": null,
      "border": null,
      "bottom": null,
      "display": null,
      "flex": null,
      "flex_flow": null,
      "grid_area": null,
      "grid_auto_columns": null,
      "grid_auto_flow": null,
      "grid_auto_rows": null,
      "grid_column": null,
      "grid_gap": null,
      "grid_row": null,
      "grid_template_areas": null,
      "grid_template_columns": null,
      "grid_template_rows": null,
      "height": null,
      "justify_content": null,
      "justify_items": null,
      "left": null,
      "margin": null,
      "max_height": null,
      "max_width": null,
      "min_height": null,
      "min_width": null,
      "object_fit": null,
      "object_position": null,
      "order": null,
      "overflow": null,
      "overflow_x": null,
      "overflow_y": null,
      "padding": null,
      "right": null,
      "top": null,
      "visibility": null,
      "width": null
     }
    },
    "6659dc6e96ec49368420eeeed621d081": {
     "model_module": "@jupyter-widgets/controls",
     "model_name": "DescriptionStyleModel",
     "state": {
      "_model_module": "@jupyter-widgets/controls",
      "_model_module_version": "1.5.0",
      "_model_name": "DescriptionStyleModel",
      "_view_count": null,
      "_view_module": "@jupyter-widgets/base",
      "_view_module_version": "1.2.0",
      "_view_name": "StyleView",
      "description_width": ""
     }
    },
    "72423e629ada49879d266c512d55cefb": {
     "model_module": "@jupyter-widgets/controls",
     "model_name": "HBoxModel",
     "state": {
      "_dom_classes": [],
      "_model_module": "@jupyter-widgets/controls",
      "_model_module_version": "1.5.0",
      "_model_name": "HBoxModel",
      "_view_count": null,
      "_view_module": "@jupyter-widgets/controls",
      "_view_module_version": "1.5.0",
      "_view_name": "HBoxView",
      "box_style": "",
      "children": [
       "IPY_MODEL_cb98ee8ef69f44e79a6d7ee8751d6ad6",
       "IPY_MODEL_7246608513954feabb6bf5ba37d75e27"
      ],
      "layout": "IPY_MODEL_7c9b529bdb764d059ee08e8331803eff"
     }
    },
    "7246608513954feabb6bf5ba37d75e27": {
     "model_module": "@jupyter-widgets/controls",
     "model_name": "HTMLModel",
     "state": {
      "_dom_classes": [],
      "_model_module": "@jupyter-widgets/controls",
      "_model_module_version": "1.5.0",
      "_model_name": "HTMLModel",
      "_view_count": null,
      "_view_module": "@jupyter-widgets/controls",
      "_view_module_version": "1.5.0",
      "_view_name": "HTMLView",
      "description": "",
      "description_tooltip": null,
      "layout": "IPY_MODEL_196ec828e6a24a57b4cf5c36fd176906",
      "placeholder": "​",
      "style": "IPY_MODEL_6659dc6e96ec49368420eeeed621d081",
      "value": " 26427392/? [00:20&lt;00:00, 6933873.30it/s]"
     }
    },
    "7412e1f3492a479194fd7994c1ff6867": {
     "model_module": "@jupyter-widgets/base",
     "model_name": "LayoutModel",
     "state": {
      "_model_module": "@jupyter-widgets/base",
      "_model_module_version": "1.2.0",
      "_model_name": "LayoutModel",
      "_view_count": null,
      "_view_module": "@jupyter-widgets/base",
      "_view_module_version": "1.2.0",
      "_view_name": "LayoutView",
      "align_content": null,
      "align_items": null,
      "align_self": null,
      "border": null,
      "bottom": null,
      "display": null,
      "flex": null,
      "flex_flow": null,
      "grid_area": null,
      "grid_auto_columns": null,
      "grid_auto_flow": null,
      "grid_auto_rows": null,
      "grid_column": null,
      "grid_gap": null,
      "grid_row": null,
      "grid_template_areas": null,
      "grid_template_columns": null,
      "grid_template_rows": null,
      "height": null,
      "justify_content": null,
      "justify_items": null,
      "left": null,
      "margin": null,
      "max_height": null,
      "max_width": null,
      "min_height": null,
      "min_width": null,
      "object_fit": null,
      "object_position": null,
      "order": null,
      "overflow": null,
      "overflow_x": null,
      "overflow_y": null,
      "padding": null,
      "right": null,
      "top": null,
      "visibility": null,
      "width": null
     }
    },
    "7c9b529bdb764d059ee08e8331803eff": {
     "model_module": "@jupyter-widgets/base",
     "model_name": "LayoutModel",
     "state": {
      "_model_module": "@jupyter-widgets/base",
      "_model_module_version": "1.2.0",
      "_model_name": "LayoutModel",
      "_view_count": null,
      "_view_module": "@jupyter-widgets/base",
      "_view_module_version": "1.2.0",
      "_view_name": "LayoutView",
      "align_content": null,
      "align_items": null,
      "align_self": null,
      "border": null,
      "bottom": null,
      "display": null,
      "flex": null,
      "flex_flow": null,
      "grid_area": null,
      "grid_auto_columns": null,
      "grid_auto_flow": null,
      "grid_auto_rows": null,
      "grid_column": null,
      "grid_gap": null,
      "grid_row": null,
      "grid_template_areas": null,
      "grid_template_columns": null,
      "grid_template_rows": null,
      "height": null,
      "justify_content": null,
      "justify_items": null,
      "left": null,
      "margin": null,
      "max_height": null,
      "max_width": null,
      "min_height": null,
      "min_width": null,
      "object_fit": null,
      "object_position": null,
      "order": null,
      "overflow": null,
      "overflow_x": null,
      "overflow_y": null,
      "padding": null,
      "right": null,
      "top": null,
      "visibility": null,
      "width": null
     }
    },
    "7f482fe292b34bf3ae2d81db727d2bba": {
     "model_module": "@jupyter-widgets/controls",
     "model_name": "DescriptionStyleModel",
     "state": {
      "_model_module": "@jupyter-widgets/controls",
      "_model_module_version": "1.5.0",
      "_model_name": "DescriptionStyleModel",
      "_view_count": null,
      "_view_module": "@jupyter-widgets/base",
      "_view_module_version": "1.2.0",
      "_view_name": "StyleView",
      "description_width": ""
     }
    },
    "8152babe8f55481893c4aee911560a83": {
     "model_module": "@jupyter-widgets/controls",
     "model_name": "ProgressStyleModel",
     "state": {
      "_model_module": "@jupyter-widgets/controls",
      "_model_module_version": "1.5.0",
      "_model_name": "ProgressStyleModel",
      "_view_count": null,
      "_view_module": "@jupyter-widgets/base",
      "_view_module_version": "1.2.0",
      "_view_name": "StyleView",
      "bar_color": null,
      "description_width": "initial"
     }
    },
    "8b5aa9f497ea4dd9a851f05923355855": {
     "model_module": "@jupyter-widgets/controls",
     "model_name": "HTMLModel",
     "state": {
      "_dom_classes": [],
      "_model_module": "@jupyter-widgets/controls",
      "_model_module_version": "1.5.0",
      "_model_name": "HTMLModel",
      "_view_count": null,
      "_view_module": "@jupyter-widgets/controls",
      "_view_module_version": "1.5.0",
      "_view_name": "HTMLView",
      "description": "",
      "description_tooltip": null,
      "layout": "IPY_MODEL_296fa2b4e5614e20a5e8132affce95ca",
      "placeholder": "​",
      "style": "IPY_MODEL_90bd23953cbb4b14882d217eaff7a819",
      "value": " 0/5148 [00:00&lt;?, ?it/s]"
     }
    },
    "90bd23953cbb4b14882d217eaff7a819": {
     "model_module": "@jupyter-widgets/controls",
     "model_name": "DescriptionStyleModel",
     "state": {
      "_model_module": "@jupyter-widgets/controls",
      "_model_module_version": "1.5.0",
      "_model_name": "DescriptionStyleModel",
      "_view_count": null,
      "_view_module": "@jupyter-widgets/base",
      "_view_module_version": "1.2.0",
      "_view_name": "StyleView",
      "description_width": ""
     }
    },
    "913a8a4e98734405b7ef7c990da8b16c": {
     "model_module": "@jupyter-widgets/base",
     "model_name": "LayoutModel",
     "state": {
      "_model_module": "@jupyter-widgets/base",
      "_model_module_version": "1.2.0",
      "_model_name": "LayoutModel",
      "_view_count": null,
      "_view_module": "@jupyter-widgets/base",
      "_view_module_version": "1.2.0",
      "_view_name": "LayoutView",
      "align_content": null,
      "align_items": null,
      "align_self": null,
      "border": null,
      "bottom": null,
      "display": null,
      "flex": null,
      "flex_flow": null,
      "grid_area": null,
      "grid_auto_columns": null,
      "grid_auto_flow": null,
      "grid_auto_rows": null,
      "grid_column": null,
      "grid_gap": null,
      "grid_row": null,
      "grid_template_areas": null,
      "grid_template_columns": null,
      "grid_template_rows": null,
      "height": null,
      "justify_content": null,
      "justify_items": null,
      "left": null,
      "margin": null,
      "max_height": null,
      "max_width": null,
      "min_height": null,
      "min_width": null,
      "object_fit": null,
      "object_position": null,
      "order": null,
      "overflow": null,
      "overflow_x": null,
      "overflow_y": null,
      "padding": null,
      "right": null,
      "top": null,
      "visibility": null,
      "width": null
     }
    },
    "97494c906927445aab84c9e8745fbb66": {
     "model_module": "@jupyter-widgets/controls",
     "model_name": "DescriptionStyleModel",
     "state": {
      "_model_module": "@jupyter-widgets/controls",
      "_model_module_version": "1.5.0",
      "_model_name": "DescriptionStyleModel",
      "_view_count": null,
      "_view_module": "@jupyter-widgets/base",
      "_view_module_version": "1.2.0",
      "_view_name": "StyleView",
      "description_width": ""
     }
    },
    "9f86a5b2a9394e9d8d1dca1d1e309d07": {
     "model_module": "@jupyter-widgets/controls",
     "model_name": "HBoxModel",
     "state": {
      "_dom_classes": [],
      "_model_module": "@jupyter-widgets/controls",
      "_model_module_version": "1.5.0",
      "_model_name": "HBoxModel",
      "_view_count": null,
      "_view_module": "@jupyter-widgets/controls",
      "_view_module_version": "1.5.0",
      "_view_name": "HBoxView",
      "box_style": "",
      "children": [
       "IPY_MODEL_0cbb7588de50442db102a6cb1df4f182",
       "IPY_MODEL_8b5aa9f497ea4dd9a851f05923355855"
      ],
      "layout": "IPY_MODEL_e2b86024a25c4756a9adf9b6010b1197"
     }
    },
    "a267e9db564b43989f42ae4437f20b55": {
     "model_module": "@jupyter-widgets/base",
     "model_name": "LayoutModel",
     "state": {
      "_model_module": "@jupyter-widgets/base",
      "_model_module_version": "1.2.0",
      "_model_name": "LayoutModel",
      "_view_count": null,
      "_view_module": "@jupyter-widgets/base",
      "_view_module_version": "1.2.0",
      "_view_name": "LayoutView",
      "align_content": null,
      "align_items": null,
      "align_self": null,
      "border": null,
      "bottom": null,
      "display": null,
      "flex": null,
      "flex_flow": null,
      "grid_area": null,
      "grid_auto_columns": null,
      "grid_auto_flow": null,
      "grid_auto_rows": null,
      "grid_column": null,
      "grid_gap": null,
      "grid_row": null,
      "grid_template_areas": null,
      "grid_template_columns": null,
      "grid_template_rows": null,
      "height": null,
      "justify_content": null,
      "justify_items": null,
      "left": null,
      "margin": null,
      "max_height": null,
      "max_width": null,
      "min_height": null,
      "min_width": null,
      "object_fit": null,
      "object_position": null,
      "order": null,
      "overflow": null,
      "overflow_x": null,
      "overflow_y": null,
      "padding": null,
      "right": null,
      "top": null,
      "visibility": null,
      "width": null
     }
    },
    "a9820daed9ef4b7eb91b8f262caf3274": {
     "model_module": "@jupyter-widgets/controls",
     "model_name": "ProgressStyleModel",
     "state": {
      "_model_module": "@jupyter-widgets/controls",
      "_model_module_version": "1.5.0",
      "_model_name": "ProgressStyleModel",
      "_view_count": null,
      "_view_module": "@jupyter-widgets/base",
      "_view_module_version": "1.2.0",
      "_view_name": "StyleView",
      "bar_color": null,
      "description_width": "initial"
     }
    },
    "bc2adbb4597b4655ac344618439b6c2c": {
     "model_module": "@jupyter-widgets/base",
     "model_name": "LayoutModel",
     "state": {
      "_model_module": "@jupyter-widgets/base",
      "_model_module_version": "1.2.0",
      "_model_name": "LayoutModel",
      "_view_count": null,
      "_view_module": "@jupyter-widgets/base",
      "_view_module_version": "1.2.0",
      "_view_name": "LayoutView",
      "align_content": null,
      "align_items": null,
      "align_self": null,
      "border": null,
      "bottom": null,
      "display": null,
      "flex": null,
      "flex_flow": null,
      "grid_area": null,
      "grid_auto_columns": null,
      "grid_auto_flow": null,
      "grid_auto_rows": null,
      "grid_column": null,
      "grid_gap": null,
      "grid_row": null,
      "grid_template_areas": null,
      "grid_template_columns": null,
      "grid_template_rows": null,
      "height": null,
      "justify_content": null,
      "justify_items": null,
      "left": null,
      "margin": null,
      "max_height": null,
      "max_width": null,
      "min_height": null,
      "min_width": null,
      "object_fit": null,
      "object_position": null,
      "order": null,
      "overflow": null,
      "overflow_x": null,
      "overflow_y": null,
      "padding": null,
      "right": null,
      "top": null,
      "visibility": null,
      "width": null
     }
    },
    "bf2c6331979847a8a30e6fd3f4cba91a": {
     "model_module": "@jupyter-widgets/controls",
     "model_name": "ProgressStyleModel",
     "state": {
      "_model_module": "@jupyter-widgets/controls",
      "_model_module_version": "1.5.0",
      "_model_name": "ProgressStyleModel",
      "_view_count": null,
      "_view_module": "@jupyter-widgets/base",
      "_view_module_version": "1.2.0",
      "_view_name": "StyleView",
      "bar_color": null,
      "description_width": "initial"
     }
    },
    "cb98ee8ef69f44e79a6d7ee8751d6ad6": {
     "model_module": "@jupyter-widgets/controls",
     "model_name": "FloatProgressModel",
     "state": {
      "_dom_classes": [],
      "_model_module": "@jupyter-widgets/controls",
      "_model_module_version": "1.5.0",
      "_model_name": "FloatProgressModel",
      "_view_count": null,
      "_view_module": "@jupyter-widgets/controls",
      "_view_module_version": "1.5.0",
      "_view_name": "ProgressView",
      "bar_style": "info",
      "description": "",
      "description_tooltip": null,
      "layout": "IPY_MODEL_913a8a4e98734405b7ef7c990da8b16c",
      "max": 1,
      "min": 0,
      "orientation": "horizontal",
      "style": "IPY_MODEL_8152babe8f55481893c4aee911560a83",
      "value": 1
     }
    },
    "ce44b60d7a3448c08e153c03afe29fd3": {
     "model_module": "@jupyter-widgets/controls",
     "model_name": "HBoxModel",
     "state": {
      "_dom_classes": [],
      "_model_module": "@jupyter-widgets/controls",
      "_model_module_version": "1.5.0",
      "_model_name": "HBoxModel",
      "_view_count": null,
      "_view_module": "@jupyter-widgets/controls",
      "_view_module_version": "1.5.0",
      "_view_name": "HBoxView",
      "box_style": "",
      "children": [
       "IPY_MODEL_2b69297c799845059eddc19aa0893f5a",
       "IPY_MODEL_0be0b523a42b426cb3406493e80c8d2b"
      ],
      "layout": "IPY_MODEL_bc2adbb4597b4655ac344618439b6c2c"
     }
    },
    "e2b86024a25c4756a9adf9b6010b1197": {
     "model_module": "@jupyter-widgets/base",
     "model_name": "LayoutModel",
     "state": {
      "_model_module": "@jupyter-widgets/base",
      "_model_module_version": "1.2.0",
      "_model_name": "LayoutModel",
      "_view_count": null,
      "_view_module": "@jupyter-widgets/base",
      "_view_module_version": "1.2.0",
      "_view_name": "LayoutView",
      "align_content": null,
      "align_items": null,
      "align_self": null,
      "border": null,
      "bottom": null,
      "display": null,
      "flex": null,
      "flex_flow": null,
      "grid_area": null,
      "grid_auto_columns": null,
      "grid_auto_flow": null,
      "grid_auto_rows": null,
      "grid_column": null,
      "grid_gap": null,
      "grid_row": null,
      "grid_template_areas": null,
      "grid_template_columns": null,
      "grid_template_rows": null,
      "height": null,
      "justify_content": null,
      "justify_items": null,
      "left": null,
      "margin": null,
      "max_height": null,
      "max_width": null,
      "min_height": null,
      "min_width": null,
      "object_fit": null,
      "object_position": null,
      "order": null,
      "overflow": null,
      "overflow_x": null,
      "overflow_y": null,
      "padding": null,
      "right": null,
      "top": null,
      "visibility": null,
      "width": null
     }
    },
    "f7667d876a7e4057b40cdc0d1d29ff78": {
     "model_module": "@jupyter-widgets/controls",
     "model_name": "HBoxModel",
     "state": {
      "_dom_classes": [],
      "_model_module": "@jupyter-widgets/controls",
      "_model_module_version": "1.5.0",
      "_model_name": "HBoxModel",
      "_view_count": null,
      "_view_module": "@jupyter-widgets/controls",
      "_view_module_version": "1.5.0",
      "_view_name": "HBoxView",
      "box_style": "",
      "children": [
       "IPY_MODEL_fd07dbf74c034ba19d1dd1fa9f405a6a",
       "IPY_MODEL_3396ff1b1cd14e3686cdf807e31e3de2"
      ],
      "layout": "IPY_MODEL_1a69a7cc4f13487cadcf0ab802460542"
     }
    },
    "fd061e9619a246ab8c261c908ebbde35": {
     "model_module": "@jupyter-widgets/base",
     "model_name": "LayoutModel",
     "state": {
      "_model_module": "@jupyter-widgets/base",
      "_model_module_version": "1.2.0",
      "_model_name": "LayoutModel",
      "_view_count": null,
      "_view_module": "@jupyter-widgets/base",
      "_view_module_version": "1.2.0",
      "_view_name": "LayoutView",
      "align_content": null,
      "align_items": null,
      "align_self": null,
      "border": null,
      "bottom": null,
      "display": null,
      "flex": null,
      "flex_flow": null,
      "grid_area": null,
      "grid_auto_columns": null,
      "grid_auto_flow": null,
      "grid_auto_rows": null,
      "grid_column": null,
      "grid_gap": null,
      "grid_row": null,
      "grid_template_areas": null,
      "grid_template_columns": null,
      "grid_template_rows": null,
      "height": null,
      "justify_content": null,
      "justify_items": null,
      "left": null,
      "margin": null,
      "max_height": null,
      "max_width": null,
      "min_height": null,
      "min_width": null,
      "object_fit": null,
      "object_position": null,
      "order": null,
      "overflow": null,
      "overflow_x": null,
      "overflow_y": null,
      "padding": null,
      "right": null,
      "top": null,
      "visibility": null,
      "width": null
     }
    },
    "fd07dbf74c034ba19d1dd1fa9f405a6a": {
     "model_module": "@jupyter-widgets/controls",
     "model_name": "FloatProgressModel",
     "state": {
      "_dom_classes": [],
      "_model_module": "@jupyter-widgets/controls",
      "_model_module_version": "1.5.0",
      "_model_name": "FloatProgressModel",
      "_view_count": null,
      "_view_module": "@jupyter-widgets/controls",
      "_view_module_version": "1.5.0",
      "_view_name": "ProgressView",
      "bar_style": "success",
      "description": "",
      "description_tooltip": null,
      "layout": "IPY_MODEL_178f4fb5942444b8afbf65bd6751e5fb",
      "max": 1,
      "min": 0,
      "orientation": "horizontal",
      "style": "IPY_MODEL_a9820daed9ef4b7eb91b8f262caf3274",
      "value": 1
     }
    }
   }
  }
 },
 "nbformat": 4,
 "nbformat_minor": 4
}
