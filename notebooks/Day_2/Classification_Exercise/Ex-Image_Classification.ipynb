{
 "cells": [
  {
   "cell_type": "markdown",
   "metadata": {
    "id": "i5OW4csoRjXr"
   },
   "source": [
    "# Part 2 - Classification with PyTorch"
   ]
  },
  {
   "cell_type": "code",
   "execution_count": null,
   "metadata": {
    "id": "0WcjqDImRf87"
   },
   "outputs": [],
   "source": [
    "import torch\r\n",
    "import torch.nn as nn\r\n",
    "import torch.nn.functional as F\r\n",
    "import torch.optim as optim\r\n",
    "import torchvision\r\n",
    "import matplotlib.pyplot as plt\r\n",
    "\r\n",
    "import warnings\r\n",
    "warnings.filterwarnings(\"ignore\")"
   ]
  },
  {
   "cell_type": "markdown",
   "metadata": {
    "id": "10LsEe7QhMRP"
   },
   "source": [
    "## Hyperparameters"
   ]
  },
  {
   "cell_type": "code",
   "execution_count": null,
   "metadata": {
    "id": "e051WsvWPb9k"
   },
   "outputs": [],
   "source": [
    "device = 'cuda'\r\n",
    "n_epochs = 10\r\n",
    "batch_size_train = 128\r\n",
    "batch_size_test = 32\r\n",
    "learning_rate = 0.1\r\n",
    "momentum = 0.9"
   ]
  },
  {
   "cell_type": "markdown",
   "metadata": {
    "id": "beixi1tJOX2U"
   },
   "source": [
    "## Prepare FashionMNIST image dataset\r\n",
    "\r\n",
    "Using torchvision api to download MNIST data. MNIST data contains 10 classes of fashion."
   ]
  },
  {
   "cell_type": "code",
   "execution_count": null,
   "metadata": {
    "colab": {
     "base_uri": "https://localhost:8080/",
     "height": 330,
     "referenced_widgets": [
      "b6472c193e9d4268a4ca9ee6aeabffdd",
      "1c623a24469b4fc38dd0fa5524175ab3",
      "7867898ff58542e5b8c97b4dd07ab2b5",
      "e830e34466a5470c942b949c485d8e05",
      "5d3e4bb3cadb4cb5b1b27c1f65202657",
      "0a5d05be2fad47b5b640a0abe2fef3bf",
      "ae1e1f72aecc4ee394c3b5535c62c72c",
      "abaf96f5ad954253882d97ea1c3b17ae",
      "57ce4df79b8f432ba6ca6de71111e26e",
      "ba67752f5ecc4bdb9858cfe3ba8053df",
      "b31f4b43ee484fceac1aaea78ab64812",
      "9aaf926d95f34576ad3337c15ceb4b26",
      "fa91f254ab204045a35f82e5baddc062",
      "71774c9740ec40ac910dcf0c8a217f89",
      "0ff8117a308d4438aab55a87f1346b76",
      "7b18be6bab424303bf8703c534809e24",
      "268d2a36e18748129d06a566dee7fe78",
      "7b77de2b350a4ff6b890d33d7263849f",
      "b359ee2762cf480cb11c85f7060c47d6",
      "9ca28da13eb742f292264f8fd1f74706",
      "e170eed41534482fa04f328dfd147420",
      "ff61c24ca43842f88db1b17c93b1527e",
      "1711f6333dfa43e6ac79083274d9ccf0",
      "6694b700745d48d3857c9063a307186e",
      "bf58df47d10c4ef2b8cdb4f92647c9db",
      "d7e7ef0cbaa7443e9ff5e92f3d081f1c",
      "cf3726f5545b4541b4c52a269e942446",
      "258316dab19c4eab9e93d4f8b144e1de",
      "23f260c6d1734d8f9a0631e5483ea73b",
      "0bde860cbe194fedbd48bcc1a87df10e",
      "9001ddf9415143428a39b0ed9a986528",
      "9b04ca47194d47f1808a37abbf29c1df"
     ]
    },
    "executionInfo": {
     "elapsed": 7593,
     "status": "ok",
     "timestamp": 1608472180822,
     "user": {
      "displayName": "Deven Yantis (Deven)",
      "photoUrl": "https://lh3.googleusercontent.com/a-/AOh14GhvP5W8J7Hz2cWKHBt4UCPzSoj0W1pWuf37hx8=s64",
      "userId": "03984650301693922870"
     },
     "user_tz": -480
    },
    "id": "ZFOUrJxwXsJi",
    "outputId": "253ae1de-fb3b-4256-e2a5-616cb7f56585"
   },
   "outputs": [],
   "source": [
    "transform = torchvision.transforms.Compose([\r\n",
    "        torchvision.transforms.ToTensor()\r\n",
    "    ])\r\n",
    "\r\n",
    "train_data = torchvision.datasets.FashionMNIST('./data', train=True, download=True,\r\n",
    "                                       transform=transform)\r\n",
    "validation_data = torchvision.datasets.FashionMNIST('./data', train=False, download=True,\r\n",
    "                                      transform=transform)\r\n",
    "\r\n",
    "train_loader = torch.utils.data.DataLoader(train_data, batch_size=batch_size_train, \r\n",
    "                                           shuffle=True)\r\n",
    "validation_loader = torch.utils.data.DataLoader(validation_data, batch_size=batch_size_test, \r\n",
    "                                           shuffle=True)"
   ]
  },
  {
   "cell_type": "markdown",
   "metadata": {
    "id": "AQaNIp60ObkF"
   },
   "source": [
    "## Define Model"
   ]
  },
  {
   "cell_type": "code",
   "execution_count": null,
   "metadata": {
    "id": "HQrG4ScyYtoo"
   },
   "outputs": [],
   "source": [
    "class Net(nn.Module):\r\n",
    "    def __init__(self):\r\n",
    "        super(Net, self).__init__()\r\n",
    "        \"\"\"\r\n",
    "        Define Neural Netowork layers:\r\n",
    "        1. Input layer of 784 nodes\r\n",
    "        2. 2 hidden layers\r\n",
    "            - First hiddden layer has 256 nodes\r\n",
    "            - Second hidden layer has 50 nodes\r\n",
    "        3. Output layers according to number of classes \r\n",
    "        \"\"\"\r\n",
    "\r\n",
    "    def forward(self, x):\r\n",
    "        \"\"\"\r\n",
    "        Connect Neural Network\r\n",
    "        1. All layers use RELU as activation function\r\n",
    "        2. Use log softmax for output layer\r\n",
    "        \"\"\"\r\n",
    "\r\n",
    "        return None"
   ]
  },
  {
   "cell_type": "code",
   "execution_count": null,
   "metadata": {
    "colab": {
     "base_uri": "https://localhost:8080/"
    },
    "executionInfo": {
     "elapsed": 15618,
     "status": "ok",
     "timestamp": 1608472188891,
     "user": {
      "displayName": "Deven Yantis (Deven)",
      "photoUrl": "https://lh3.googleusercontent.com/a-/AOh14GhvP5W8J7Hz2cWKHBt4UCPzSoj0W1pWuf37hx8=s64",
      "userId": "03984650301693922870"
     },
     "user_tz": -480
    },
    "id": "8MhwUtzyOWgY",
    "outputId": "608bbcfb-5091-4550-d1a0-dddc5d661885"
   },
   "outputs": [],
   "source": [
    "# Initialize model and send to GPU\r\n",
    "network = Net().to(device)\r\n",
    "\r\n",
    "# Set algorithm for parameter update\r\n",
    "optimizer = optim.SGD(network.parameters(), lr=learning_rate, momentum=momentum)"
   ]
  },
  {
   "cell_type": "markdown",
   "metadata": {
    "id": "B_F7M1hJOeDy"
   },
   "source": [
    "## Train Model"
   ]
  },
  {
   "cell_type": "markdown",
   "metadata": {
    "id": "9vVrG3_V0IU5"
   },
   "source": [
    "### Evaluation Function"
   ]
  },
  {
   "cell_type": "code",
   "execution_count": null,
   "metadata": {
    "id": "DnBwAdMxZ6Mu"
   },
   "outputs": [],
   "source": [
    "def evaluate():\r\n",
    "    network.eval()\r\n",
    "    val_loss, correct = 0, 0\r\n",
    "    with torch.no_grad():\r\n",
    "        for data, target in validation_loader:\r\n",
    "            data, target = data.to(device), target.to(device)\r\n",
    "            data = data.view(data.shape[0], -1)\r\n",
    "            output = network(data)\r\n",
    "            val_loss += F.nll_loss(output, target, size_average=False).item() \r\n",
    "            \r\n",
    "            pred = output.data.max(1, keepdim=True)[1]\r\n",
    "            correct += pred.eq(target.data.view_as(pred)).sum()\r\n",
    "    val_loss /= len(validation_loader.dataset)\r\n",
    "    val_losses.append(val_loss)\r\n",
    "    print('\\nValidation set: Avg. loss: {:.4f}, Accuracy: {}/{} ({:.0f}%)\\n'.format(\r\n",
    "        val_loss, correct, len(validation_loader.dataset),\r\n",
    "        100. * correct / len(validation_loader.dataset)))"
   ]
  },
  {
   "cell_type": "code",
   "execution_count": null,
   "metadata": {
    "colab": {
     "base_uri": "https://localhost:8080/"
    },
    "executionInfo": {
     "elapsed": 15626,
     "status": "ok",
     "timestamp": 1608472188922,
     "user": {
      "displayName": "Deven Yantis (Deven)",
      "photoUrl": "https://lh3.googleusercontent.com/a-/AOh14GhvP5W8J7Hz2cWKHBt4UCPzSoj0W1pWuf37hx8=s64",
      "userId": "03984650301693922870"
     },
     "user_tz": -480
    },
    "id": "lX3w9Vo-EhBs",
    "outputId": "01bb8626-cd5d-40ef-b50d-c1f974dd74a2"
   },
   "outputs": [],
   "source": [
    "network"
   ]
  },
  {
   "cell_type": "markdown",
   "metadata": {
    "id": "9LZOGrOe0Ng2"
   },
   "source": [
    "### Training Loop"
   ]
  },
  {
   "cell_type": "code",
   "execution_count": null,
   "metadata": {
    "id": "4TGZerOZ0aBU"
   },
   "outputs": [],
   "source": [
    "train_losses, train_counter, val_losses = [], [], []"
   ]
  },
  {
   "cell_type": "code",
   "execution_count": null,
   "metadata": {
    "colab": {
     "base_uri": "https://localhost:8080/",
     "height": 35
    },
    "executionInfo": {
     "elapsed": 1682,
     "status": "ok",
     "timestamp": 1608512450752,
     "user": {
      "displayName": "Deven Yantis (Deven)",
      "photoUrl": "https://lh3.googleusercontent.com/a-/AOh14GhvP5W8J7Hz2cWKHBt4UCPzSoj0W1pWuf37hx8=s64",
      "userId": "03984650301693922870"
     },
     "user_tz": -480
    },
    "id": "MQttClGbaOrh",
    "outputId": "c77b4f14-aace-4813-d149-46d46a4425c3"
   },
   "outputs": [],
   "source": [
    "\"\"\"\r\n",
    "Build training Loop. Print training loss for every 10 data batch interval\r\n",
    "\"\"\"\r\n",
    "\r\n"
   ]
  },
  {
   "cell_type": "markdown",
   "metadata": {
    "id": "r93dTMK3PM4r"
   },
   "source": [
    "## View Evaluation"
   ]
  },
  {
   "cell_type": "code",
   "execution_count": null,
   "metadata": {
    "id": "a5MByWx0aUJ6"
   },
   "outputs": [],
   "source": [
    "# Evaluate on one batch only\r\n",
    "examples = enumerate(validation_loader)\r\n",
    "batch_idx, (example_data, example_targets) = next(examples)\r\n",
    "\r\n",
    "# To run model without performing grading parameters\r\n",
    "with torch.no_grad():\r\n",
    "\r\n",
    "    # Prepare dataset\r\n",
    "    pred_data = example_data\r\n",
    "    pred_data = pred_data.view(pred_data.shape[0], -1)\r\n",
    "\r\n",
    "    # Set model to evaluation mode\r\n",
    "    network.eval()\r\n",
    "\r\n",
    "    # Inference\r\n",
    "    predictions = network(pred_data.to(device))\r\n",
    "\r\n",
    "    # Format predictions to get labels\r\n",
    "    predicted_labels = predictions.data.max(1, keepdim=True)[1].cpu().detach().numpy()"
   ]
  },
  {
   "cell_type": "code",
   "execution_count": null,
   "metadata": {
    "id": "ZrHdDHOf3MoG"
   },
   "outputs": [],
   "source": [
    "fashion_labels = [\"T-shirt/top\", \"Trouser\", \"Pullover\", \r\n",
    "                  \"Dress\", \"Coat\", \"Sandal\", \"Shirt\", \r\n",
    "                  \"Sneaker\", \"Bag\", \"Ankle boot\"]"
   ]
  },
  {
   "cell_type": "code",
   "execution_count": null,
   "metadata": {
    "colab": {
     "base_uri": "https://localhost:8080/",
     "height": 551
    },
    "executionInfo": {
     "elapsed": 114905,
     "status": "ok",
     "timestamp": 1608472288232,
     "user": {
      "displayName": "Deven Yantis (Deven)",
      "photoUrl": "https://lh3.googleusercontent.com/a-/AOh14GhvP5W8J7Hz2cWKHBt4UCPzSoj0W1pWuf37hx8=s64",
      "userId": "03984650301693922870"
     },
     "user_tz": -480
    },
    "id": "SV07wsuMcwiz",
    "outputId": "12f9aa27-5783-462f-abd4-6d10c6eab089"
   },
   "outputs": [],
   "source": [
    "fig = plt.figure()\r\n",
    "for i in range(6):\r\n",
    "    plt.subplot(2,3,i+1)\r\n",
    "    plt.tight_layout()\r\n",
    "    plt.imshow(example_data[i][0], cmap='gray', interpolation='none')\r\n",
    "    plt.title(\"Predicted: {}\".format(fashion_labels[predicted_labels[i][0]]))\r\n",
    "    plt.xticks([])\r\n",
    "    plt.yticks([])\r\n",
    "fig"
   ]
  }
 ],
 "metadata": {
  "accelerator": "GPU",
  "colab": {
   "authorship_tag": "ABX9TyOJ5UMjYVoOH1N3ZP2VtTeT",
   "name": "Exercise - Classification Hands on.ipynb",
   "provenance": []
  },
  "kernelspec": {
   "display_name": "Python 3",
   "language": "python",
   "name": "python3"
  },
  "language_info": {
   "codemirror_mode": {
    "name": "ipython",
    "version": 3
   },
   "file_extension": ".py",
   "mimetype": "text/x-python",
   "name": "python",
   "nbconvert_exporter": "python",
   "pygments_lexer": "ipython3",
   "version": "3.7.7"
  },
  "widgets": {
   "application/vnd.jupyter.widget-state+json": {
    "0a5d05be2fad47b5b640a0abe2fef3bf": {
     "model_module": "@jupyter-widgets/base",
     "model_name": "LayoutModel",
     "state": {
      "_model_module": "@jupyter-widgets/base",
      "_model_module_version": "1.2.0",
      "_model_name": "LayoutModel",
      "_view_count": null,
      "_view_module": "@jupyter-widgets/base",
      "_view_module_version": "1.2.0",
      "_view_name": "LayoutView",
      "align_content": null,
      "align_items": null,
      "align_self": null,
      "border": null,
      "bottom": null,
      "display": null,
      "flex": null,
      "flex_flow": null,
      "grid_area": null,
      "grid_auto_columns": null,
      "grid_auto_flow": null,
      "grid_auto_rows": null,
      "grid_column": null,
      "grid_gap": null,
      "grid_row": null,
      "grid_template_areas": null,
      "grid_template_columns": null,
      "grid_template_rows": null,
      "height": null,
      "justify_content": null,
      "justify_items": null,
      "left": null,
      "margin": null,
      "max_height": null,
      "max_width": null,
      "min_height": null,
      "min_width": null,
      "object_fit": null,
      "object_position": null,
      "order": null,
      "overflow": null,
      "overflow_x": null,
      "overflow_y": null,
      "padding": null,
      "right": null,
      "top": null,
      "visibility": null,
      "width": null
     }
    },
    "0bde860cbe194fedbd48bcc1a87df10e": {
     "model_module": "@jupyter-widgets/base",
     "model_name": "LayoutModel",
     "state": {
      "_model_module": "@jupyter-widgets/base",
      "_model_module_version": "1.2.0",
      "_model_name": "LayoutModel",
      "_view_count": null,
      "_view_module": "@jupyter-widgets/base",
      "_view_module_version": "1.2.0",
      "_view_name": "LayoutView",
      "align_content": null,
      "align_items": null,
      "align_self": null,
      "border": null,
      "bottom": null,
      "display": null,
      "flex": null,
      "flex_flow": null,
      "grid_area": null,
      "grid_auto_columns": null,
      "grid_auto_flow": null,
      "grid_auto_rows": null,
      "grid_column": null,
      "grid_gap": null,
      "grid_row": null,
      "grid_template_areas": null,
      "grid_template_columns": null,
      "grid_template_rows": null,
      "height": null,
      "justify_content": null,
      "justify_items": null,
      "left": null,
      "margin": null,
      "max_height": null,
      "max_width": null,
      "min_height": null,
      "min_width": null,
      "object_fit": null,
      "object_position": null,
      "order": null,
      "overflow": null,
      "overflow_x": null,
      "overflow_y": null,
      "padding": null,
      "right": null,
      "top": null,
      "visibility": null,
      "width": null
     }
    },
    "0ff8117a308d4438aab55a87f1346b76": {
     "model_module": "@jupyter-widgets/controls",
     "model_name": "DescriptionStyleModel",
     "state": {
      "_model_module": "@jupyter-widgets/controls",
      "_model_module_version": "1.5.0",
      "_model_name": "DescriptionStyleModel",
      "_view_count": null,
      "_view_module": "@jupyter-widgets/base",
      "_view_module_version": "1.2.0",
      "_view_name": "StyleView",
      "description_width": ""
     }
    },
    "1711f6333dfa43e6ac79083274d9ccf0": {
     "model_module": "@jupyter-widgets/controls",
     "model_name": "DescriptionStyleModel",
     "state": {
      "_model_module": "@jupyter-widgets/controls",
      "_model_module_version": "1.5.0",
      "_model_name": "DescriptionStyleModel",
      "_view_count": null,
      "_view_module": "@jupyter-widgets/base",
      "_view_module_version": "1.2.0",
      "_view_name": "StyleView",
      "description_width": ""
     }
    },
    "1c623a24469b4fc38dd0fa5524175ab3": {
     "model_module": "@jupyter-widgets/base",
     "model_name": "LayoutModel",
     "state": {
      "_model_module": "@jupyter-widgets/base",
      "_model_module_version": "1.2.0",
      "_model_name": "LayoutModel",
      "_view_count": null,
      "_view_module": "@jupyter-widgets/base",
      "_view_module_version": "1.2.0",
      "_view_name": "LayoutView",
      "align_content": null,
      "align_items": null,
      "align_self": null,
      "border": null,
      "bottom": null,
      "display": null,
      "flex": null,
      "flex_flow": null,
      "grid_area": null,
      "grid_auto_columns": null,
      "grid_auto_flow": null,
      "grid_auto_rows": null,
      "grid_column": null,
      "grid_gap": null,
      "grid_row": null,
      "grid_template_areas": null,
      "grid_template_columns": null,
      "grid_template_rows": null,
      "height": null,
      "justify_content": null,
      "justify_items": null,
      "left": null,
      "margin": null,
      "max_height": null,
      "max_width": null,
      "min_height": null,
      "min_width": null,
      "object_fit": null,
      "object_position": null,
      "order": null,
      "overflow": null,
      "overflow_x": null,
      "overflow_y": null,
      "padding": null,
      "right": null,
      "top": null,
      "visibility": null,
      "width": null
     }
    },
    "23f260c6d1734d8f9a0631e5483ea73b": {
     "model_module": "@jupyter-widgets/controls",
     "model_name": "ProgressStyleModel",
     "state": {
      "_model_module": "@jupyter-widgets/controls",
      "_model_module_version": "1.5.0",
      "_model_name": "ProgressStyleModel",
      "_view_count": null,
      "_view_module": "@jupyter-widgets/base",
      "_view_module_version": "1.2.0",
      "_view_name": "StyleView",
      "bar_color": null,
      "description_width": "initial"
     }
    },
    "258316dab19c4eab9e93d4f8b144e1de": {
     "model_module": "@jupyter-widgets/controls",
     "model_name": "HTMLModel",
     "state": {
      "_dom_classes": [],
      "_model_module": "@jupyter-widgets/controls",
      "_model_module_version": "1.5.0",
      "_model_name": "HTMLModel",
      "_view_count": null,
      "_view_module": "@jupyter-widgets/controls",
      "_view_module_version": "1.5.0",
      "_view_name": "HTMLView",
      "description": "",
      "description_tooltip": null,
      "layout": "IPY_MODEL_9b04ca47194d47f1808a37abbf29c1df",
      "placeholder": "​",
      "style": "IPY_MODEL_9001ddf9415143428a39b0ed9a986528",
      "value": " 8192/? [00:00&lt;00:00, 22603.77it/s]"
     }
    },
    "268d2a36e18748129d06a566dee7fe78": {
     "model_module": "@jupyter-widgets/controls",
     "model_name": "HBoxModel",
     "state": {
      "_dom_classes": [],
      "_model_module": "@jupyter-widgets/controls",
      "_model_module_version": "1.5.0",
      "_model_name": "HBoxModel",
      "_view_count": null,
      "_view_module": "@jupyter-widgets/controls",
      "_view_module_version": "1.5.0",
      "_view_name": "HBoxView",
      "box_style": "",
      "children": [
       "IPY_MODEL_b359ee2762cf480cb11c85f7060c47d6",
       "IPY_MODEL_9ca28da13eb742f292264f8fd1f74706"
      ],
      "layout": "IPY_MODEL_7b77de2b350a4ff6b890d33d7263849f"
     }
    },
    "57ce4df79b8f432ba6ca6de71111e26e": {
     "model_module": "@jupyter-widgets/controls",
     "model_name": "HBoxModel",
     "state": {
      "_dom_classes": [],
      "_model_module": "@jupyter-widgets/controls",
      "_model_module_version": "1.5.0",
      "_model_name": "HBoxModel",
      "_view_count": null,
      "_view_module": "@jupyter-widgets/controls",
      "_view_module_version": "1.5.0",
      "_view_name": "HBoxView",
      "box_style": "",
      "children": [
       "IPY_MODEL_b31f4b43ee484fceac1aaea78ab64812",
       "IPY_MODEL_9aaf926d95f34576ad3337c15ceb4b26"
      ],
      "layout": "IPY_MODEL_ba67752f5ecc4bdb9858cfe3ba8053df"
     }
    },
    "5d3e4bb3cadb4cb5b1b27c1f65202657": {
     "model_module": "@jupyter-widgets/controls",
     "model_name": "ProgressStyleModel",
     "state": {
      "_model_module": "@jupyter-widgets/controls",
      "_model_module_version": "1.5.0",
      "_model_name": "ProgressStyleModel",
      "_view_count": null,
      "_view_module": "@jupyter-widgets/base",
      "_view_module_version": "1.2.0",
      "_view_name": "StyleView",
      "bar_color": null,
      "description_width": "initial"
     }
    },
    "6694b700745d48d3857c9063a307186e": {
     "model_module": "@jupyter-widgets/base",
     "model_name": "LayoutModel",
     "state": {
      "_model_module": "@jupyter-widgets/base",
      "_model_module_version": "1.2.0",
      "_model_name": "LayoutModel",
      "_view_count": null,
      "_view_module": "@jupyter-widgets/base",
      "_view_module_version": "1.2.0",
      "_view_name": "LayoutView",
      "align_content": null,
      "align_items": null,
      "align_self": null,
      "border": null,
      "bottom": null,
      "display": null,
      "flex": null,
      "flex_flow": null,
      "grid_area": null,
      "grid_auto_columns": null,
      "grid_auto_flow": null,
      "grid_auto_rows": null,
      "grid_column": null,
      "grid_gap": null,
      "grid_row": null,
      "grid_template_areas": null,
      "grid_template_columns": null,
      "grid_template_rows": null,
      "height": null,
      "justify_content": null,
      "justify_items": null,
      "left": null,
      "margin": null,
      "max_height": null,
      "max_width": null,
      "min_height": null,
      "min_width": null,
      "object_fit": null,
      "object_position": null,
      "order": null,
      "overflow": null,
      "overflow_x": null,
      "overflow_y": null,
      "padding": null,
      "right": null,
      "top": null,
      "visibility": null,
      "width": null
     }
    },
    "71774c9740ec40ac910dcf0c8a217f89": {
     "model_module": "@jupyter-widgets/base",
     "model_name": "LayoutModel",
     "state": {
      "_model_module": "@jupyter-widgets/base",
      "_model_module_version": "1.2.0",
      "_model_name": "LayoutModel",
      "_view_count": null,
      "_view_module": "@jupyter-widgets/base",
      "_view_module_version": "1.2.0",
      "_view_name": "LayoutView",
      "align_content": null,
      "align_items": null,
      "align_self": null,
      "border": null,
      "bottom": null,
      "display": null,
      "flex": null,
      "flex_flow": null,
      "grid_area": null,
      "grid_auto_columns": null,
      "grid_auto_flow": null,
      "grid_auto_rows": null,
      "grid_column": null,
      "grid_gap": null,
      "grid_row": null,
      "grid_template_areas": null,
      "grid_template_columns": null,
      "grid_template_rows": null,
      "height": null,
      "justify_content": null,
      "justify_items": null,
      "left": null,
      "margin": null,
      "max_height": null,
      "max_width": null,
      "min_height": null,
      "min_width": null,
      "object_fit": null,
      "object_position": null,
      "order": null,
      "overflow": null,
      "overflow_x": null,
      "overflow_y": null,
      "padding": null,
      "right": null,
      "top": null,
      "visibility": null,
      "width": null
     }
    },
    "7867898ff58542e5b8c97b4dd07ab2b5": {
     "model_module": "@jupyter-widgets/controls",
     "model_name": "FloatProgressModel",
     "state": {
      "_dom_classes": [],
      "_model_module": "@jupyter-widgets/controls",
      "_model_module_version": "1.5.0",
      "_model_name": "FloatProgressModel",
      "_view_count": null,
      "_view_module": "@jupyter-widgets/controls",
      "_view_module_version": "1.5.0",
      "_view_name": "ProgressView",
      "bar_style": "info",
      "description": "",
      "description_tooltip": null,
      "layout": "IPY_MODEL_0a5d05be2fad47b5b640a0abe2fef3bf",
      "max": 1,
      "min": 0,
      "orientation": "horizontal",
      "style": "IPY_MODEL_5d3e4bb3cadb4cb5b1b27c1f65202657",
      "value": 1
     }
    },
    "7b18be6bab424303bf8703c534809e24": {
     "model_module": "@jupyter-widgets/base",
     "model_name": "LayoutModel",
     "state": {
      "_model_module": "@jupyter-widgets/base",
      "_model_module_version": "1.2.0",
      "_model_name": "LayoutModel",
      "_view_count": null,
      "_view_module": "@jupyter-widgets/base",
      "_view_module_version": "1.2.0",
      "_view_name": "LayoutView",
      "align_content": null,
      "align_items": null,
      "align_self": null,
      "border": null,
      "bottom": null,
      "display": null,
      "flex": null,
      "flex_flow": null,
      "grid_area": null,
      "grid_auto_columns": null,
      "grid_auto_flow": null,
      "grid_auto_rows": null,
      "grid_column": null,
      "grid_gap": null,
      "grid_row": null,
      "grid_template_areas": null,
      "grid_template_columns": null,
      "grid_template_rows": null,
      "height": null,
      "justify_content": null,
      "justify_items": null,
      "left": null,
      "margin": null,
      "max_height": null,
      "max_width": null,
      "min_height": null,
      "min_width": null,
      "object_fit": null,
      "object_position": null,
      "order": null,
      "overflow": null,
      "overflow_x": null,
      "overflow_y": null,
      "padding": null,
      "right": null,
      "top": null,
      "visibility": null,
      "width": null
     }
    },
    "7b77de2b350a4ff6b890d33d7263849f": {
     "model_module": "@jupyter-widgets/base",
     "model_name": "LayoutModel",
     "state": {
      "_model_module": "@jupyter-widgets/base",
      "_model_module_version": "1.2.0",
      "_model_name": "LayoutModel",
      "_view_count": null,
      "_view_module": "@jupyter-widgets/base",
      "_view_module_version": "1.2.0",
      "_view_name": "LayoutView",
      "align_content": null,
      "align_items": null,
      "align_self": null,
      "border": null,
      "bottom": null,
      "display": null,
      "flex": null,
      "flex_flow": null,
      "grid_area": null,
      "grid_auto_columns": null,
      "grid_auto_flow": null,
      "grid_auto_rows": null,
      "grid_column": null,
      "grid_gap": null,
      "grid_row": null,
      "grid_template_areas": null,
      "grid_template_columns": null,
      "grid_template_rows": null,
      "height": null,
      "justify_content": null,
      "justify_items": null,
      "left": null,
      "margin": null,
      "max_height": null,
      "max_width": null,
      "min_height": null,
      "min_width": null,
      "object_fit": null,
      "object_position": null,
      "order": null,
      "overflow": null,
      "overflow_x": null,
      "overflow_y": null,
      "padding": null,
      "right": null,
      "top": null,
      "visibility": null,
      "width": null
     }
    },
    "9001ddf9415143428a39b0ed9a986528": {
     "model_module": "@jupyter-widgets/controls",
     "model_name": "DescriptionStyleModel",
     "state": {
      "_model_module": "@jupyter-widgets/controls",
      "_model_module_version": "1.5.0",
      "_model_name": "DescriptionStyleModel",
      "_view_count": null,
      "_view_module": "@jupyter-widgets/base",
      "_view_module_version": "1.2.0",
      "_view_name": "StyleView",
      "description_width": ""
     }
    },
    "9aaf926d95f34576ad3337c15ceb4b26": {
     "model_module": "@jupyter-widgets/controls",
     "model_name": "HTMLModel",
     "state": {
      "_dom_classes": [],
      "_model_module": "@jupyter-widgets/controls",
      "_model_module_version": "1.5.0",
      "_model_name": "HTMLModel",
      "_view_count": null,
      "_view_module": "@jupyter-widgets/controls",
      "_view_module_version": "1.5.0",
      "_view_name": "HTMLView",
      "description": "",
      "description_tooltip": null,
      "layout": "IPY_MODEL_7b18be6bab424303bf8703c534809e24",
      "placeholder": "​",
      "style": "IPY_MODEL_0ff8117a308d4438aab55a87f1346b76",
      "value": " 32768/? [00:00&lt;00:00, 396473.01it/s]"
     }
    },
    "9b04ca47194d47f1808a37abbf29c1df": {
     "model_module": "@jupyter-widgets/base",
     "model_name": "LayoutModel",
     "state": {
      "_model_module": "@jupyter-widgets/base",
      "_model_module_version": "1.2.0",
      "_model_name": "LayoutModel",
      "_view_count": null,
      "_view_module": "@jupyter-widgets/base",
      "_view_module_version": "1.2.0",
      "_view_name": "LayoutView",
      "align_content": null,
      "align_items": null,
      "align_self": null,
      "border": null,
      "bottom": null,
      "display": null,
      "flex": null,
      "flex_flow": null,
      "grid_area": null,
      "grid_auto_columns": null,
      "grid_auto_flow": null,
      "grid_auto_rows": null,
      "grid_column": null,
      "grid_gap": null,
      "grid_row": null,
      "grid_template_areas": null,
      "grid_template_columns": null,
      "grid_template_rows": null,
      "height": null,
      "justify_content": null,
      "justify_items": null,
      "left": null,
      "margin": null,
      "max_height": null,
      "max_width": null,
      "min_height": null,
      "min_width": null,
      "object_fit": null,
      "object_position": null,
      "order": null,
      "overflow": null,
      "overflow_x": null,
      "overflow_y": null,
      "padding": null,
      "right": null,
      "top": null,
      "visibility": null,
      "width": null
     }
    },
    "9ca28da13eb742f292264f8fd1f74706": {
     "model_module": "@jupyter-widgets/controls",
     "model_name": "HTMLModel",
     "state": {
      "_dom_classes": [],
      "_model_module": "@jupyter-widgets/controls",
      "_model_module_version": "1.5.0",
      "_model_name": "HTMLModel",
      "_view_count": null,
      "_view_module": "@jupyter-widgets/controls",
      "_view_module_version": "1.5.0",
      "_view_name": "HTMLView",
      "description": "",
      "description_tooltip": null,
      "layout": "IPY_MODEL_6694b700745d48d3857c9063a307186e",
      "placeholder": "​",
      "style": "IPY_MODEL_1711f6333dfa43e6ac79083274d9ccf0",
      "value": " 4423680/? [00:19&lt;00:00, 1032062.38it/s]"
     }
    },
    "abaf96f5ad954253882d97ea1c3b17ae": {
     "model_module": "@jupyter-widgets/base",
     "model_name": "LayoutModel",
     "state": {
      "_model_module": "@jupyter-widgets/base",
      "_model_module_version": "1.2.0",
      "_model_name": "LayoutModel",
      "_view_count": null,
      "_view_module": "@jupyter-widgets/base",
      "_view_module_version": "1.2.0",
      "_view_name": "LayoutView",
      "align_content": null,
      "align_items": null,
      "align_self": null,
      "border": null,
      "bottom": null,
      "display": null,
      "flex": null,
      "flex_flow": null,
      "grid_area": null,
      "grid_auto_columns": null,
      "grid_auto_flow": null,
      "grid_auto_rows": null,
      "grid_column": null,
      "grid_gap": null,
      "grid_row": null,
      "grid_template_areas": null,
      "grid_template_columns": null,
      "grid_template_rows": null,
      "height": null,
      "justify_content": null,
      "justify_items": null,
      "left": null,
      "margin": null,
      "max_height": null,
      "max_width": null,
      "min_height": null,
      "min_width": null,
      "object_fit": null,
      "object_position": null,
      "order": null,
      "overflow": null,
      "overflow_x": null,
      "overflow_y": null,
      "padding": null,
      "right": null,
      "top": null,
      "visibility": null,
      "width": null
     }
    },
    "ae1e1f72aecc4ee394c3b5535c62c72c": {
     "model_module": "@jupyter-widgets/controls",
     "model_name": "DescriptionStyleModel",
     "state": {
      "_model_module": "@jupyter-widgets/controls",
      "_model_module_version": "1.5.0",
      "_model_name": "DescriptionStyleModel",
      "_view_count": null,
      "_view_module": "@jupyter-widgets/base",
      "_view_module_version": "1.2.0",
      "_view_name": "StyleView",
      "description_width": ""
     }
    },
    "b31f4b43ee484fceac1aaea78ab64812": {
     "model_module": "@jupyter-widgets/controls",
     "model_name": "FloatProgressModel",
     "state": {
      "_dom_classes": [],
      "_model_module": "@jupyter-widgets/controls",
      "_model_module_version": "1.5.0",
      "_model_name": "FloatProgressModel",
      "_view_count": null,
      "_view_module": "@jupyter-widgets/controls",
      "_view_module_version": "1.5.0",
      "_view_name": "ProgressView",
      "bar_style": "success",
      "description": "",
      "description_tooltip": null,
      "layout": "IPY_MODEL_71774c9740ec40ac910dcf0c8a217f89",
      "max": 1,
      "min": 0,
      "orientation": "horizontal",
      "style": "IPY_MODEL_fa91f254ab204045a35f82e5baddc062",
      "value": 1
     }
    },
    "b359ee2762cf480cb11c85f7060c47d6": {
     "model_module": "@jupyter-widgets/controls",
     "model_name": "FloatProgressModel",
     "state": {
      "_dom_classes": [],
      "_model_module": "@jupyter-widgets/controls",
      "_model_module_version": "1.5.0",
      "_model_name": "FloatProgressModel",
      "_view_count": null,
      "_view_module": "@jupyter-widgets/controls",
      "_view_module_version": "1.5.0",
      "_view_name": "ProgressView",
      "bar_style": "info",
      "description": "",
      "description_tooltip": null,
      "layout": "IPY_MODEL_ff61c24ca43842f88db1b17c93b1527e",
      "max": 1,
      "min": 0,
      "orientation": "horizontal",
      "style": "IPY_MODEL_e170eed41534482fa04f328dfd147420",
      "value": 1
     }
    },
    "b6472c193e9d4268a4ca9ee6aeabffdd": {
     "model_module": "@jupyter-widgets/controls",
     "model_name": "HBoxModel",
     "state": {
      "_dom_classes": [],
      "_model_module": "@jupyter-widgets/controls",
      "_model_module_version": "1.5.0",
      "_model_name": "HBoxModel",
      "_view_count": null,
      "_view_module": "@jupyter-widgets/controls",
      "_view_module_version": "1.5.0",
      "_view_name": "HBoxView",
      "box_style": "",
      "children": [
       "IPY_MODEL_7867898ff58542e5b8c97b4dd07ab2b5",
       "IPY_MODEL_e830e34466a5470c942b949c485d8e05"
      ],
      "layout": "IPY_MODEL_1c623a24469b4fc38dd0fa5524175ab3"
     }
    },
    "ba67752f5ecc4bdb9858cfe3ba8053df": {
     "model_module": "@jupyter-widgets/base",
     "model_name": "LayoutModel",
     "state": {
      "_model_module": "@jupyter-widgets/base",
      "_model_module_version": "1.2.0",
      "_model_name": "LayoutModel",
      "_view_count": null,
      "_view_module": "@jupyter-widgets/base",
      "_view_module_version": "1.2.0",
      "_view_name": "LayoutView",
      "align_content": null,
      "align_items": null,
      "align_self": null,
      "border": null,
      "bottom": null,
      "display": null,
      "flex": null,
      "flex_flow": null,
      "grid_area": null,
      "grid_auto_columns": null,
      "grid_auto_flow": null,
      "grid_auto_rows": null,
      "grid_column": null,
      "grid_gap": null,
      "grid_row": null,
      "grid_template_areas": null,
      "grid_template_columns": null,
      "grid_template_rows": null,
      "height": null,
      "justify_content": null,
      "justify_items": null,
      "left": null,
      "margin": null,
      "max_height": null,
      "max_width": null,
      "min_height": null,
      "min_width": null,
      "object_fit": null,
      "object_position": null,
      "order": null,
      "overflow": null,
      "overflow_x": null,
      "overflow_y": null,
      "padding": null,
      "right": null,
      "top": null,
      "visibility": null,
      "width": null
     }
    },
    "bf58df47d10c4ef2b8cdb4f92647c9db": {
     "model_module": "@jupyter-widgets/controls",
     "model_name": "HBoxModel",
     "state": {
      "_dom_classes": [],
      "_model_module": "@jupyter-widgets/controls",
      "_model_module_version": "1.5.0",
      "_model_name": "HBoxModel",
      "_view_count": null,
      "_view_module": "@jupyter-widgets/controls",
      "_view_module_version": "1.5.0",
      "_view_name": "HBoxView",
      "box_style": "",
      "children": [
       "IPY_MODEL_cf3726f5545b4541b4c52a269e942446",
       "IPY_MODEL_258316dab19c4eab9e93d4f8b144e1de"
      ],
      "layout": "IPY_MODEL_d7e7ef0cbaa7443e9ff5e92f3d081f1c"
     }
    },
    "cf3726f5545b4541b4c52a269e942446": {
     "model_module": "@jupyter-widgets/controls",
     "model_name": "FloatProgressModel",
     "state": {
      "_dom_classes": [],
      "_model_module": "@jupyter-widgets/controls",
      "_model_module_version": "1.5.0",
      "_model_name": "FloatProgressModel",
      "_view_count": null,
      "_view_module": "@jupyter-widgets/controls",
      "_view_module_version": "1.5.0",
      "_view_name": "ProgressView",
      "bar_style": "success",
      "description": "",
      "description_tooltip": null,
      "layout": "IPY_MODEL_0bde860cbe194fedbd48bcc1a87df10e",
      "max": 1,
      "min": 0,
      "orientation": "horizontal",
      "style": "IPY_MODEL_23f260c6d1734d8f9a0631e5483ea73b",
      "value": 1
     }
    },
    "d7e7ef0cbaa7443e9ff5e92f3d081f1c": {
     "model_module": "@jupyter-widgets/base",
     "model_name": "LayoutModel",
     "state": {
      "_model_module": "@jupyter-widgets/base",
      "_model_module_version": "1.2.0",
      "_model_name": "LayoutModel",
      "_view_count": null,
      "_view_module": "@jupyter-widgets/base",
      "_view_module_version": "1.2.0",
      "_view_name": "LayoutView",
      "align_content": null,
      "align_items": null,
      "align_self": null,
      "border": null,
      "bottom": null,
      "display": null,
      "flex": null,
      "flex_flow": null,
      "grid_area": null,
      "grid_auto_columns": null,
      "grid_auto_flow": null,
      "grid_auto_rows": null,
      "grid_column": null,
      "grid_gap": null,
      "grid_row": null,
      "grid_template_areas": null,
      "grid_template_columns": null,
      "grid_template_rows": null,
      "height": null,
      "justify_content": null,
      "justify_items": null,
      "left": null,
      "margin": null,
      "max_height": null,
      "max_width": null,
      "min_height": null,
      "min_width": null,
      "object_fit": null,
      "object_position": null,
      "order": null,
      "overflow": null,
      "overflow_x": null,
      "overflow_y": null,
      "padding": null,
      "right": null,
      "top": null,
      "visibility": null,
      "width": null
     }
    },
    "e170eed41534482fa04f328dfd147420": {
     "model_module": "@jupyter-widgets/controls",
     "model_name": "ProgressStyleModel",
     "state": {
      "_model_module": "@jupyter-widgets/controls",
      "_model_module_version": "1.5.0",
      "_model_name": "ProgressStyleModel",
      "_view_count": null,
      "_view_module": "@jupyter-widgets/base",
      "_view_module_version": "1.2.0",
      "_view_name": "StyleView",
      "bar_color": null,
      "description_width": "initial"
     }
    },
    "e830e34466a5470c942b949c485d8e05": {
     "model_module": "@jupyter-widgets/controls",
     "model_name": "HTMLModel",
     "state": {
      "_dom_classes": [],
      "_model_module": "@jupyter-widgets/controls",
      "_model_module_version": "1.5.0",
      "_model_name": "HTMLModel",
      "_view_count": null,
      "_view_module": "@jupyter-widgets/controls",
      "_view_module_version": "1.5.0",
      "_view_name": "HTMLView",
      "description": "",
      "description_tooltip": null,
      "layout": "IPY_MODEL_abaf96f5ad954253882d97ea1c3b17ae",
      "placeholder": "​",
      "style": "IPY_MODEL_ae1e1f72aecc4ee394c3b5535c62c72c",
      "value": " 26427392/? [00:20&lt;00:00, 315215.21it/s]"
     }
    },
    "fa91f254ab204045a35f82e5baddc062": {
     "model_module": "@jupyter-widgets/controls",
     "model_name": "ProgressStyleModel",
     "state": {
      "_model_module": "@jupyter-widgets/controls",
      "_model_module_version": "1.5.0",
      "_model_name": "ProgressStyleModel",
      "_view_count": null,
      "_view_module": "@jupyter-widgets/base",
      "_view_module_version": "1.2.0",
      "_view_name": "StyleView",
      "bar_color": null,
      "description_width": "initial"
     }
    },
    "ff61c24ca43842f88db1b17c93b1527e": {
     "model_module": "@jupyter-widgets/base",
     "model_name": "LayoutModel",
     "state": {
      "_model_module": "@jupyter-widgets/base",
      "_model_module_version": "1.2.0",
      "_model_name": "LayoutModel",
      "_view_count": null,
      "_view_module": "@jupyter-widgets/base",
      "_view_module_version": "1.2.0",
      "_view_name": "LayoutView",
      "align_content": null,
      "align_items": null,
      "align_self": null,
      "border": null,
      "bottom": null,
      "display": null,
      "flex": null,
      "flex_flow": null,
      "grid_area": null,
      "grid_auto_columns": null,
      "grid_auto_flow": null,
      "grid_auto_rows": null,
      "grid_column": null,
      "grid_gap": null,
      "grid_row": null,
      "grid_template_areas": null,
      "grid_template_columns": null,
      "grid_template_rows": null,
      "height": null,
      "justify_content": null,
      "justify_items": null,
      "left": null,
      "margin": null,
      "max_height": null,
      "max_width": null,
      "min_height": null,
      "min_width": null,
      "object_fit": null,
      "object_position": null,
      "order": null,
      "overflow": null,
      "overflow_x": null,
      "overflow_y": null,
      "padding": null,
      "right": null,
      "top": null,
      "visibility": null,
      "width": null
     }
    }
   }
  }
 },
 "nbformat": 4,
 "nbformat_minor": 4
}
