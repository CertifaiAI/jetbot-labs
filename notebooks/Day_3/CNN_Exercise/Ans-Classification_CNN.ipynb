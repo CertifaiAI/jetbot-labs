{
 "cells": [
  {
   "cell_type": "markdown",
   "metadata": {
    "id": "i5OW4csoRjXr"
   },
   "source": [
    "# Part 2 - Classification with PyTorch"
   ]
  },
  {
   "cell_type": "code",
   "execution_count": null,
   "metadata": {
    "id": "0WcjqDImRf87"
   },
   "outputs": [],
   "source": [
    "import torch\r\n",
    "import torch.nn as nn\r\n",
    "import torch.nn.functional as F\r\n",
    "import torch.optim as optim\r\n",
    "import torchvision\r\n",
    "import matplotlib.pyplot as plt\r\n",
    "\r\n",
    "import warnings\r\n",
    "warnings.filterwarnings(\"ignore\")"
   ]
  },
  {
   "cell_type": "markdown",
   "metadata": {
    "id": "10LsEe7QhMRP"
   },
   "source": [
    "## Hyperparameters"
   ]
  },
  {
   "cell_type": "code",
   "execution_count": null,
   "metadata": {
    "id": "e051WsvWPb9k"
   },
   "outputs": [],
   "source": [
    "device = 'cuda'\r\n",
    "n_epochs = 10\r\n",
    "batch_size_train = 128\r\n",
    "batch_size_test = 32\r\n",
    "learning_rate = 0.01\r\n",
    "momentum = 0.9"
   ]
  },
  {
   "cell_type": "markdown",
   "metadata": {
    "id": "beixi1tJOX2U"
   },
   "source": [
    "## Prepare FashionMNIST image dataset\r\n",
    "\r\n",
    "Using torchvision api to download MNIST data"
   ]
  },
  {
   "cell_type": "code",
   "execution_count": null,
   "metadata": {
    "colab": {
     "base_uri": "https://localhost:8080/",
     "referenced_widgets": [
      "2609bf9e3c3d4c8d88a0a448e342b82a",
      "828118111b3b4016b6b0550feef73efb",
      "ba8b8d79175a43baacf35ef2cc5af884",
      "8ec8966d95e743638782d14c7c345592",
      "1b9b01c351124151a298f9a12dacaa1c",
      "8a5480db7c994a64b4492caec7758cb9",
      "f0088f610c7242c19e157ec499bdeb38",
      "86d8361cc89645189d99490abb2d5211",
      "06e5fb61c42449bba8879202572b4efc",
      "b0d8558bc396433280bf7ab0ffd3b39a",
      "d580f9937cbe4b968072726ecf2e4ed7",
      "24cdfc30523a4de5a2af3a55c2342a92",
      "09dffbe8305d4f5b90f5c3328141d33c",
      "790b4ccbe9e548f78be3eb98a245f689",
      "568f77bb373f4ef488050dde068ad251",
      "6354610e067c4a2c830c197e5354ed39",
      "fe0ddd26b9c8482e92fbffc124cd3d95",
      "67c8d82c6b9d4adc8d6d164be9750bb6",
      "bac50b9e6baa43f5b6eb3661b5967f2b",
      "136374e87f39492ab4fc193804b11d59",
      "30a9ce153158460a8aca11c544c442af",
      "cc36258d938a4f65aa9c72f045b33ead",
      "c92f7d81644a4cfab15b2ee2a12af897",
      "7d08c2acf0b9423495fad10e76913089",
      "71f9de103f9e4a20a3d3c07f057b524b",
      "aecc44231fd74818ba88663ece718849",
      "ef07244277134401a0eb7a27cde7499a",
      "ce3371cb203d4946851b31326035672e",
      "61930064d45d4e08b8e6354dfb2a2de5",
      "26aff9a3958c42e4a8a304c3fe37a665",
      "232c5945adad43fc80e06b6d3ebb3d90",
      "94a2948070ab4fcc8db07637d756b1a9"
     ]
    },
    "executionInfo": {
     "elapsed": 9924,
     "status": "ok",
     "timestamp": 1610354259829,
     "user": {
      "displayName": "Deven Yantis (Deven)",
      "photoUrl": "https://lh3.googleusercontent.com/a-/AOh14GhvP5W8J7Hz2cWKHBt4UCPzSoj0W1pWuf37hx8=s64",
      "userId": "03984650301693922870"
     },
     "user_tz": -480
    },
    "id": "ZFOUrJxwXsJi",
    "outputId": "4529bfb3-472f-4feb-8fa2-94b48d9fa14b"
   },
   "outputs": [],
   "source": [
    "transform = torchvision.transforms.Compose([\r\n",
    "        torchvision.transforms.ToTensor()\r\n",
    "    ])\r\n",
    "\r\n",
    "train_data = torchvision.datasets.FashionMNIST('./data', train=True, download=True,\r\n",
    "                                       transform=transform)\r\n",
    "validation_data = torchvision.datasets.FashionMNIST('./data', train=False, download=True,\r\n",
    "                                      transform=transform)\r\n",
    "\r\n",
    "train_loader = torch.utils.data.DataLoader(train_data, batch_size=batch_size_train, \r\n",
    "                                           shuffle=True)\r\n",
    "validation_loader = torch.utils.data.DataLoader(validation_data, batch_size=batch_size_test, \r\n",
    "                                           shuffle=True)"
   ]
  },
  {
   "cell_type": "markdown",
   "metadata": {
    "id": "AQaNIp60ObkF"
   },
   "source": [
    "## Define Model"
   ]
  },
  {
   "cell_type": "code",
   "execution_count": null,
   "metadata": {
    "id": "HQrG4ScyYtoo"
   },
   "outputs": [],
   "source": [
    "class Net(nn.Module):\r\n",
    "    def __init__(self):\r\n",
    "        super(Net, self).__init__()\r\n",
    "\r\n",
    "        self.conv1 = nn.Conv2d(1, 10, kernel_size=5)\r\n",
    "        self.conv2 = nn.Conv2d(10, 20, kernel_size=5)\r\n",
    "        self.fc1 = nn.Linear(320, 50)\r\n",
    "        self.fc2 = nn.Linear(50, 10)\r\n",
    "\r\n",
    "    def forward(self, x):\r\n",
    "        x = F.max_pool2d(self.conv1(x), 2)\r\n",
    "        x = F.relu(x)\r\n",
    "        x = F.max_pool2d(self.conv2(x), 2)\r\n",
    "        x = F.relu(x)\r\n",
    "        x = x.view(-1, 320)\r\n",
    "        x = F.relu(self.fc1(x))\r\n",
    "        x = self.fc2(x)\r\n",
    "        return F.log_softmax(x)"
   ]
  },
  {
   "cell_type": "code",
   "execution_count": null,
   "metadata": {
    "id": "8MhwUtzyOWgY"
   },
   "outputs": [],
   "source": [
    "# Initialize model and send to GPU\r\n",
    "network = Net().to(device)\r\n",
    "\r\n",
    "# Set algorithm for parameter update\r\n",
    "optimizer = optim.SGD(network.parameters(), lr=learning_rate, momentum=momentum)"
   ]
  },
  {
   "cell_type": "markdown",
   "metadata": {
    "id": "B_F7M1hJOeDy"
   },
   "source": [
    "## Train Model"
   ]
  },
  {
   "cell_type": "code",
   "execution_count": null,
   "metadata": {
    "id": "DnBwAdMxZ6Mu"
   },
   "outputs": [],
   "source": [
    "# Almost the same format with training loop.\r\n",
    "# But, without .backward(), .step()\r\n",
    "# Also using different data loader.\r\n",
    "def evaluate():\r\n",
    "    network.eval()\r\n",
    "    val_loss, correct = 0, 0\r\n",
    "    with torch.no_grad():\r\n",
    "        for data, target in validation_loader:\r\n",
    "            data, target = data.to(device), target.to(device)\r\n",
    "            output = network(data)\r\n",
    "            val_loss += F.nll_loss(output, target, size_average=False).item() \r\n",
    "            \r\n",
    "            pred = output.data.max(1, keepdim=True)[1]\r\n",
    "            correct += pred.eq(target.data.view_as(pred)).sum()\r\n",
    "    val_loss /= len(validation_loader.dataset)\r\n",
    "    val_losses.append(val_loss)\r\n",
    "    print('\\nValidation set: Avg. loss: {:.4f}, Accuracy: {}/{} ({:.0f}%)\\n'.format(\r\n",
    "        val_loss, correct, len(validation_loader.dataset),\r\n",
    "        100. * correct / len(validation_loader.dataset)))"
   ]
  },
  {
   "cell_type": "code",
   "execution_count": null,
   "metadata": {
    "colab": {
     "base_uri": "https://localhost:8080/"
    },
    "executionInfo": {
     "elapsed": 629,
     "status": "ok",
     "timestamp": 1610354326641,
     "user": {
      "displayName": "Deven Yantis (Deven)",
      "photoUrl": "https://lh3.googleusercontent.com/a-/AOh14GhvP5W8J7Hz2cWKHBt4UCPzSoj0W1pWuf37hx8=s64",
      "userId": "03984650301693922870"
     },
     "user_tz": -480
    },
    "id": "lX3w9Vo-EhBs",
    "outputId": "65a251e3-2460-43fa-98fc-601a29eaa4ac"
   },
   "outputs": [],
   "source": [
    "network"
   ]
  },
  {
   "cell_type": "code",
   "execution_count": null,
   "metadata": {
    "id": "HwQGFw0-1JLn"
   },
   "outputs": [],
   "source": [
    "train_losses, train_counter, val_losses = [], [], []"
   ]
  },
  {
   "cell_type": "code",
   "execution_count": null,
   "metadata": {
    "colab": {
     "base_uri": "https://localhost:8080/"
    },
    "executionInfo": {
     "elapsed": 66115,
     "status": "ok",
     "timestamp": 1610354393048,
     "user": {
      "displayName": "Deven Yantis (Deven)",
      "photoUrl": "https://lh3.googleusercontent.com/a-/AOh14GhvP5W8J7Hz2cWKHBt4UCPzSoj0W1pWuf37hx8=s64",
      "userId": "03984650301693922870"
     },
     "user_tz": -480
    },
    "id": "MQttClGbaOrh",
    "outputId": "b718535e-2aa5-40e2-d4e1-14a5958f1358"
   },
   "outputs": [],
   "source": [
    "for epoch in range(1, n_epochs + 1):\r\n",
    "\r\n",
    "    # Print training loss for every 10 batch\r\n",
    "    log_interval = 10\r\n",
    "\r\n",
    "    # Set model to training mode\r\n",
    "    # Change behavior of some layers like batchnorm, dropout, etc\r\n",
    "    network.train()\r\n",
    "\r\n",
    "    for batch_idx, (data, target) in enumerate(train_loader):\r\n",
    "\r\n",
    "        # Send tensor to specified device\r\n",
    "        # Default on CPU\r\n",
    "        # Sending them to GPU OR CUDA\r\n",
    "        data, target = data.to(device), target.to(device)\r\n",
    "\r\n",
    "        # Reset all gradient to zero after each iteration\r\n",
    "        # To prevent gradient accumulation\r\n",
    "        optimizer.zero_grad()\r\n",
    "\r\n",
    "        # Forward pass\r\n",
    "        output = network(data)\r\n",
    "        # Loss Calculation\r\n",
    "        loss = F.nll_loss(output, target)\r\n",
    "\r\n",
    "        # Calculate the update value for every parameters\r\n",
    "        # Does not update parameter value\r\n",
    "        loss.backward()\r\n",
    "\r\n",
    "        # Update all parameters according to the gradient value\r\n",
    "        optimizer.step()\r\n",
    "        \r\n",
    "        # Print training loss\r\n",
    "        if batch_idx % log_interval == 0:\r\n",
    "            print('Train Epoch: {} [{}/{} ({:.0f}%)]\\tLoss: {:.6f}'.format(\r\n",
    "                epoch, batch_idx * len(data), len(train_loader.dataset),\r\n",
    "                100. * batch_idx / len(train_loader), loss.item()))\r\n",
    "            train_losses.append(loss.item())\r\n",
    "            train_counter.append(\r\n",
    "                (batch_idx*64) + ((epoch-1)*len(train_loader.dataset)))\r\n",
    "\r\n",
    "    # Perform evaluation\r\n",
    "    evaluate()"
   ]
  },
  {
   "cell_type": "markdown",
   "metadata": {
    "id": "r93dTMK3PM4r"
   },
   "source": [
    "## View Evaluation"
   ]
  },
  {
   "cell_type": "code",
   "execution_count": null,
   "metadata": {
    "id": "a5MByWx0aUJ6"
   },
   "outputs": [],
   "source": [
    "# Evaluate on one batch only\r\n",
    "examples = enumerate(validation_loader)\r\n",
    "batch_idx, (example_data, example_targets) = next(examples)\r\n",
    "\r\n",
    "# To run model without performing grading parameters\r\n",
    "with torch.no_grad():\r\n",
    "\r\n",
    "    # Prepare dataset\r\n",
    "    pred_data = example_data\r\n",
    "\r\n",
    "    # Set model to evaluation mode\r\n",
    "    network.eval()\r\n",
    "\r\n",
    "    # Inference\r\n",
    "    predictions = network(pred_data.to(device))\r\n",
    "\r\n",
    "    # Format predictions to get labels\r\n",
    "    predicted_labels = predictions.data.max(1, keepdim=True)[1].cpu().detach().numpy()"
   ]
  },
  {
   "cell_type": "code",
   "execution_count": null,
   "metadata": {
    "id": "6TvjqLW0S0xc"
   },
   "outputs": [],
   "source": [
    "fashion_labels = [\"T-shirt/top\", \"Trouser\", \"Pullover\", \r\n",
    "                  \"Dress\", \"Coat\", \"Sandal\", \"Shirt\", \r\n",
    "                  \"Sneaker\", \"Bag\", \"Ankle boot\"]"
   ]
  },
  {
   "cell_type": "code",
   "execution_count": null,
   "metadata": {
    "id": "SV07wsuMcwiz"
   },
   "outputs": [],
   "source": [
    "fig = plt.figure()\r\n",
    "for i in range(6):\r\n",
    "    plt.subplot(2,3,i+1)\r\n",
    "    plt.tight_layout()\r\n",
    "    plt.imshow(example_data[i][0], cmap='gray', interpolation='none')\r\n",
    "    plt.title(\"Predicted: {}\".format(fashion_labels[predicted_labels[i][0]]))\r\n",
    "    plt.xticks([])\r\n",
    "    plt.yticks([])\r\n",
    "fig"
   ]
  }
 ],
 "metadata": {
  "accelerator": "GPU",
  "colab": {
   "collapsed_sections": [],
   "name": "Answer - Classification CNN Hands on.ipynb",
   "provenance": []
  },
  "kernelspec": {
   "display_name": "Python 3",
   "language": "python",
   "name": "python3"
  },
  "language_info": {
   "codemirror_mode": {
    "name": "ipython",
    "version": 3
   },
   "file_extension": ".py",
   "mimetype": "text/x-python",
   "name": "python",
   "nbconvert_exporter": "python",
   "pygments_lexer": "ipython3",
   "version": "3.7.7"
  },
  "widgets": {
   "application/vnd.jupyter.widget-state+json": {
    "06e5fb61c42449bba8879202572b4efc": {
     "model_module": "@jupyter-widgets/controls",
     "model_name": "HBoxModel",
     "state": {
      "_dom_classes": [],
      "_model_module": "@jupyter-widgets/controls",
      "_model_module_version": "1.5.0",
      "_model_name": "HBoxModel",
      "_view_count": null,
      "_view_module": "@jupyter-widgets/controls",
      "_view_module_version": "1.5.0",
      "_view_name": "HBoxView",
      "box_style": "",
      "children": [
       "IPY_MODEL_d580f9937cbe4b968072726ecf2e4ed7",
       "IPY_MODEL_24cdfc30523a4de5a2af3a55c2342a92"
      ],
      "layout": "IPY_MODEL_b0d8558bc396433280bf7ab0ffd3b39a"
     }
    },
    "09dffbe8305d4f5b90f5c3328141d33c": {
     "model_module": "@jupyter-widgets/controls",
     "model_name": "ProgressStyleModel",
     "state": {
      "_model_module": "@jupyter-widgets/controls",
      "_model_module_version": "1.5.0",
      "_model_name": "ProgressStyleModel",
      "_view_count": null,
      "_view_module": "@jupyter-widgets/base",
      "_view_module_version": "1.2.0",
      "_view_name": "StyleView",
      "bar_color": null,
      "description_width": "initial"
     }
    },
    "136374e87f39492ab4fc193804b11d59": {
     "model_module": "@jupyter-widgets/controls",
     "model_name": "HTMLModel",
     "state": {
      "_dom_classes": [],
      "_model_module": "@jupyter-widgets/controls",
      "_model_module_version": "1.5.0",
      "_model_name": "HTMLModel",
      "_view_count": null,
      "_view_module": "@jupyter-widgets/controls",
      "_view_module_version": "1.5.0",
      "_view_name": "HTMLView",
      "description": "",
      "description_tooltip": null,
      "layout": "IPY_MODEL_7d08c2acf0b9423495fad10e76913089",
      "placeholder": "​",
      "style": "IPY_MODEL_c92f7d81644a4cfab15b2ee2a12af897",
      "value": " 4423680/? [00:16&lt;00:00, 775917.59it/s]"
     }
    },
    "1b9b01c351124151a298f9a12dacaa1c": {
     "model_module": "@jupyter-widgets/controls",
     "model_name": "ProgressStyleModel",
     "state": {
      "_model_module": "@jupyter-widgets/controls",
      "_model_module_version": "1.5.0",
      "_model_name": "ProgressStyleModel",
      "_view_count": null,
      "_view_module": "@jupyter-widgets/base",
      "_view_module_version": "1.2.0",
      "_view_name": "StyleView",
      "bar_color": null,
      "description_width": "initial"
     }
    },
    "232c5945adad43fc80e06b6d3ebb3d90": {
     "model_module": "@jupyter-widgets/controls",
     "model_name": "DescriptionStyleModel",
     "state": {
      "_model_module": "@jupyter-widgets/controls",
      "_model_module_version": "1.5.0",
      "_model_name": "DescriptionStyleModel",
      "_view_count": null,
      "_view_module": "@jupyter-widgets/base",
      "_view_module_version": "1.2.0",
      "_view_name": "StyleView",
      "description_width": ""
     }
    },
    "24cdfc30523a4de5a2af3a55c2342a92": {
     "model_module": "@jupyter-widgets/controls",
     "model_name": "HTMLModel",
     "state": {
      "_dom_classes": [],
      "_model_module": "@jupyter-widgets/controls",
      "_model_module_version": "1.5.0",
      "_model_name": "HTMLModel",
      "_view_count": null,
      "_view_module": "@jupyter-widgets/controls",
      "_view_module_version": "1.5.0",
      "_view_name": "HTMLView",
      "description": "",
      "description_tooltip": null,
      "layout": "IPY_MODEL_6354610e067c4a2c830c197e5354ed39",
      "placeholder": "​",
      "style": "IPY_MODEL_568f77bb373f4ef488050dde068ad251",
      "value": " 32768/? [00:00&lt;00:00, 63575.34it/s]"
     }
    },
    "2609bf9e3c3d4c8d88a0a448e342b82a": {
     "model_module": "@jupyter-widgets/controls",
     "model_name": "HBoxModel",
     "state": {
      "_dom_classes": [],
      "_model_module": "@jupyter-widgets/controls",
      "_model_module_version": "1.5.0",
      "_model_name": "HBoxModel",
      "_view_count": null,
      "_view_module": "@jupyter-widgets/controls",
      "_view_module_version": "1.5.0",
      "_view_name": "HBoxView",
      "box_style": "",
      "children": [
       "IPY_MODEL_ba8b8d79175a43baacf35ef2cc5af884",
       "IPY_MODEL_8ec8966d95e743638782d14c7c345592"
      ],
      "layout": "IPY_MODEL_828118111b3b4016b6b0550feef73efb"
     }
    },
    "26aff9a3958c42e4a8a304c3fe37a665": {
     "model_module": "@jupyter-widgets/base",
     "model_name": "LayoutModel",
     "state": {
      "_model_module": "@jupyter-widgets/base",
      "_model_module_version": "1.2.0",
      "_model_name": "LayoutModel",
      "_view_count": null,
      "_view_module": "@jupyter-widgets/base",
      "_view_module_version": "1.2.0",
      "_view_name": "LayoutView",
      "align_content": null,
      "align_items": null,
      "align_self": null,
      "border": null,
      "bottom": null,
      "display": null,
      "flex": null,
      "flex_flow": null,
      "grid_area": null,
      "grid_auto_columns": null,
      "grid_auto_flow": null,
      "grid_auto_rows": null,
      "grid_column": null,
      "grid_gap": null,
      "grid_row": null,
      "grid_template_areas": null,
      "grid_template_columns": null,
      "grid_template_rows": null,
      "height": null,
      "justify_content": null,
      "justify_items": null,
      "left": null,
      "margin": null,
      "max_height": null,
      "max_width": null,
      "min_height": null,
      "min_width": null,
      "object_fit": null,
      "object_position": null,
      "order": null,
      "overflow": null,
      "overflow_x": null,
      "overflow_y": null,
      "padding": null,
      "right": null,
      "top": null,
      "visibility": null,
      "width": null
     }
    },
    "30a9ce153158460a8aca11c544c442af": {
     "model_module": "@jupyter-widgets/controls",
     "model_name": "ProgressStyleModel",
     "state": {
      "_model_module": "@jupyter-widgets/controls",
      "_model_module_version": "1.5.0",
      "_model_name": "ProgressStyleModel",
      "_view_count": null,
      "_view_module": "@jupyter-widgets/base",
      "_view_module_version": "1.2.0",
      "_view_name": "StyleView",
      "bar_color": null,
      "description_width": "initial"
     }
    },
    "568f77bb373f4ef488050dde068ad251": {
     "model_module": "@jupyter-widgets/controls",
     "model_name": "DescriptionStyleModel",
     "state": {
      "_model_module": "@jupyter-widgets/controls",
      "_model_module_version": "1.5.0",
      "_model_name": "DescriptionStyleModel",
      "_view_count": null,
      "_view_module": "@jupyter-widgets/base",
      "_view_module_version": "1.2.0",
      "_view_name": "StyleView",
      "description_width": ""
     }
    },
    "61930064d45d4e08b8e6354dfb2a2de5": {
     "model_module": "@jupyter-widgets/controls",
     "model_name": "ProgressStyleModel",
     "state": {
      "_model_module": "@jupyter-widgets/controls",
      "_model_module_version": "1.5.0",
      "_model_name": "ProgressStyleModel",
      "_view_count": null,
      "_view_module": "@jupyter-widgets/base",
      "_view_module_version": "1.2.0",
      "_view_name": "StyleView",
      "bar_color": null,
      "description_width": "initial"
     }
    },
    "6354610e067c4a2c830c197e5354ed39": {
     "model_module": "@jupyter-widgets/base",
     "model_name": "LayoutModel",
     "state": {
      "_model_module": "@jupyter-widgets/base",
      "_model_module_version": "1.2.0",
      "_model_name": "LayoutModel",
      "_view_count": null,
      "_view_module": "@jupyter-widgets/base",
      "_view_module_version": "1.2.0",
      "_view_name": "LayoutView",
      "align_content": null,
      "align_items": null,
      "align_self": null,
      "border": null,
      "bottom": null,
      "display": null,
      "flex": null,
      "flex_flow": null,
      "grid_area": null,
      "grid_auto_columns": null,
      "grid_auto_flow": null,
      "grid_auto_rows": null,
      "grid_column": null,
      "grid_gap": null,
      "grid_row": null,
      "grid_template_areas": null,
      "grid_template_columns": null,
      "grid_template_rows": null,
      "height": null,
      "justify_content": null,
      "justify_items": null,
      "left": null,
      "margin": null,
      "max_height": null,
      "max_width": null,
      "min_height": null,
      "min_width": null,
      "object_fit": null,
      "object_position": null,
      "order": null,
      "overflow": null,
      "overflow_x": null,
      "overflow_y": null,
      "padding": null,
      "right": null,
      "top": null,
      "visibility": null,
      "width": null
     }
    },
    "67c8d82c6b9d4adc8d6d164be9750bb6": {
     "model_module": "@jupyter-widgets/base",
     "model_name": "LayoutModel",
     "state": {
      "_model_module": "@jupyter-widgets/base",
      "_model_module_version": "1.2.0",
      "_model_name": "LayoutModel",
      "_view_count": null,
      "_view_module": "@jupyter-widgets/base",
      "_view_module_version": "1.2.0",
      "_view_name": "LayoutView",
      "align_content": null,
      "align_items": null,
      "align_self": null,
      "border": null,
      "bottom": null,
      "display": null,
      "flex": null,
      "flex_flow": null,
      "grid_area": null,
      "grid_auto_columns": null,
      "grid_auto_flow": null,
      "grid_auto_rows": null,
      "grid_column": null,
      "grid_gap": null,
      "grid_row": null,
      "grid_template_areas": null,
      "grid_template_columns": null,
      "grid_template_rows": null,
      "height": null,
      "justify_content": null,
      "justify_items": null,
      "left": null,
      "margin": null,
      "max_height": null,
      "max_width": null,
      "min_height": null,
      "min_width": null,
      "object_fit": null,
      "object_position": null,
      "order": null,
      "overflow": null,
      "overflow_x": null,
      "overflow_y": null,
      "padding": null,
      "right": null,
      "top": null,
      "visibility": null,
      "width": null
     }
    },
    "71f9de103f9e4a20a3d3c07f057b524b": {
     "model_module": "@jupyter-widgets/controls",
     "model_name": "HBoxModel",
     "state": {
      "_dom_classes": [],
      "_model_module": "@jupyter-widgets/controls",
      "_model_module_version": "1.5.0",
      "_model_name": "HBoxModel",
      "_view_count": null,
      "_view_module": "@jupyter-widgets/controls",
      "_view_module_version": "1.5.0",
      "_view_name": "HBoxView",
      "box_style": "",
      "children": [
       "IPY_MODEL_ef07244277134401a0eb7a27cde7499a",
       "IPY_MODEL_ce3371cb203d4946851b31326035672e"
      ],
      "layout": "IPY_MODEL_aecc44231fd74818ba88663ece718849"
     }
    },
    "790b4ccbe9e548f78be3eb98a245f689": {
     "model_module": "@jupyter-widgets/base",
     "model_name": "LayoutModel",
     "state": {
      "_model_module": "@jupyter-widgets/base",
      "_model_module_version": "1.2.0",
      "_model_name": "LayoutModel",
      "_view_count": null,
      "_view_module": "@jupyter-widgets/base",
      "_view_module_version": "1.2.0",
      "_view_name": "LayoutView",
      "align_content": null,
      "align_items": null,
      "align_self": null,
      "border": null,
      "bottom": null,
      "display": null,
      "flex": null,
      "flex_flow": null,
      "grid_area": null,
      "grid_auto_columns": null,
      "grid_auto_flow": null,
      "grid_auto_rows": null,
      "grid_column": null,
      "grid_gap": null,
      "grid_row": null,
      "grid_template_areas": null,
      "grid_template_columns": null,
      "grid_template_rows": null,
      "height": null,
      "justify_content": null,
      "justify_items": null,
      "left": null,
      "margin": null,
      "max_height": null,
      "max_width": null,
      "min_height": null,
      "min_width": null,
      "object_fit": null,
      "object_position": null,
      "order": null,
      "overflow": null,
      "overflow_x": null,
      "overflow_y": null,
      "padding": null,
      "right": null,
      "top": null,
      "visibility": null,
      "width": null
     }
    },
    "7d08c2acf0b9423495fad10e76913089": {
     "model_module": "@jupyter-widgets/base",
     "model_name": "LayoutModel",
     "state": {
      "_model_module": "@jupyter-widgets/base",
      "_model_module_version": "1.2.0",
      "_model_name": "LayoutModel",
      "_view_count": null,
      "_view_module": "@jupyter-widgets/base",
      "_view_module_version": "1.2.0",
      "_view_name": "LayoutView",
      "align_content": null,
      "align_items": null,
      "align_self": null,
      "border": null,
      "bottom": null,
      "display": null,
      "flex": null,
      "flex_flow": null,
      "grid_area": null,
      "grid_auto_columns": null,
      "grid_auto_flow": null,
      "grid_auto_rows": null,
      "grid_column": null,
      "grid_gap": null,
      "grid_row": null,
      "grid_template_areas": null,
      "grid_template_columns": null,
      "grid_template_rows": null,
      "height": null,
      "justify_content": null,
      "justify_items": null,
      "left": null,
      "margin": null,
      "max_height": null,
      "max_width": null,
      "min_height": null,
      "min_width": null,
      "object_fit": null,
      "object_position": null,
      "order": null,
      "overflow": null,
      "overflow_x": null,
      "overflow_y": null,
      "padding": null,
      "right": null,
      "top": null,
      "visibility": null,
      "width": null
     }
    },
    "828118111b3b4016b6b0550feef73efb": {
     "model_module": "@jupyter-widgets/base",
     "model_name": "LayoutModel",
     "state": {
      "_model_module": "@jupyter-widgets/base",
      "_model_module_version": "1.2.0",
      "_model_name": "LayoutModel",
      "_view_count": null,
      "_view_module": "@jupyter-widgets/base",
      "_view_module_version": "1.2.0",
      "_view_name": "LayoutView",
      "align_content": null,
      "align_items": null,
      "align_self": null,
      "border": null,
      "bottom": null,
      "display": null,
      "flex": null,
      "flex_flow": null,
      "grid_area": null,
      "grid_auto_columns": null,
      "grid_auto_flow": null,
      "grid_auto_rows": null,
      "grid_column": null,
      "grid_gap": null,
      "grid_row": null,
      "grid_template_areas": null,
      "grid_template_columns": null,
      "grid_template_rows": null,
      "height": null,
      "justify_content": null,
      "justify_items": null,
      "left": null,
      "margin": null,
      "max_height": null,
      "max_width": null,
      "min_height": null,
      "min_width": null,
      "object_fit": null,
      "object_position": null,
      "order": null,
      "overflow": null,
      "overflow_x": null,
      "overflow_y": null,
      "padding": null,
      "right": null,
      "top": null,
      "visibility": null,
      "width": null
     }
    },
    "86d8361cc89645189d99490abb2d5211": {
     "model_module": "@jupyter-widgets/base",
     "model_name": "LayoutModel",
     "state": {
      "_model_module": "@jupyter-widgets/base",
      "_model_module_version": "1.2.0",
      "_model_name": "LayoutModel",
      "_view_count": null,
      "_view_module": "@jupyter-widgets/base",
      "_view_module_version": "1.2.0",
      "_view_name": "LayoutView",
      "align_content": null,
      "align_items": null,
      "align_self": null,
      "border": null,
      "bottom": null,
      "display": null,
      "flex": null,
      "flex_flow": null,
      "grid_area": null,
      "grid_auto_columns": null,
      "grid_auto_flow": null,
      "grid_auto_rows": null,
      "grid_column": null,
      "grid_gap": null,
      "grid_row": null,
      "grid_template_areas": null,
      "grid_template_columns": null,
      "grid_template_rows": null,
      "height": null,
      "justify_content": null,
      "justify_items": null,
      "left": null,
      "margin": null,
      "max_height": null,
      "max_width": null,
      "min_height": null,
      "min_width": null,
      "object_fit": null,
      "object_position": null,
      "order": null,
      "overflow": null,
      "overflow_x": null,
      "overflow_y": null,
      "padding": null,
      "right": null,
      "top": null,
      "visibility": null,
      "width": null
     }
    },
    "8a5480db7c994a64b4492caec7758cb9": {
     "model_module": "@jupyter-widgets/base",
     "model_name": "LayoutModel",
     "state": {
      "_model_module": "@jupyter-widgets/base",
      "_model_module_version": "1.2.0",
      "_model_name": "LayoutModel",
      "_view_count": null,
      "_view_module": "@jupyter-widgets/base",
      "_view_module_version": "1.2.0",
      "_view_name": "LayoutView",
      "align_content": null,
      "align_items": null,
      "align_self": null,
      "border": null,
      "bottom": null,
      "display": null,
      "flex": null,
      "flex_flow": null,
      "grid_area": null,
      "grid_auto_columns": null,
      "grid_auto_flow": null,
      "grid_auto_rows": null,
      "grid_column": null,
      "grid_gap": null,
      "grid_row": null,
      "grid_template_areas": null,
      "grid_template_columns": null,
      "grid_template_rows": null,
      "height": null,
      "justify_content": null,
      "justify_items": null,
      "left": null,
      "margin": null,
      "max_height": null,
      "max_width": null,
      "min_height": null,
      "min_width": null,
      "object_fit": null,
      "object_position": null,
      "order": null,
      "overflow": null,
      "overflow_x": null,
      "overflow_y": null,
      "padding": null,
      "right": null,
      "top": null,
      "visibility": null,
      "width": null
     }
    },
    "8ec8966d95e743638782d14c7c345592": {
     "model_module": "@jupyter-widgets/controls",
     "model_name": "HTMLModel",
     "state": {
      "_dom_classes": [],
      "_model_module": "@jupyter-widgets/controls",
      "_model_module_version": "1.5.0",
      "_model_name": "HTMLModel",
      "_view_count": null,
      "_view_module": "@jupyter-widgets/controls",
      "_view_module_version": "1.5.0",
      "_view_name": "HTMLView",
      "description": "",
      "description_tooltip": null,
      "layout": "IPY_MODEL_86d8361cc89645189d99490abb2d5211",
      "placeholder": "​",
      "style": "IPY_MODEL_f0088f610c7242c19e157ec499bdeb38",
      "value": " 26427392/? [00:20&lt;00:00, 6905122.94it/s]"
     }
    },
    "94a2948070ab4fcc8db07637d756b1a9": {
     "model_module": "@jupyter-widgets/base",
     "model_name": "LayoutModel",
     "state": {
      "_model_module": "@jupyter-widgets/base",
      "_model_module_version": "1.2.0",
      "_model_name": "LayoutModel",
      "_view_count": null,
      "_view_module": "@jupyter-widgets/base",
      "_view_module_version": "1.2.0",
      "_view_name": "LayoutView",
      "align_content": null,
      "align_items": null,
      "align_self": null,
      "border": null,
      "bottom": null,
      "display": null,
      "flex": null,
      "flex_flow": null,
      "grid_area": null,
      "grid_auto_columns": null,
      "grid_auto_flow": null,
      "grid_auto_rows": null,
      "grid_column": null,
      "grid_gap": null,
      "grid_row": null,
      "grid_template_areas": null,
      "grid_template_columns": null,
      "grid_template_rows": null,
      "height": null,
      "justify_content": null,
      "justify_items": null,
      "left": null,
      "margin": null,
      "max_height": null,
      "max_width": null,
      "min_height": null,
      "min_width": null,
      "object_fit": null,
      "object_position": null,
      "order": null,
      "overflow": null,
      "overflow_x": null,
      "overflow_y": null,
      "padding": null,
      "right": null,
      "top": null,
      "visibility": null,
      "width": null
     }
    },
    "aecc44231fd74818ba88663ece718849": {
     "model_module": "@jupyter-widgets/base",
     "model_name": "LayoutModel",
     "state": {
      "_model_module": "@jupyter-widgets/base",
      "_model_module_version": "1.2.0",
      "_model_name": "LayoutModel",
      "_view_count": null,
      "_view_module": "@jupyter-widgets/base",
      "_view_module_version": "1.2.0",
      "_view_name": "LayoutView",
      "align_content": null,
      "align_items": null,
      "align_self": null,
      "border": null,
      "bottom": null,
      "display": null,
      "flex": null,
      "flex_flow": null,
      "grid_area": null,
      "grid_auto_columns": null,
      "grid_auto_flow": null,
      "grid_auto_rows": null,
      "grid_column": null,
      "grid_gap": null,
      "grid_row": null,
      "grid_template_areas": null,
      "grid_template_columns": null,
      "grid_template_rows": null,
      "height": null,
      "justify_content": null,
      "justify_items": null,
      "left": null,
      "margin": null,
      "max_height": null,
      "max_width": null,
      "min_height": null,
      "min_width": null,
      "object_fit": null,
      "object_position": null,
      "order": null,
      "overflow": null,
      "overflow_x": null,
      "overflow_y": null,
      "padding": null,
      "right": null,
      "top": null,
      "visibility": null,
      "width": null
     }
    },
    "b0d8558bc396433280bf7ab0ffd3b39a": {
     "model_module": "@jupyter-widgets/base",
     "model_name": "LayoutModel",
     "state": {
      "_model_module": "@jupyter-widgets/base",
      "_model_module_version": "1.2.0",
      "_model_name": "LayoutModel",
      "_view_count": null,
      "_view_module": "@jupyter-widgets/base",
      "_view_module_version": "1.2.0",
      "_view_name": "LayoutView",
      "align_content": null,
      "align_items": null,
      "align_self": null,
      "border": null,
      "bottom": null,
      "display": null,
      "flex": null,
      "flex_flow": null,
      "grid_area": null,
      "grid_auto_columns": null,
      "grid_auto_flow": null,
      "grid_auto_rows": null,
      "grid_column": null,
      "grid_gap": null,
      "grid_row": null,
      "grid_template_areas": null,
      "grid_template_columns": null,
      "grid_template_rows": null,
      "height": null,
      "justify_content": null,
      "justify_items": null,
      "left": null,
      "margin": null,
      "max_height": null,
      "max_width": null,
      "min_height": null,
      "min_width": null,
      "object_fit": null,
      "object_position": null,
      "order": null,
      "overflow": null,
      "overflow_x": null,
      "overflow_y": null,
      "padding": null,
      "right": null,
      "top": null,
      "visibility": null,
      "width": null
     }
    },
    "ba8b8d79175a43baacf35ef2cc5af884": {
     "model_module": "@jupyter-widgets/controls",
     "model_name": "FloatProgressModel",
     "state": {
      "_dom_classes": [],
      "_model_module": "@jupyter-widgets/controls",
      "_model_module_version": "1.5.0",
      "_model_name": "FloatProgressModel",
      "_view_count": null,
      "_view_module": "@jupyter-widgets/controls",
      "_view_module_version": "1.5.0",
      "_view_name": "ProgressView",
      "bar_style": "info",
      "description": "",
      "description_tooltip": null,
      "layout": "IPY_MODEL_8a5480db7c994a64b4492caec7758cb9",
      "max": 1,
      "min": 0,
      "orientation": "horizontal",
      "style": "IPY_MODEL_1b9b01c351124151a298f9a12dacaa1c",
      "value": 1
     }
    },
    "bac50b9e6baa43f5b6eb3661b5967f2b": {
     "model_module": "@jupyter-widgets/controls",
     "model_name": "FloatProgressModel",
     "state": {
      "_dom_classes": [],
      "_model_module": "@jupyter-widgets/controls",
      "_model_module_version": "1.5.0",
      "_model_name": "FloatProgressModel",
      "_view_count": null,
      "_view_module": "@jupyter-widgets/controls",
      "_view_module_version": "1.5.0",
      "_view_name": "ProgressView",
      "bar_style": "info",
      "description": "",
      "description_tooltip": null,
      "layout": "IPY_MODEL_cc36258d938a4f65aa9c72f045b33ead",
      "max": 1,
      "min": 0,
      "orientation": "horizontal",
      "style": "IPY_MODEL_30a9ce153158460a8aca11c544c442af",
      "value": 1
     }
    },
    "c92f7d81644a4cfab15b2ee2a12af897": {
     "model_module": "@jupyter-widgets/controls",
     "model_name": "DescriptionStyleModel",
     "state": {
      "_model_module": "@jupyter-widgets/controls",
      "_model_module_version": "1.5.0",
      "_model_name": "DescriptionStyleModel",
      "_view_count": null,
      "_view_module": "@jupyter-widgets/base",
      "_view_module_version": "1.2.0",
      "_view_name": "StyleView",
      "description_width": ""
     }
    },
    "cc36258d938a4f65aa9c72f045b33ead": {
     "model_module": "@jupyter-widgets/base",
     "model_name": "LayoutModel",
     "state": {
      "_model_module": "@jupyter-widgets/base",
      "_model_module_version": "1.2.0",
      "_model_name": "LayoutModel",
      "_view_count": null,
      "_view_module": "@jupyter-widgets/base",
      "_view_module_version": "1.2.0",
      "_view_name": "LayoutView",
      "align_content": null,
      "align_items": null,
      "align_self": null,
      "border": null,
      "bottom": null,
      "display": null,
      "flex": null,
      "flex_flow": null,
      "grid_area": null,
      "grid_auto_columns": null,
      "grid_auto_flow": null,
      "grid_auto_rows": null,
      "grid_column": null,
      "grid_gap": null,
      "grid_row": null,
      "grid_template_areas": null,
      "grid_template_columns": null,
      "grid_template_rows": null,
      "height": null,
      "justify_content": null,
      "justify_items": null,
      "left": null,
      "margin": null,
      "max_height": null,
      "max_width": null,
      "min_height": null,
      "min_width": null,
      "object_fit": null,
      "object_position": null,
      "order": null,
      "overflow": null,
      "overflow_x": null,
      "overflow_y": null,
      "padding": null,
      "right": null,
      "top": null,
      "visibility": null,
      "width": null
     }
    },
    "ce3371cb203d4946851b31326035672e": {
     "model_module": "@jupyter-widgets/controls",
     "model_name": "HTMLModel",
     "state": {
      "_dom_classes": [],
      "_model_module": "@jupyter-widgets/controls",
      "_model_module_version": "1.5.0",
      "_model_name": "HTMLModel",
      "_view_count": null,
      "_view_module": "@jupyter-widgets/controls",
      "_view_module_version": "1.5.0",
      "_view_name": "HTMLView",
      "description": "",
      "description_tooltip": null,
      "layout": "IPY_MODEL_94a2948070ab4fcc8db07637d756b1a9",
      "placeholder": "​",
      "style": "IPY_MODEL_232c5945adad43fc80e06b6d3ebb3d90",
      "value": " 8192/? [00:00&lt;00:00, 14613.04it/s]"
     }
    },
    "d580f9937cbe4b968072726ecf2e4ed7": {
     "model_module": "@jupyter-widgets/controls",
     "model_name": "FloatProgressModel",
     "state": {
      "_dom_classes": [],
      "_model_module": "@jupyter-widgets/controls",
      "_model_module_version": "1.5.0",
      "_model_name": "FloatProgressModel",
      "_view_count": null,
      "_view_module": "@jupyter-widgets/controls",
      "_view_module_version": "1.5.0",
      "_view_name": "ProgressView",
      "bar_style": "success",
      "description": "",
      "description_tooltip": null,
      "layout": "IPY_MODEL_790b4ccbe9e548f78be3eb98a245f689",
      "max": 1,
      "min": 0,
      "orientation": "horizontal",
      "style": "IPY_MODEL_09dffbe8305d4f5b90f5c3328141d33c",
      "value": 1
     }
    },
    "ef07244277134401a0eb7a27cde7499a": {
     "model_module": "@jupyter-widgets/controls",
     "model_name": "FloatProgressModel",
     "state": {
      "_dom_classes": [],
      "_model_module": "@jupyter-widgets/controls",
      "_model_module_version": "1.5.0",
      "_model_name": "FloatProgressModel",
      "_view_count": null,
      "_view_module": "@jupyter-widgets/controls",
      "_view_module_version": "1.5.0",
      "_view_name": "ProgressView",
      "bar_style": "success",
      "description": "",
      "description_tooltip": null,
      "layout": "IPY_MODEL_26aff9a3958c42e4a8a304c3fe37a665",
      "max": 1,
      "min": 0,
      "orientation": "horizontal",
      "style": "IPY_MODEL_61930064d45d4e08b8e6354dfb2a2de5",
      "value": 1
     }
    },
    "f0088f610c7242c19e157ec499bdeb38": {
     "model_module": "@jupyter-widgets/controls",
     "model_name": "DescriptionStyleModel",
     "state": {
      "_model_module": "@jupyter-widgets/controls",
      "_model_module_version": "1.5.0",
      "_model_name": "DescriptionStyleModel",
      "_view_count": null,
      "_view_module": "@jupyter-widgets/base",
      "_view_module_version": "1.2.0",
      "_view_name": "StyleView",
      "description_width": ""
     }
    },
    "fe0ddd26b9c8482e92fbffc124cd3d95": {
     "model_module": "@jupyter-widgets/controls",
     "model_name": "HBoxModel",
     "state": {
      "_dom_classes": [],
      "_model_module": "@jupyter-widgets/controls",
      "_model_module_version": "1.5.0",
      "_model_name": "HBoxModel",
      "_view_count": null,
      "_view_module": "@jupyter-widgets/controls",
      "_view_module_version": "1.5.0",
      "_view_name": "HBoxView",
      "box_style": "",
      "children": [
       "IPY_MODEL_bac50b9e6baa43f5b6eb3661b5967f2b",
       "IPY_MODEL_136374e87f39492ab4fc193804b11d59"
      ],
      "layout": "IPY_MODEL_67c8d82c6b9d4adc8d6d164be9750bb6"
     }
    }
   }
  }
 },
 "nbformat": 4,
 "nbformat_minor": 4
}
