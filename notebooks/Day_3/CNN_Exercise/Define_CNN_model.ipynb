{
 "cells": [
  {
   "cell_type": "code",
   "execution_count": null,
   "metadata": {
    "id": "O1tXrZyCH_UB"
   },
   "outputs": [],
   "source": [
    "import torch.nn as nn\r\n",
    "from torchvision import models"
   ]
  },
  {
   "cell_type": "markdown",
   "metadata": {
    "id": "nxDF71B_JTyk"
   },
   "source": [
    "## Simple CNN Model"
   ]
  },
  {
   "cell_type": "code",
   "execution_count": null,
   "metadata": {
    "id": "_vs8YcojJTFY"
   },
   "outputs": [],
   "source": [
    "class Net(nn.Module):\r\n",
    "    def __init__(self):\r\n",
    "        super(Net, self).__init__()\r\n",
    "\r\n",
    "        # 1 input channel, 10 output channel, 5 by 5 kernel size\r\n",
    "        self.conv1 = nn.Conv2d(1, 10, kernel_size=5)\r\n",
    "\r\n",
    "        # 10 input channel, 20 output channel, 5 by 5 kernel size\r\n",
    "        self.conv2 = nn.Conv2d(10, 20, kernel_size=5)\r\n",
    "\r\n",
    "        self.fc1 = nn.Linear(320, 50)\r\n",
    "        self.fc2 = nn.Linear(50, 10)\r\n",
    "\r\n",
    "    def forward(self, x):\r\n",
    "        x = self.conv1(x)\r\n",
    "        # Apply max pooling with stride of 2 by 2\r\n",
    "        # Define 2 for stride will automatically define a square windows stride\r\n",
    "        x = F.max_pool2d(s, 2)\r\n",
    "        x = F.relu(x)\r\n",
    "\r\n",
    "        x = self.conv2(x)\r\n",
    "        # Apply max pooling with stride of 2 by 2\r\n",
    "        x = F.max_pool2d(x, 2)\r\n",
    "        x = F.relu(x)\r\n",
    "\r\n",
    "        # Flatten max pooling output to fit fully connected\r\n",
    "        # View is the same as .flatten() in numpy\r\n",
    "        # -1 means fit any remaining to tensor to have same shape after defining 320\r\n",
    "        x = x.view(-1, 320)\r\n",
    "        x = F.relu(self.fc1(x))\r\n",
    "        \r\n",
    "        x = self.fc2(x)\r\n",
    "        return F.log_softmax(x)"
   ]
  },
  {
   "cell_type": "code",
   "execution_count": null,
   "metadata": {
    "colab": {
     "base_uri": "https://localhost:8080/"
    },
    "executionInfo": {
     "elapsed": 1284,
     "status": "ok",
     "timestamp": 1610243863375,
     "user": {
      "displayName": "Abuelgasim Saadeldin Mansour Mohamed",
      "photoUrl": "https://lh3.googleusercontent.com/a-/AOh14GhPBhqOon4BHV6PsTgCkZTLtBcac2xY0sCMPaBp=s64",
      "userId": "15243812114482322335"
     },
     "user_tz": -480
    },
    "id": "uKvVVR66LbhP",
    "outputId": "da31e737-4dad-4acb-98cf-af6826634b49"
   },
   "outputs": [],
   "source": [
    "model = Net()\r\n",
    "model"
   ]
  },
  {
   "cell_type": "markdown",
   "metadata": {
    "id": "INcSutBPLluN"
   },
   "source": [
    "## Transfer Learning CNN model"
   ]
  },
  {
   "cell_type": "code",
   "execution_count": null,
   "metadata": {
    "colab": {
     "base_uri": "https://localhost:8080/",
     "height": 83,
     "referenced_widgets": [
      "fc4f58d5429b49f4a95f2a9255fa7f7f",
      "879138d1ffb64819967f2a5581abfde1",
      "427aad76d6914b9d8c00a3569eba2253",
      "ea36fbb49c474335a7824cc3a5080c38",
      "7687db06ba3443a89c818be5b7a6b419",
      "b7a3212ad0cb4e9a930a86a7dd03b475",
      "c85fca3780ef4eb388280da12d9569a7",
      "234242c19beb41969780eb553afb26e3"
     ]
    },
    "executionInfo": {
     "elapsed": 32360,
     "status": "ok",
     "timestamp": 1610244032520,
     "user": {
      "displayName": "Abuelgasim Saadeldin Mansour Mohamed",
      "photoUrl": "https://lh3.googleusercontent.com/a-/AOh14GhPBhqOon4BHV6PsTgCkZTLtBcac2xY0sCMPaBp=s64",
      "userId": "15243812114482322335"
     },
     "user_tz": -480
    },
    "id": "Yk14-Ur5Le8u",
    "outputId": "54aeb38c-e095-4175-ee0f-de3ea40d0449"
   },
   "outputs": [],
   "source": [
    "model = models.vgg16(pretrained=True)\r\n",
    "\r\n",
    "# Freeze model weights\r\n",
    "# By default, all weights are marked as requires_grad = True\r\n",
    "# This will enable the weights to be changed\r\n",
    "# When freezed, the value of weights will not change during update\r\n",
    "for param in model.parameters():\r\n",
    "    param.requires_grad = False"
   ]
  },
  {
   "cell_type": "code",
   "execution_count": null,
   "metadata": {
    "colab": {
     "base_uri": "https://localhost:8080/"
    },
    "executionInfo": {
     "elapsed": 1291,
     "status": "ok",
     "timestamp": 1610244040810,
     "user": {
      "displayName": "Abuelgasim Saadeldin Mansour Mohamed",
      "photoUrl": "https://lh3.googleusercontent.com/a-/AOh14GhPBhqOon4BHV6PsTgCkZTLtBcac2xY0sCMPaBp=s64",
      "userId": "15243812114482322335"
     },
     "user_tz": -480
    },
    "id": "5wLvw3ejMbpk",
    "outputId": "b3080fee-9be2-49ed-c66b-50bb2b170493"
   },
   "outputs": [],
   "source": [
    "model"
   ]
  },
  {
   "cell_type": "markdown",
   "metadata": {
    "id": "w9GVVbX-MlB7"
   },
   "source": [
    "This model is trained to predict 1000 classes. To use this for other classification tasks, the number of outputs must match the number of classes.\r\n",
    "\r\n",
    "For example, if you want to do transfer learning to predict cats and dogs, the out_features of classifier[6] must be 2."
   ]
  },
  {
   "cell_type": "code",
   "execution_count": null,
   "metadata": {
    "colab": {
     "base_uri": "https://localhost:8080/"
    },
    "executionInfo": {
     "elapsed": 929,
     "status": "ok",
     "timestamp": 1610012949673,
     "user": {
      "displayName": "Deven Yantis (Deven)",
      "photoUrl": "https://lh3.googleusercontent.com/a-/AOh14GhvP5W8J7Hz2cWKHBt4UCPzSoj0W1pWuf37hx8=s64",
      "userId": "03984650301693922870"
     },
     "user_tz": -480
    },
    "id": "QillNPQOL9lQ",
    "outputId": "482d2459-ea32-46c1-cfb3-6667da21f332"
   },
   "outputs": [],
   "source": [
    "model.classifier[6]"
   ]
  },
  {
   "cell_type": "code",
   "execution_count": null,
   "metadata": {
    "colab": {
     "base_uri": "https://localhost:8080/"
    },
    "executionInfo": {
     "elapsed": 734,
     "status": "ok",
     "timestamp": 1610012950021,
     "user": {
      "displayName": "Deven Yantis (Deven)",
      "photoUrl": "https://lh3.googleusercontent.com/a-/AOh14GhvP5W8J7Hz2cWKHBt4UCPzSoj0W1pWuf37hx8=s64",
      "userId": "03984650301693922870"
     },
     "user_tz": -480
    },
    "id": "P07XLoUnPzu4",
    "outputId": "14a3d1ef-68e7-4dcc-f40b-386083f7409a"
   },
   "outputs": [],
   "source": [
    "model.classifier[6].weight"
   ]
  },
  {
   "cell_type": "markdown",
   "metadata": {
    "id": "5ED0sxS2Owv3"
   },
   "source": [
    "To change the model, you can overite the layer. The in_features must match the output of previous layer. In this case, it is the classifier[3] which is a Linear layer. The output is 4096."
   ]
  },
  {
   "cell_type": "code",
   "execution_count": null,
   "metadata": {
    "id": "--YekE4IMZsO"
   },
   "outputs": [],
   "source": [
    "model.classifier[6] = nn.Linear(4096, 2)"
   ]
  },
  {
   "cell_type": "markdown",
   "metadata": {
    "id": "nuvGZLwEPdYD"
   },
   "source": [
    "Check classifier[6] layer"
   ]
  },
  {
   "cell_type": "code",
   "execution_count": null,
   "metadata": {
    "colab": {
     "base_uri": "https://localhost:8080/"
    },
    "executionInfo": {
     "elapsed": 951,
     "status": "ok",
     "timestamp": 1610013011280,
     "user": {
      "displayName": "Deven Yantis (Deven)",
      "photoUrl": "https://lh3.googleusercontent.com/a-/AOh14GhvP5W8J7Hz2cWKHBt4UCPzSoj0W1pWuf37hx8=s64",
      "userId": "03984650301693922870"
     },
     "user_tz": -480
    },
    "id": "WShAVFTMPcnY",
    "outputId": "9a92a80e-b74a-4048-e1e8-f3f022a424ab"
   },
   "outputs": [],
   "source": [
    "model.classifier[6]"
   ]
  },
  {
   "cell_type": "markdown",
   "metadata": {
    "id": "JQrNMoMoPqgE"
   },
   "source": [
    "Make sure this layer is set to requires_grad=True to train the layer"
   ]
  },
  {
   "cell_type": "code",
   "execution_count": null,
   "metadata": {
    "colab": {
     "base_uri": "https://localhost:8080/"
    },
    "executionInfo": {
     "elapsed": 1148,
     "status": "ok",
     "timestamp": 1610013013940,
     "user": {
      "displayName": "Deven Yantis (Deven)",
      "photoUrl": "https://lh3.googleusercontent.com/a-/AOh14GhvP5W8J7Hz2cWKHBt4UCPzSoj0W1pWuf37hx8=s64",
      "userId": "03984650301693922870"
     },
     "user_tz": -480
    },
    "id": "2a2zIgYHPosZ",
    "outputId": "db17df8a-f11a-49b5-85ce-1b45106557ea"
   },
   "outputs": [],
   "source": [
    "model.classifier[6].weight"
   ]
  },
  {
   "cell_type": "code",
   "execution_count": null,
   "metadata": {
    "colab": {
     "base_uri": "https://localhost:8080/"
    },
    "executionInfo": {
     "elapsed": 877,
     "status": "ok",
     "timestamp": 1610013016615,
     "user": {
      "displayName": "Deven Yantis (Deven)",
      "photoUrl": "https://lh3.googleusercontent.com/a-/AOh14GhvP5W8J7Hz2cWKHBt4UCPzSoj0W1pWuf37hx8=s64",
      "userId": "03984650301693922870"
     },
     "user_tz": -480
    },
    "id": "YoZ4qYcbOn7D",
    "outputId": "afc50a69-a5d0-45f6-ef40-6fb34565911a"
   },
   "outputs": [],
   "source": [
    "model"
   ]
  }
 ],
 "metadata": {
  "colab": {
   "name": "Define CNN model.ipynb",
   "provenance": []
  },
  "kernelspec": {
   "display_name": "Python 3",
   "language": "python",
   "name": "python3"
  },
  "language_info": {
   "codemirror_mode": {
    "name": "ipython",
    "version": 3
   },
   "file_extension": ".py",
   "mimetype": "text/x-python",
   "name": "python",
   "nbconvert_exporter": "python",
   "pygments_lexer": "ipython3",
   "version": "3.7.7"
  },
  "widgets": {
   "application/vnd.jupyter.widget-state+json": {
    "234242c19beb41969780eb553afb26e3": {
     "model_module": "@jupyter-widgets/base",
     "model_name": "LayoutModel",
     "state": {
      "_model_module": "@jupyter-widgets/base",
      "_model_module_version": "1.2.0",
      "_model_name": "LayoutModel",
      "_view_count": null,
      "_view_module": "@jupyter-widgets/base",
      "_view_module_version": "1.2.0",
      "_view_name": "LayoutView",
      "align_content": null,
      "align_items": null,
      "align_self": null,
      "border": null,
      "bottom": null,
      "display": null,
      "flex": null,
      "flex_flow": null,
      "grid_area": null,
      "grid_auto_columns": null,
      "grid_auto_flow": null,
      "grid_auto_rows": null,
      "grid_column": null,
      "grid_gap": null,
      "grid_row": null,
      "grid_template_areas": null,
      "grid_template_columns": null,
      "grid_template_rows": null,
      "height": null,
      "justify_content": null,
      "justify_items": null,
      "left": null,
      "margin": null,
      "max_height": null,
      "max_width": null,
      "min_height": null,
      "min_width": null,
      "object_fit": null,
      "object_position": null,
      "order": null,
      "overflow": null,
      "overflow_x": null,
      "overflow_y": null,
      "padding": null,
      "right": null,
      "top": null,
      "visibility": null,
      "width": null
     }
    },
    "427aad76d6914b9d8c00a3569eba2253": {
     "model_module": "@jupyter-widgets/controls",
     "model_name": "FloatProgressModel",
     "state": {
      "_dom_classes": [],
      "_model_module": "@jupyter-widgets/controls",
      "_model_module_version": "1.5.0",
      "_model_name": "FloatProgressModel",
      "_view_count": null,
      "_view_module": "@jupyter-widgets/controls",
      "_view_module_version": "1.5.0",
      "_view_name": "ProgressView",
      "bar_style": "success",
      "description": "100%",
      "description_tooltip": null,
      "layout": "IPY_MODEL_b7a3212ad0cb4e9a930a86a7dd03b475",
      "max": 553433881,
      "min": 0,
      "orientation": "horizontal",
      "style": "IPY_MODEL_7687db06ba3443a89c818be5b7a6b419",
      "value": 553433881
     }
    },
    "7687db06ba3443a89c818be5b7a6b419": {
     "model_module": "@jupyter-widgets/controls",
     "model_name": "ProgressStyleModel",
     "state": {
      "_model_module": "@jupyter-widgets/controls",
      "_model_module_version": "1.5.0",
      "_model_name": "ProgressStyleModel",
      "_view_count": null,
      "_view_module": "@jupyter-widgets/base",
      "_view_module_version": "1.2.0",
      "_view_name": "StyleView",
      "bar_color": null,
      "description_width": "initial"
     }
    },
    "879138d1ffb64819967f2a5581abfde1": {
     "model_module": "@jupyter-widgets/base",
     "model_name": "LayoutModel",
     "state": {
      "_model_module": "@jupyter-widgets/base",
      "_model_module_version": "1.2.0",
      "_model_name": "LayoutModel",
      "_view_count": null,
      "_view_module": "@jupyter-widgets/base",
      "_view_module_version": "1.2.0",
      "_view_name": "LayoutView",
      "align_content": null,
      "align_items": null,
      "align_self": null,
      "border": null,
      "bottom": null,
      "display": null,
      "flex": null,
      "flex_flow": null,
      "grid_area": null,
      "grid_auto_columns": null,
      "grid_auto_flow": null,
      "grid_auto_rows": null,
      "grid_column": null,
      "grid_gap": null,
      "grid_row": null,
      "grid_template_areas": null,
      "grid_template_columns": null,
      "grid_template_rows": null,
      "height": null,
      "justify_content": null,
      "justify_items": null,
      "left": null,
      "margin": null,
      "max_height": null,
      "max_width": null,
      "min_height": null,
      "min_width": null,
      "object_fit": null,
      "object_position": null,
      "order": null,
      "overflow": null,
      "overflow_x": null,
      "overflow_y": null,
      "padding": null,
      "right": null,
      "top": null,
      "visibility": null,
      "width": null
     }
    },
    "b7a3212ad0cb4e9a930a86a7dd03b475": {
     "model_module": "@jupyter-widgets/base",
     "model_name": "LayoutModel",
     "state": {
      "_model_module": "@jupyter-widgets/base",
      "_model_module_version": "1.2.0",
      "_model_name": "LayoutModel",
      "_view_count": null,
      "_view_module": "@jupyter-widgets/base",
      "_view_module_version": "1.2.0",
      "_view_name": "LayoutView",
      "align_content": null,
      "align_items": null,
      "align_self": null,
      "border": null,
      "bottom": null,
      "display": null,
      "flex": null,
      "flex_flow": null,
      "grid_area": null,
      "grid_auto_columns": null,
      "grid_auto_flow": null,
      "grid_auto_rows": null,
      "grid_column": null,
      "grid_gap": null,
      "grid_row": null,
      "grid_template_areas": null,
      "grid_template_columns": null,
      "grid_template_rows": null,
      "height": null,
      "justify_content": null,
      "justify_items": null,
      "left": null,
      "margin": null,
      "max_height": null,
      "max_width": null,
      "min_height": null,
      "min_width": null,
      "object_fit": null,
      "object_position": null,
      "order": null,
      "overflow": null,
      "overflow_x": null,
      "overflow_y": null,
      "padding": null,
      "right": null,
      "top": null,
      "visibility": null,
      "width": null
     }
    },
    "c85fca3780ef4eb388280da12d9569a7": {
     "model_module": "@jupyter-widgets/controls",
     "model_name": "DescriptionStyleModel",
     "state": {
      "_model_module": "@jupyter-widgets/controls",
      "_model_module_version": "1.5.0",
      "_model_name": "DescriptionStyleModel",
      "_view_count": null,
      "_view_module": "@jupyter-widgets/base",
      "_view_module_version": "1.2.0",
      "_view_name": "StyleView",
      "description_width": ""
     }
    },
    "ea36fbb49c474335a7824cc3a5080c38": {
     "model_module": "@jupyter-widgets/controls",
     "model_name": "HTMLModel",
     "state": {
      "_dom_classes": [],
      "_model_module": "@jupyter-widgets/controls",
      "_model_module_version": "1.5.0",
      "_model_name": "HTMLModel",
      "_view_count": null,
      "_view_module": "@jupyter-widgets/controls",
      "_view_module_version": "1.5.0",
      "_view_name": "HTMLView",
      "description": "",
      "description_tooltip": null,
      "layout": "IPY_MODEL_234242c19beb41969780eb553afb26e3",
      "placeholder": "​",
      "style": "IPY_MODEL_c85fca3780ef4eb388280da12d9569a7",
      "value": " 528M/528M [00:28&lt;00:00, 19.7MB/s]"
     }
    },
    "fc4f58d5429b49f4a95f2a9255fa7f7f": {
     "model_module": "@jupyter-widgets/controls",
     "model_name": "HBoxModel",
     "state": {
      "_dom_classes": [],
      "_model_module": "@jupyter-widgets/controls",
      "_model_module_version": "1.5.0",
      "_model_name": "HBoxModel",
      "_view_count": null,
      "_view_module": "@jupyter-widgets/controls",
      "_view_module_version": "1.5.0",
      "_view_name": "HBoxView",
      "box_style": "",
      "children": [
       "IPY_MODEL_427aad76d6914b9d8c00a3569eba2253",
       "IPY_MODEL_ea36fbb49c474335a7824cc3a5080c38"
      ],
      "layout": "IPY_MODEL_879138d1ffb64819967f2a5581abfde1"
     }
    }
   }
  }
 },
 "nbformat": 4,
 "nbformat_minor": 4
}
