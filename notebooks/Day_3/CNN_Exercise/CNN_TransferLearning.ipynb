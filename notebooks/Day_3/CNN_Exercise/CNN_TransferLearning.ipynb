{
 "cells": [
  {
   "cell_type": "code",
   "execution_count": null,
   "metadata": {
    "executionInfo": {
     "elapsed": 1536,
     "status": "ok",
     "timestamp": 1611220550792,
     "user": {
      "displayName": "Deven Yantis (Deven)",
      "photoUrl": "https://lh3.googleusercontent.com/a-/AOh14GhvP5W8J7Hz2cWKHBt4UCPzSoj0W1pWuf37hx8=s64",
      "userId": "03984650301693922870"
     },
     "user_tz": -480
    },
    "id": "ewuLThAcfZUp"
   },
   "outputs": [],
   "source": [
    "import torch\r\n",
    "import torch.nn as nn\r\n",
    "import torch.optim as optim\r\n",
    "from torch.optim import lr_scheduler\r\n",
    "import numpy as np\r\n",
    "import torchvision\r\n",
    "from torchvision import datasets, models, transforms\r\n",
    "import matplotlib.pyplot as plt\r\n",
    "import os\r\n",
    "import copy"
   ]
  },
  {
   "cell_type": "markdown",
   "metadata": {
    "id": "gavVTLVRg9nM"
   },
   "source": [
    "## Create Data loader"
   ]
  },
  {
   "cell_type": "code",
   "execution_count": null,
   "metadata": {
    "executionInfo": {
     "elapsed": 2863,
     "status": "ok",
     "timestamp": 1611220552146,
     "user": {
      "displayName": "Deven Yantis (Deven)",
      "photoUrl": "https://lh3.googleusercontent.com/a-/AOh14GhvP5W8J7Hz2cWKHBt4UCPzSoj0W1pWuf37hx8=s64",
      "userId": "03984650301693922870"
     },
     "user_tz": -480
    },
    "id": "AR6523Hvfxmu"
   },
   "outputs": [],
   "source": [
    "# Data augmentation and normalization for training\r\n",
    "# Just normalization for validation\r\n",
    "data_transforms = {\r\n",
    "    'train': transforms.Compose([\r\n",
    "        transforms.RandomResizedCrop(224),\r\n",
    "        transforms.RandomHorizontalFlip(),\r\n",
    "        transforms.ToTensor(),\r\n",
    "        transforms.Normalize([0.485, 0.456, 0.406], [0.229, 0.224, 0.225])\r\n",
    "    ]),\r\n",
    "    'val': transforms.Compose([\r\n",
    "        transforms.Resize(256),\r\n",
    "        transforms.CenterCrop(224),\r\n",
    "        transforms.ToTensor(),\r\n",
    "        transforms.Normalize([0.485, 0.456, 0.406], [0.229, 0.224, 0.225])\r\n",
    "    ]),\r\n",
    "}\r\n",
    "\r\n",
    "data_dir = '/content/drive/MyDrive/JetBot/Day 3/CNN Exercise/hymenoptera_data'\r\n",
    "image_datasets = {\r\n",
    "    x: datasets.ImageFolder(os.path.join(data_dir, x),\r\n",
    "                            data_transforms[x]) for x in ['train', 'val']\r\n",
    "}\r\n",
    "dataloaders = {\r\n",
    "    x: torch.utils.data.DataLoader(image_datasets[x], batch_size=4,\r\n",
    "                                   shuffle=True, num_workers=4) for x in ['train', 'val']}\r\n",
    "dataset_sizes = {x: len(image_datasets[x]) for x in ['train', 'val']}\r\n",
    "class_names = image_datasets['train'].classes\r\n",
    "\r\n",
    "device = torch.device(\"cuda:0\" if torch.cuda.is_available() else \"cpu\")"
   ]
  },
  {
   "cell_type": "markdown",
   "metadata": {
    "id": "jPTbtYVnKY1C"
   },
   "source": [
    "## View Data"
   ]
  },
  {
   "cell_type": "code",
   "execution_count": null,
   "metadata": {
    "colab": {
     "base_uri": "https://localhost:8080/",
     "height": 148
    },
    "executionInfo": {
     "elapsed": 2838,
     "status": "ok",
     "timestamp": 1611220552150,
     "user": {
      "displayName": "Deven Yantis (Deven)",
      "photoUrl": "https://lh3.googleusercontent.com/a-/AOh14GhvP5W8J7Hz2cWKHBt4UCPzSoj0W1pWuf37hx8=s64",
      "userId": "03984650301693922870"
     },
     "user_tz": -480
    },
    "id": "J7VizKJqKX3y",
    "outputId": "463d2c3b-413c-4edc-c42d-37633ce96713"
   },
   "outputs": [],
   "source": [
    "def imshow(inp, title=None):\r\n",
    "    \"\"\"Imshow for Tensor.\"\"\"\r\n",
    "    inp = inp.numpy().transpose((1, 2, 0))\r\n",
    "    mean = np.array([0.485, 0.456, 0.406])\r\n",
    "    std = np.array([0.229, 0.224, 0.225])\r\n",
    "    inp = std * inp + mean\r\n",
    "    inp = np.clip(inp, 0, 1)\r\n",
    "    plt.imshow(inp)\r\n",
    "    if title is not None:\r\n",
    "        plt.title(title)\r\n",
    "    plt.pause(0.001)  # pause a bit so that plots are updated\r\n",
    "\r\n",
    "\r\n",
    "# Get a batch of training data\r\n",
    "inputs, classes = next(iter(dataloaders['train']))\r\n",
    "\r\n",
    "# Make a grid from batch\r\n",
    "out = torchvision.utils.make_grid(inputs)\r\n",
    "\r\n",
    "imshow(out, title=[class_names[x] for x in classes])"
   ]
  },
  {
   "cell_type": "markdown",
   "metadata": {
    "id": "lBrg09yfhBCh"
   },
   "source": [
    "## Transfer learning"
   ]
  },
  {
   "cell_type": "code",
   "execution_count": null,
   "metadata": {
    "executionInfo": {
     "elapsed": 2813,
     "status": "ok",
     "timestamp": 1611220552153,
     "user": {
      "displayName": "Deven Yantis (Deven)",
      "photoUrl": "https://lh3.googleusercontent.com/a-/AOh14GhvP5W8J7Hz2cWKHBt4UCPzSoj0W1pWuf37hx8=s64",
      "userId": "03984650301693922870"
     },
     "user_tz": -480
    },
    "id": "lCtQwCdqKnw7"
   },
   "outputs": [],
   "source": [
    "def visualize_model(model, num_images=6):\r\n",
    "    was_training = model.training\r\n",
    "    model.eval()\r\n",
    "    images_so_far = 0\r\n",
    "    fig = plt.figure()\r\n",
    "\r\n",
    "    with torch.no_grad():\r\n",
    "        for i, (inputs, labels) in enumerate(dataloaders['val']):\r\n",
    "            inputs = inputs.to(device)\r\n",
    "            labels = labels.to(device)\r\n",
    "\r\n",
    "            outputs = model(inputs)\r\n",
    "            _, preds = torch.max(outputs, 1)\r\n",
    "\r\n",
    "            for j in range(inputs.size()[0]):\r\n",
    "                images_so_far += 1\r\n",
    "                ax = plt.subplot(num_images//2, 2, images_so_far)\r\n",
    "                ax.axis('off')\r\n",
    "                ax.set_title('predicted: {}'.format(class_names[preds[j]]))\r\n",
    "                imshow(inputs.cpu().data[j])\r\n",
    "\r\n",
    "                if images_so_far == num_images:\r\n",
    "                    model.train(mode=was_training)\r\n",
    "                    return\r\n",
    "        model.train(mode=was_training)"
   ]
  },
  {
   "cell_type": "code",
   "execution_count": null,
   "metadata": {
    "executionInfo": {
     "elapsed": 5315,
     "status": "ok",
     "timestamp": 1611220554678,
     "user": {
      "displayName": "Deven Yantis (Deven)",
      "photoUrl": "https://lh3.googleusercontent.com/a-/AOh14GhvP5W8J7Hz2cWKHBt4UCPzSoj0W1pWuf37hx8=s64",
      "userId": "03984650301693922870"
     },
     "user_tz": -480
    },
    "id": "acWEXMAhKjx9"
   },
   "outputs": [],
   "source": [
    "model = models.resnet18(pretrained=True)\r\n",
    "num_ftrs = model.fc.in_features\r\n",
    "# Here the size of each output sample is set to 2.\r\n",
    "# Alternatively, it can be generalized to nn.Linear(num_ftrs, len(class_names)).\r\n",
    "model.fc = nn.Linear(num_ftrs, 2)\r\n",
    "\r\n",
    "model = model.to(device)\r\n",
    "\r\n",
    "criterion = nn.CrossEntropyLoss()\r\n",
    "\r\n",
    "# Observe that all parameters are being optimized\r\n",
    "optimizer = optim.SGD(model.parameters(), lr=0.001, momentum=0.9)\r\n",
    "\r\n",
    "# Decay LR by a factor of 0.1 every 7 epochs\r\n",
    "scheduler = lr_scheduler.StepLR(optimizer, step_size=7, gamma=0.1)"
   ]
  },
  {
   "cell_type": "code",
   "execution_count": null,
   "metadata": {
    "colab": {
     "base_uri": "https://localhost:8080/"
    },
    "executionInfo": {
     "elapsed": 155712,
     "status": "ok",
     "timestamp": 1611220705102,
     "user": {
      "displayName": "Deven Yantis (Deven)",
      "photoUrl": "https://lh3.googleusercontent.com/a-/AOh14GhvP5W8J7Hz2cWKHBt4UCPzSoj0W1pWuf37hx8=s64",
      "userId": "03984650301693922870"
     },
     "user_tz": -480
    },
    "id": "-jNQSx57Kt95",
    "outputId": "e325e5d3-b88c-4b02-9ce9-3058d301b3af"
   },
   "outputs": [],
   "source": [
    "num_epochs=25\r\n",
    "best_acc = 0\r\n",
    "\r\n",
    "for epoch in range(num_epochs):\r\n",
    "    print('Epoch {}/{}'.format(epoch, num_epochs - 1))\r\n",
    "    print('-' * 10)\r\n",
    "\r\n",
    "    # Each epoch has a training and validation phase\r\n",
    "    for phase in ['train', 'val']:\r\n",
    "        if phase == 'train':\r\n",
    "            model.train()  # Set model to training mode\r\n",
    "        else:\r\n",
    "            model.eval()   # Set model to evaluate mode\r\n",
    "\r\n",
    "        running_loss = 0.0\r\n",
    "        running_corrects = 0\r\n",
    "\r\n",
    "        # Iterate over data.\r\n",
    "        for inputs, labels in dataloaders[phase]:\r\n",
    "            inputs = inputs.to(device)\r\n",
    "            labels = labels.to(device)\r\n",
    "\r\n",
    "            # zero the parameter gradients\r\n",
    "            optimizer.zero_grad()\r\n",
    "\r\n",
    "            # forward\r\n",
    "            # track history if only in train\r\n",
    "            with torch.set_grad_enabled(phase == 'train'):\r\n",
    "                outputs = model(inputs)\r\n",
    "                _, preds = torch.max(outputs, 1)\r\n",
    "                loss = criterion(outputs, labels)\r\n",
    "\r\n",
    "                # backward + optimize only if in training phase\r\n",
    "                if phase == 'train':\r\n",
    "                    loss.backward()\r\n",
    "                    optimizer.step()\r\n",
    "\r\n",
    "            # statistics\r\n",
    "            running_loss += loss.item() * inputs.size(0)\r\n",
    "            running_corrects += torch.sum(preds == labels.data)\r\n",
    "        if phase == 'train':\r\n",
    "            scheduler.step()\r\n",
    "\r\n",
    "        epoch_loss = running_loss / dataset_sizes[phase]\r\n",
    "        epoch_acc = running_corrects.double() / dataset_sizes[phase]\r\n",
    "\r\n",
    "        print('{} Loss: {:.4f} Acc: {:.4f}'.format(\r\n",
    "            phase, epoch_loss, epoch_acc))\r\n",
    "\r\n",
    "        # deep copy the model\r\n",
    "        if phase == 'val' and epoch_acc > best_acc:\r\n",
    "            best_acc = epoch_acc\r\n",
    "            best_model_wts = copy.deepcopy(model.state_dict())\r\n",
    "\r\n",
    "    print()\r\n",
    "\r\n",
    "print('Best val Acc: {:4f}'.format(best_acc))\r\n",
    "\r\n",
    "# load best model weights\r\n",
    "model.load_state_dict(best_model_wts)"
   ]
  }
 ],
 "metadata": {
  "accelerator": "GPU",
  "colab": {
   "authorship_tag": "ABX9TyMuJfTKwXZtDejOnKwa4Tbw",
   "mount_file_id": "1yBBfRF3krbVWxHQCKSUKHfqmySGJ0YWe",
   "name": "Example_CNN_TransferLearning.ipynb",
   "provenance": []
  },
  "kernelspec": {
   "display_name": "Python 3",
   "language": "python",
   "name": "python3"
  },
  "language_info": {
   "codemirror_mode": {
    "name": "ipython",
    "version": 3
   },
   "file_extension": ".py",
   "mimetype": "text/x-python",
   "name": "python",
   "nbconvert_exporter": "python",
   "pygments_lexer": "ipython3",
   "version": "3.7.7"
  }
 },
 "nbformat": 4,
 "nbformat_minor": 4
}
