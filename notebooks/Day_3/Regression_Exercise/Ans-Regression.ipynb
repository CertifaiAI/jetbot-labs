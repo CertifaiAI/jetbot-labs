{
 "cells": [
  {
   "cell_type": "markdown",
   "metadata": {
    "id": "i5OW4csoRjXr"
   },
   "source": [
    "# Part 2 - Regression with PyTorch"
   ]
  },
  {
   "cell_type": "code",
   "execution_count": null,
   "metadata": {
    "executionInfo": {
     "elapsed": 936,
     "status": "ok",
     "timestamp": 1611108048266,
     "user": {
      "displayName": "Deven Yantis (Deven)",
      "photoUrl": "https://lh3.googleusercontent.com/a-/AOh14GhvP5W8J7Hz2cWKHBt4UCPzSoj0W1pWuf37hx8=s64",
      "userId": "03984650301693922870"
     },
     "user_tz": -480
    },
    "id": "0WcjqDImRf87"
   },
   "outputs": [],
   "source": [
    "import os\r\n",
    "import torch\r\n",
    "import torch.nn as nn\r\n",
    "import torch.nn.functional as F\r\n",
    "import torch.optim as optim\r\n",
    "from matplotlib import pyplot as plt\r\n",
    "\r\n",
    "# To disable all warnings\r\n",
    "import warnings\r\n",
    "warnings.filterwarnings(\"ignore\")"
   ]
  },
  {
   "cell_type": "code",
   "execution_count": null,
   "metadata": {
    "colab": {
     "base_uri": "https://localhost:8080/"
    },
    "executionInfo": {
     "elapsed": 1340,
     "status": "ok",
     "timestamp": 1611108048703,
     "user": {
      "displayName": "Deven Yantis (Deven)",
      "photoUrl": "https://lh3.googleusercontent.com/a-/AOh14GhvP5W8J7Hz2cWKHBt4UCPzSoj0W1pWuf37hx8=s64",
      "userId": "03984650301693922870"
     },
     "user_tz": -480
    },
    "id": "TegKk2P5M3xK",
    "outputId": "b4b4849c-c288-48ae-fd01-82fe47a41ce7"
   },
   "outputs": [],
   "source": [
    "print(torch.__version__)"
   ]
  },
  {
   "cell_type": "code",
   "execution_count": null,
   "metadata": {
    "executionInfo": {
     "elapsed": 1322,
     "status": "ok",
     "timestamp": 1611108048705,
     "user": {
      "displayName": "Deven Yantis (Deven)",
      "photoUrl": "https://lh3.googleusercontent.com/a-/AOh14GhvP5W8J7Hz2cWKHBt4UCPzSoj0W1pWuf37hx8=s64",
      "userId": "03984650301693922870"
     },
     "user_tz": -480
    },
    "id": "jNYWWGqo0Fkm"
   },
   "outputs": [],
   "source": [
    "# Device to perform training. Default to 'cpu'\r\n",
    "device = 'cuda'"
   ]
  },
  {
   "cell_type": "markdown",
   "metadata": {
    "id": "L7yS0sZ8Ls8H"
   },
   "source": [
    "## Prepare Dummy Data"
   ]
  },
  {
   "cell_type": "code",
   "execution_count": null,
   "metadata": {
    "executionInfo": {
     "elapsed": 5791,
     "status": "ok",
     "timestamp": 1611108053191,
     "user": {
      "displayName": "Deven Yantis (Deven)",
      "photoUrl": "https://lh3.googleusercontent.com/a-/AOh14GhvP5W8J7Hz2cWKHBt4UCPzSoj0W1pWuf37hx8=s64",
      "userId": "03984650301693922870"
     },
     "user_tz": -480
    },
    "id": "ZFOUrJxwXsJi"
   },
   "outputs": [],
   "source": [
    "X = [1, 2, 3, 4, 5, 6, 7, 8, 9, 10]\r\n",
    "y = [4, 8, 12, 16, 20, 24, 28, 32, 36, 40]\r\n",
    "\r\n",
    "X_tensor = torch.tensor(X).float().to(device)\r\n",
    "y_tensor = torch.tensor(y).float().to(device)"
   ]
  },
  {
   "cell_type": "markdown",
   "metadata": {
    "id": "-mtvBedpLz31"
   },
   "source": [
    "## Hyperparameter"
   ]
  },
  {
   "cell_type": "code",
   "execution_count": null,
   "metadata": {
    "executionInfo": {
     "elapsed": 5779,
     "status": "ok",
     "timestamp": 1611108053193,
     "user": {
      "displayName": "Deven Yantis (Deven)",
      "photoUrl": "https://lh3.googleusercontent.com/a-/AOh14GhvP5W8J7Hz2cWKHBt4UCPzSoj0W1pWuf37hx8=s64",
      "userId": "03984650301693922870"
     },
     "user_tz": -480
    },
    "id": "-vKKszIyLXYT"
   },
   "outputs": [],
   "source": [
    "learning_rate = 0.1\r\n",
    "momentum = 0.5\r\n",
    "n_epochs = 100"
   ]
  },
  {
   "cell_type": "markdown",
   "metadata": {
    "id": "EDZsbPpHLwea"
   },
   "source": [
    "## Define model"
   ]
  },
  {
   "cell_type": "code",
   "execution_count": null,
   "metadata": {
    "executionInfo": {
     "elapsed": 5768,
     "status": "ok",
     "timestamp": 1611108053195,
     "user": {
      "displayName": "Deven Yantis (Deven)",
      "photoUrl": "https://lh3.googleusercontent.com/a-/AOh14GhvP5W8J7Hz2cWKHBt4UCPzSoj0W1pWuf37hx8=s64",
      "userId": "03984650301693922870"
     },
     "user_tz": -480
    },
    "id": "HQrG4ScyYtoo"
   },
   "outputs": [],
   "source": [
    "# EXERCISE: Create you model here\r\n",
    "class Net(nn.Module):\r\n",
    "    def __init__(self):\r\n",
    "        super(Net, self).__init__()\r\n",
    "        self.fc1 = nn.Linear(1, 1)\r\n",
    "\r\n",
    "    def forward(self, x):\r\n",
    "        out = self.fc1(x)\r\n",
    "        return out"
   ]
  },
  {
   "cell_type": "code",
   "execution_count": null,
   "metadata": {
    "executionInfo": {
     "elapsed": 5767,
     "status": "ok",
     "timestamp": 1611108053198,
     "user": {
      "displayName": "Deven Yantis (Deven)",
      "photoUrl": "https://lh3.googleusercontent.com/a-/AOh14GhvP5W8J7Hz2cWKHBt4UCPzSoj0W1pWuf37hx8=s64",
      "userId": "03984650301693922870"
     },
     "user_tz": -480
    },
    "id": "0LzFaqT5hJIK"
   },
   "outputs": [],
   "source": [
    "# EXERCISE: Build model instance\r\n",
    "model = Net().to(device)"
   ]
  },
  {
   "cell_type": "code",
   "execution_count": null,
   "metadata": {
    "executionInfo": {
     "elapsed": 5760,
     "status": "ok",
     "timestamp": 1611108053199,
     "user": {
      "displayName": "Deven Yantis (Deven)",
      "photoUrl": "https://lh3.googleusercontent.com/a-/AOh14GhvP5W8J7Hz2cWKHBt4UCPzSoj0W1pWuf37hx8=s64",
      "userId": "03984650301693922870"
     },
     "user_tz": -480
    },
    "id": "PuaOBb6ML6HJ"
   },
   "outputs": [],
   "source": [
    "# EXERCISE: Define training optimizer\r\n",
    "optimizer = optim.SGD(model.parameters(), lr=learning_rate, momentum=momentum)"
   ]
  },
  {
   "cell_type": "markdown",
   "metadata": {
    "id": "QLEf2nTQL_qg"
   },
   "source": [
    "## Train model"
   ]
  },
  {
   "cell_type": "code",
   "execution_count": null,
   "metadata": {
    "colab": {
     "base_uri": "https://localhost:8080/"
    },
    "executionInfo": {
     "elapsed": 7048,
     "status": "ok",
     "timestamp": 1611108054495,
     "user": {
      "displayName": "Deven Yantis (Deven)",
      "photoUrl": "https://lh3.googleusercontent.com/a-/AOh14GhvP5W8J7Hz2cWKHBt4UCPzSoj0W1pWuf37hx8=s64",
      "userId": "03984650301693922870"
     },
     "user_tz": -480
    },
    "id": "MQttClGbaOrh",
    "outputId": "adb76587-86da-4c87-a9d4-3e2f3c2c76a1"
   },
   "outputs": [],
   "source": [
    "loss_values = []\r\n",
    "\r\n",
    "for epoch in range(1, n_epochs + 1):\r\n",
    "    print(\"Epoch {:02d}\".format(epoch))\r\n",
    "    log_interval = 10\r\n",
    "    model.train()\r\n",
    "\r\n",
    "    running_loss = 0.0\r\n",
    "\r\n",
    "    for batch_idx, (data, target) in enumerate(zip(X_tensor, y_tensor)):\r\n",
    "\r\n",
    "        # EXERCISE: Build your training loop Here\r\n",
    "        optimizer.zero_grad()\r\n",
    "        output = model(data.unsqueeze(dim=0))\r\n",
    "        loss = F.mse_loss(output, target.unsqueeze(dim=0))\r\n",
    "\r\n",
    "        running_loss += loss\r\n",
    "\r\n",
    "        # # Uncomment this part to see training progress\r\n",
    "        # print(\"In: {}, Pred: {}, Gt: {}, Loss: {}\\n\".format(\r\n",
    "        #     data.cpu().detach().numpy(), output.cpu().detach().numpy(), \r\n",
    "        #     target.cpu().detach().numpy(),\r\n",
    "        #     loss\r\n",
    "        # ))\r\n",
    "\r\n",
    "        loss.backward()\r\n",
    "        clipping_value = 1 # arbitrary value of your choosing\r\n",
    "        torch.nn.utils.clip_grad_norm(model.parameters(), clipping_value)               \r\n",
    "        optimizer.step()\r\n",
    "    \r\n",
    "    # Loss value for current epoch\r\n",
    "    loss_values.append(running_loss / len(X_tensor))"
   ]
  },
  {
   "cell_type": "code",
   "execution_count": null,
   "metadata": {
    "executionInfo": {
     "elapsed": 7042,
     "status": "ok",
     "timestamp": 1611108054498,
     "user": {
      "displayName": "Deven Yantis (Deven)",
      "photoUrl": "https://lh3.googleusercontent.com/a-/AOh14GhvP5W8J7Hz2cWKHBt4UCPzSoj0W1pWuf37hx8=s64",
      "userId": "03984650301693922870"
     },
     "user_tz": -480
    },
    "id": "ei2pQJASbCUI"
   },
   "outputs": [],
   "source": [
    "model_path = os.path.join(\"model.pth\")\r\n",
    "torch.save(model.state_dict(), model_path)"
   ]
  },
  {
   "cell_type": "code",
   "execution_count": null,
   "metadata": {
    "colab": {
     "base_uri": "https://localhost:8080/",
     "height": 298
    },
    "executionInfo": {
     "elapsed": 7035,
     "status": "ok",
     "timestamp": 1611108054501,
     "user": {
      "displayName": "Deven Yantis (Deven)",
      "photoUrl": "https://lh3.googleusercontent.com/a-/AOh14GhvP5W8J7Hz2cWKHBt4UCPzSoj0W1pWuf37hx8=s64",
      "userId": "03984650301693922870"
     },
     "user_tz": -480
    },
    "id": "rb3pEeYRtUZr",
    "outputId": "371e887c-d0e7-4d85-e4a9-80d4b6122564"
   },
   "outputs": [],
   "source": [
    "ax = plt.plot(loss_values)\r\n",
    "plt.title(\"Training Loss\")"
   ]
  },
  {
   "cell_type": "markdown",
   "metadata": {
    "id": "nCTYWVsRIOV4"
   },
   "source": [
    "## Test Model"
   ]
  },
  {
   "cell_type": "code",
   "execution_count": null,
   "metadata": {
    "executionInfo": {
     "elapsed": 7028,
     "status": "ok",
     "timestamp": 1611108054503,
     "user": {
      "displayName": "Deven Yantis (Deven)",
      "photoUrl": "https://lh3.googleusercontent.com/a-/AOh14GhvP5W8J7Hz2cWKHBt4UCPzSoj0W1pWuf37hx8=s64",
      "userId": "03984650301693922870"
     },
     "user_tz": -480
    },
    "id": "9be2NOFXgUYD"
   },
   "outputs": [],
   "source": [
    "# EXERCISE: Prepare test data. Test the model with input 11\r\n",
    "test_data = torch.tensor([11]).float().to(device)"
   ]
  },
  {
   "cell_type": "code",
   "execution_count": null,
   "metadata": {
    "executionInfo": {
     "elapsed": 7022,
     "status": "ok",
     "timestamp": 1611108054505,
     "user": {
      "displayName": "Deven Yantis (Deven)",
      "photoUrl": "https://lh3.googleusercontent.com/a-/AOh14GhvP5W8J7Hz2cWKHBt4UCPzSoj0W1pWuf37hx8=s64",
      "userId": "03984650301693922870"
     },
     "user_tz": -480
    },
    "id": "MwuHUDwDc3sz"
   },
   "outputs": [],
   "source": [
    "# Set model in inference mode\r\n",
    "# Will change behavior of certain layers from training to inference. eg: dropout, batchnorm\r\n",
    "model.eval()\r\n",
    "\r\n",
    "with torch.no_grad():\r\n",
    "    prediction = model(test_data)"
   ]
  },
  {
   "cell_type": "code",
   "execution_count": null,
   "metadata": {
    "colab": {
     "base_uri": "https://localhost:8080/"
    },
    "executionInfo": {
     "elapsed": 7016,
     "status": "ok",
     "timestamp": 1611108054507,
     "user": {
      "displayName": "Deven Yantis (Deven)",
      "photoUrl": "https://lh3.googleusercontent.com/a-/AOh14GhvP5W8J7Hz2cWKHBt4UCPzSoj0W1pWuf37hx8=s64",
      "userId": "03984650301693922870"
     },
     "user_tz": -480
    },
    "id": "zouaLkfxII7e",
    "outputId": "f0798ac8-ebb6-41ec-e5f3-8971bde2790f"
   },
   "outputs": [],
   "source": [
    "print(prediction)"
   ]
  },
  {
   "cell_type": "markdown",
   "metadata": {
    "id": "5IKIRVSRK21S"
   },
   "source": [
    "### Extra: Tensor to numpy"
   ]
  },
  {
   "cell_type": "code",
   "execution_count": null,
   "metadata": {
    "colab": {
     "base_uri": "https://localhost:8080/"
    },
    "executionInfo": {
     "elapsed": 7009,
     "status": "ok",
     "timestamp": 1611108054509,
     "user": {
      "displayName": "Deven Yantis (Deven)",
      "photoUrl": "https://lh3.googleusercontent.com/a-/AOh14GhvP5W8J7Hz2cWKHBt4UCPzSoj0W1pWuf37hx8=s64",
      "userId": "03984650301693922870"
     },
     "user_tz": -480
    },
    "id": "BxKdZ8goI34I",
    "outputId": "a4bf4659-4450-4107-a0d6-beaee3de9dbe"
   },
   "outputs": [],
   "source": [
    "prediction_np = prediction.cpu().detach().numpy()\r\n",
    "prediction_np"
   ]
  },
  {
   "cell_type": "code",
   "execution_count": null,
   "metadata": {
    "colab": {
     "base_uri": "https://localhost:8080/"
    },
    "executionInfo": {
     "elapsed": 7004,
     "status": "ok",
     "timestamp": 1611108054512,
     "user": {
      "displayName": "Deven Yantis (Deven)",
      "photoUrl": "https://lh3.googleusercontent.com/a-/AOh14GhvP5W8J7Hz2cWKHBt4UCPzSoj0W1pWuf37hx8=s64",
      "userId": "03984650301693922870"
     },
     "user_tz": -480
    },
    "id": "jNDM581YK804",
    "outputId": "113c9535-1f25-467e-c7d8-9858f30b2ee5"
   },
   "outputs": [],
   "source": [
    "# Get value only\r\n",
    "prediction_np[0]"
   ]
  },
  {
   "cell_type": "markdown",
   "metadata": {
    "id": "dzO1wXW6OBBJ"
   },
   "source": [
    "### Extra: Let's view the trained weight"
   ]
  },
  {
   "cell_type": "code",
   "execution_count": null,
   "metadata": {
    "colab": {
     "base_uri": "https://localhost:8080/"
    },
    "executionInfo": {
     "elapsed": 6999,
     "status": "ok",
     "timestamp": 1611108054515,
     "user": {
      "displayName": "Deven Yantis (Deven)",
      "photoUrl": "https://lh3.googleusercontent.com/a-/AOh14GhvP5W8J7Hz2cWKHBt4UCPzSoj0W1pWuf37hx8=s64",
      "userId": "03984650301693922870"
     },
     "user_tz": -480
    },
    "id": "g83ZNJCDLKuQ",
    "outputId": "29968391-5e48-4b50-9708-a12283314e36"
   },
   "outputs": [],
   "source": [
    "model.state_dict()"
   ]
  }
 ],
 "metadata": {
  "accelerator": "GPU",
  "colab": {
   "authorship_tag": "ABX9TyPa3W7cWnz8kPyKfl+nlsG3",
   "collapsed_sections": [
    "5IKIRVSRK21S",
    "dzO1wXW6OBBJ"
   ],
   "mount_file_id": "159b80Wx0zCklzjFR_Vr9borcs7pgFDK3",
   "name": "Answer - Regression.ipynb",
   "provenance": []
  },
  "kernelspec": {
   "display_name": "Python 3",
   "language": "python",
   "name": "python3"
  },
  "language_info": {
   "codemirror_mode": {
    "name": "ipython",
    "version": 3
   },
   "file_extension": ".py",
   "mimetype": "text/x-python",
   "name": "python",
   "nbconvert_exporter": "python",
   "pygments_lexer": "ipython3",
   "version": "3.7.7"
  }
 },
 "nbformat": 4,
 "nbformat_minor": 4
}
