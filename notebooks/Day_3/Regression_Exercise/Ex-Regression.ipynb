{
 "cells": [
  {
   "cell_type": "markdown",
   "metadata": {
    "id": "i5OW4csoRjXr"
   },
   "source": [
    "# Part 2 - Regression with PyTorch"
   ]
  },
  {
   "cell_type": "code",
   "execution_count": null,
   "metadata": {
    "id": "0WcjqDImRf87"
   },
   "outputs": [],
   "source": [
    "import os\r\n",
    "import torch\r\n",
    "import torch.nn as nn\r\n",
    "import torch.nn.functional as F\r\n",
    "import torch.optim as optim\r\n",
    "from matplotlib import pyplot as plt\r\n",
    "\r\n",
    "# To disable all warnings\r\n",
    "import warnings\r\n",
    "warnings.filterwarnings(\"ignore\")"
   ]
  },
  {
   "cell_type": "code",
   "execution_count": null,
   "metadata": {
    "id": "TegKk2P5M3xK"
   },
   "outputs": [],
   "source": [
    "print(torch.__version__)"
   ]
  },
  {
   "cell_type": "code",
   "execution_count": null,
   "metadata": {
    "id": "jNYWWGqo0Fkm"
   },
   "outputs": [],
   "source": [
    "# Device to perform training. Default to 'cpu'\r\n",
    "device = 'cuda'"
   ]
  },
  {
   "cell_type": "markdown",
   "metadata": {
    "id": "L7yS0sZ8Ls8H"
   },
   "source": [
    "## Prepare Dummy Data"
   ]
  },
  {
   "cell_type": "code",
   "execution_count": null,
   "metadata": {
    "id": "ZFOUrJxwXsJi"
   },
   "outputs": [],
   "source": [
    "X = [1, 2, 3, 4, 5, 6, 7, 8, 9, 10]\r\n",
    "y = [4, 8, 12, 16, 20, 24, 28, 32, 36, 40]\r\n",
    "\r\n",
    "X_tensor = torch.tensor(X).float().to(device)\r\n",
    "y_tensor = torch.tensor(y).float().to(device)"
   ]
  },
  {
   "cell_type": "markdown",
   "metadata": {
    "id": "-mtvBedpLz31"
   },
   "source": [
    "## Hyperparameter"
   ]
  },
  {
   "cell_type": "code",
   "execution_count": null,
   "metadata": {
    "id": "-vKKszIyLXYT"
   },
   "outputs": [],
   "source": [
    "learning_rate = 0.1\r\n",
    "momentum = 0.5\r\n",
    "n_epochs = 100"
   ]
  },
  {
   "cell_type": "markdown",
   "metadata": {
    "id": "EDZsbPpHLwea"
   },
   "source": [
    "## Define model"
   ]
  },
  {
   "cell_type": "code",
   "execution_count": null,
   "metadata": {
    "id": "HQrG4ScyYtoo"
   },
   "outputs": [],
   "source": [
    "# EXERCISE: Create you model here\r\n",
    "class Net(nn.Module):\r\n",
    "    pass"
   ]
  },
  {
   "cell_type": "code",
   "execution_count": null,
   "metadata": {
    "id": "Wnef-6bHg_9M"
   },
   "outputs": [],
   "source": [
    "# EXERCISE: Build model instance. Set training to GPU\r\n",
    "model = None"
   ]
  },
  {
   "cell_type": "code",
   "execution_count": null,
   "metadata": {
    "id": "PuaOBb6ML6HJ"
   },
   "outputs": [],
   "source": [
    "# EXERCISE: Define training optimizer\r\n",
    "optimizer = None"
   ]
  },
  {
   "cell_type": "markdown",
   "metadata": {
    "id": "QLEf2nTQL_qg"
   },
   "source": [
    "## Train model"
   ]
  },
  {
   "cell_type": "code",
   "execution_count": null,
   "metadata": {
    "id": "MQttClGbaOrh"
   },
   "outputs": [],
   "source": [
    "loss_values = []\r\n",
    "\r\n",
    "for epoch in range(1, n_epochs + 1):\r\n",
    "    print(\"Epoch {:02d}\".format(epoch))\r\n",
    "    log_interval = 10\r\n",
    "    model.train()\r\n",
    "\r\n",
    "    running_loss = 0.0\r\n",
    "\r\n",
    "    for batch_idx, (data, target) in enumerate(zip(X_tensor, y_tensor)):\r\n",
    "\r\n",
    "        # EXERCISE: Build your training loop Here\r\n",
    "        pass"
   ]
  },
  {
   "cell_type": "code",
   "execution_count": null,
   "metadata": {
    "id": "ei2pQJASbCUI"
   },
   "outputs": [],
   "source": [
    "model_path = os.path.join(\"model.pth\")\r\n",
    "torch.save(model.state_dict(), model_path)"
   ]
  },
  {
   "cell_type": "code",
   "execution_count": null,
   "metadata": {
    "id": "rb3pEeYRtUZr"
   },
   "outputs": [],
   "source": [
    "ax = plt.plot(loss_values)\r\n",
    "plt.title(\"Training Loss\")"
   ]
  },
  {
   "cell_type": "markdown",
   "metadata": {
    "id": "nCTYWVsRIOV4"
   },
   "source": [
    "## Test Model"
   ]
  },
  {
   "cell_type": "code",
   "execution_count": null,
   "metadata": {
    "id": "9be2NOFXgUYD"
   },
   "outputs": [],
   "source": [
    "# EXERCISE: Prepare test data. Test the model with input 11\r\n",
    "test_data = None"
   ]
  },
  {
   "cell_type": "code",
   "execution_count": null,
   "metadata": {
    "id": "MwuHUDwDc3sz"
   },
   "outputs": [],
   "source": [
    "# Set model in inference mode\r\n",
    "# Will change behavior of certain layers from training to inference. eg: dropout, batchnorm\r\n",
    "model.eval()\r\n",
    "\r\n",
    "with torch.no_grad():\r\n",
    "    prediction = model(test_data)"
   ]
  },
  {
   "cell_type": "code",
   "execution_count": null,
   "metadata": {
    "id": "zouaLkfxII7e"
   },
   "outputs": [],
   "source": [
    "print(prediction)"
   ]
  },
  {
   "cell_type": "markdown",
   "metadata": {
    "id": "5IKIRVSRK21S"
   },
   "source": [
    "### Extra: Tensor to numpy"
   ]
  },
  {
   "cell_type": "code",
   "execution_count": null,
   "metadata": {
    "id": "BxKdZ8goI34I"
   },
   "outputs": [],
   "source": [
    "prediction_np = prediction.cpu().detach().numpy()\r\n",
    "prediction_np"
   ]
  },
  {
   "cell_type": "code",
   "execution_count": null,
   "metadata": {
    "id": "jNDM581YK804"
   },
   "outputs": [],
   "source": [
    "# Get value only\r\n",
    "prediction_np[0]"
   ]
  },
  {
   "cell_type": "markdown",
   "metadata": {
    "id": "dzO1wXW6OBBJ"
   },
   "source": [
    "### Extra: Let's view the trained weight"
   ]
  },
  {
   "cell_type": "code",
   "execution_count": null,
   "metadata": {
    "id": "g83ZNJCDLKuQ"
   },
   "outputs": [],
   "source": [
    "model.state_dict()"
   ]
  }
 ],
 "metadata": {
  "accelerator": "GPU",
  "colab": {
   "authorship_tag": "ABX9TyPrucAVOkJu80KEjrb5t8qh",
   "mount_file_id": "159b80Wx0zCklzjFR_Vr9borcs7pgFDK3",
   "name": "Exercise - Regression.ipynb",
   "provenance": []
  },
  "kernelspec": {
   "display_name": "Python 3",
   "language": "python",
   "name": "python3"
  },
  "language_info": {
   "codemirror_mode": {
    "name": "ipython",
    "version": 3
   },
   "file_extension": ".py",
   "mimetype": "text/x-python",
   "name": "python",
   "nbconvert_exporter": "python",
   "pygments_lexer": "ipython3",
   "version": "3.7.7"
  }
 },
 "nbformat": 4,
 "nbformat_minor": 4
}
